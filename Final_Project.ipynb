{
  "nbformat": 4,
  "nbformat_minor": 0,
  "metadata": {
    "colab": {
      "name": "Final_Project.ipynb",
      "version": "0.3.2",
      "provenance": [],
      "collapsed_sections": []
    },
    "kernelspec": {
      "name": "python3",
      "display_name": "Python 3"
    },
    "accelerator": "GPU"
  },
  "cells": [
    {
      "metadata": {
        "id": "8dWYMblOO67_",
        "colab_type": "code",
        "outputId": "c1a636d7-a094-47b9-eb47-ef71f92b88f1",
        "colab": {
          "base_uri": "https://localhost:8080/",
          "height": 139
        }
      },
      "cell_type": "code",
      "source": [
        "from google.colab import drive\n",
        "\n",
        "drive.mount(\"/content/drive\")\n",
        "!ls \"/content/drive\""
      ],
      "execution_count": 1,
      "outputs": [
        {
          "output_type": "stream",
          "text": [
            "Go to this URL in a browser: https://accounts.google.com/o/oauth2/auth?client_id=947318989803-6bn6qk8qdgf4n4g3pfee6491hc0brc4i.apps.googleusercontent.com&redirect_uri=urn%3Aietf%3Awg%3Aoauth%3A2.0%3Aoob&scope=email%20https%3A%2F%2Fwww.googleapis.com%2Fauth%2Fdocs.test%20https%3A%2F%2Fwww.googleapis.com%2Fauth%2Fdrive%20https%3A%2F%2Fwww.googleapis.com%2Fauth%2Fdrive.photos.readonly%20https%3A%2F%2Fwww.googleapis.com%2Fauth%2Fpeopleapi.readonly&response_type=code\n",
            "\n",
            "Enter your authorization code:\n",
            "··········\n",
            "Mounted at /content/drive\n",
            "'My Drive'\n"
          ],
          "name": "stdout"
        }
      ]
    },
    {
      "metadata": {
        "id": "1iFYwD6aP9co",
        "colab_type": "code",
        "colab": {}
      },
      "cell_type": "code",
      "source": [
        "import pandas as pd\n",
        "\n",
        "# Import facial emotion recognition dataset.\n",
        "data = pd.read_csv(\"/content/drive/My Drive/fer2013.csv\")\n"
      ],
      "execution_count": 0,
      "outputs": []
    },
    {
      "metadata": {
        "id": "7sXjTnw9Ueby",
        "colab_type": "code",
        "outputId": "df29bb48-268b-4db8-c2e4-a8db2a14063c",
        "colab": {
          "base_uri": "https://localhost:8080/",
          "height": 34
        }
      },
      "cell_type": "code",
      "source": [
        "# Number of samples in the dataset.\n",
        "len(data)"
      ],
      "execution_count": 0,
      "outputs": [
        {
          "output_type": "execute_result",
          "data": {
            "text/plain": [
              "35887"
            ]
          },
          "metadata": {
            "tags": []
          },
          "execution_count": 3
        }
      ]
    },
    {
      "metadata": {
        "id": "nQdRXxF6QaSx",
        "colab_type": "code",
        "outputId": "ed52722c-8793-47db-e5aa-370a4b03424d",
        "colab": {
          "base_uri": "https://localhost:8080/",
          "height": 34
        }
      },
      "cell_type": "code",
      "source": [
        "from keras.preprocessing import image\n",
        "import numpy as np\n",
        "\n",
        "# Convert pixels to floats. \n",
        "data['pixels'] = data['pixels'].apply(lambda m : np.asarray(m.split(' '), dtype = 'float32'))"
      ],
      "execution_count": 0,
      "outputs": [
        {
          "output_type": "stream",
          "text": [
            "Using TensorFlow backend.\n"
          ],
          "name": "stderr"
        }
      ]
    },
    {
      "metadata": {
        "id": "-j5ferV_yFKN",
        "colab_type": "code",
        "colab": {}
      },
      "cell_type": "code",
      "source": [
        "# Split into training and test sets. \n",
        "train = data.loc[data['Usage'] == 'Training']\n",
        "test = data.loc[data['Usage'] != 'Training']"
      ],
      "execution_count": 0,
      "outputs": []
    },
    {
      "metadata": {
        "id": "HYyWu_pxQRuA",
        "colab_type": "code",
        "colab": {}
      },
      "cell_type": "code",
      "source": [
        "from sklearn.model_selection import train_test_split\n",
        "\n",
        "# Convert pixel arrays to 48x48 matrices and format to be fed into CNNs. \n",
        "X_train_set = train['pixels']\n",
        "\n",
        "X_train_vals = []\n",
        "for x in X_train_set:\n",
        "    x = np.asarray(x).reshape(48, 48)\n",
        "    X_train_vals.append(x)\n",
        "    \n",
        "    \n",
        "X_train_vals = np.asarray(X_train_vals)\n",
        "X_train_vals = np.expand_dims(X_train_vals, -1)  \n",
        "y_train_vals = pd.get_dummies(train['emotion']).as_matrix()\n",
        "    \n",
        "X_train, X_val, y_train, y_val = train_test_split(X_train_vals, y_train_vals, test_size=0.10, random_state=1357)\n",
        "\n"
      ],
      "execution_count": 0,
      "outputs": []
    },
    {
      "metadata": {
        "id": "5ccEnC8e42A8",
        "colab_type": "code",
        "outputId": "4f846818-95ef-4b66-b5cd-64f4f188990c",
        "colab": {
          "base_uri": "https://localhost:8080/",
          "height": 34
        }
      },
      "cell_type": "code",
      "source": [
        "y_val.shape"
      ],
      "execution_count": 0,
      "outputs": [
        {
          "output_type": "execute_result",
          "data": {
            "text/plain": [
              "(2871, 7)"
            ]
          },
          "metadata": {
            "tags": []
          },
          "execution_count": 11
        }
      ]
    },
    {
      "metadata": {
        "id": "v6bC6krw3p5P",
        "colab_type": "code",
        "colab": {}
      },
      "cell_type": "code",
      "source": [
        "# Convert pixel arrays to 48x48 matrices and format to be fed into CNNs. \n",
        "X_test_set = test['pixels']\n",
        "\n",
        "X_test = []\n",
        "for x in X_test_set:\n",
        "    x = np.asarray(x).reshape(48, 48)\n",
        "    X_test.append(x)\n",
        "    \n",
        "X_test = np.asarray(X_test)\n",
        "X_test = np.expand_dims(X_test, -1) \n",
        "\n",
        "y_test = pd.get_dummies(test['emotion']).as_matrix()"
      ],
      "execution_count": 0,
      "outputs": []
    },
    {
      "metadata": {
        "id": "DBOgVskRTJzZ",
        "colab_type": "code",
        "outputId": "8beddc7d-3be6-491a-8914-07f388e9cbda",
        "colab": {
          "base_uri": "https://localhost:8080/",
          "height": 34
        }
      },
      "cell_type": "code",
      "source": [
        "y_test.shape"
      ],
      "execution_count": 0,
      "outputs": [
        {
          "output_type": "execute_result",
          "data": {
            "text/plain": [
              "(7178, 7)"
            ]
          },
          "metadata": {
            "tags": []
          },
          "execution_count": 13
        }
      ]
    },
    {
      "metadata": {
        "id": "Mc6SYPkhQwVK",
        "colab_type": "code",
        "outputId": "0a056351-0a94-4b81-a480-55332f47d539",
        "colab": {
          "base_uri": "https://localhost:8080/",
          "height": 269
        }
      },
      "cell_type": "code",
      "source": [
        "import matplotlib.pyplot as plt\n",
        "\n",
        "# Example of image from dataset. \n",
        "plt.imshow(data['pixels'].iloc[10].reshape((48, 48)) , cmap = 'gist_gray')\n",
        "plt.show()"
      ],
      "execution_count": 0,
      "outputs": [
        {
          "output_type": "display_data",
          "data": {
            "image/png": "[encoded data removed]",
            "text/plain": [
              "<Figure size 432x288 with 1 Axes>"
            ]
          },
          "metadata": {
            "tags": []
          }
        }
      ]
    },
    {
      "metadata": {
        "id": "2j7itBWrTsLS",
        "colab_type": "text"
      },
      "cell_type": "markdown",
      "source": [
        "Showing frequency of each class in the dataset. The dataset seems to include the most samples of the happy emotion and the least of disgust. <br>\n",
        "Emotions: <br>\n",
        "0. Anger <br>\n",
        "1. Disgust <br>\n",
        "2. Fear <br>\n",
        "3. Happy <br>\n",
        "4. Sad <br>\n",
        "5. Surprise <br>\n",
        "6. Neutral <br>"
      ]
    },
    {
      "metadata": {
        "id": "JO7WO9JMuUR_",
        "colab_type": "code",
        "outputId": "b447cbf7-3983-4c99-c33d-667b6ccf2062",
        "colab": {
          "base_uri": "https://localhost:8080/",
          "height": 412
        }
      },
      "cell_type": "code",
      "source": [
        "import seaborn as sns\n",
        "import matplotlib.pyplot as plt\n",
        "\n",
        "# Emotions:\n",
        "1. \n",
        "count = train['emotion'].value_counts()\n",
        "\n",
        "sns.set(style=\"darkgrid\")\n",
        "sns.barplot(count.index, count.values, alpha=0.9)\n",
        "plt.title('Frequency Distribution of Emotions')\n",
        "plt.ylabel('Number of Occurrences', fontsize=12)\n",
        "plt.xlabel(\"Emotion\", fontsize=12)\n",
        "plt.xticks(rotation=0)\n",
        "plt.show()\n"
      ],
      "execution_count": 0,
      "outputs": [
        {
          "output_type": "stream",
          "text": [
            "/usr/local/lib/python3.6/dist-packages/seaborn/categorical.py:1428: FutureWarning: remove_na is deprecated and is a private function. Do not use.\n",
            "  stat_data = remove_na(group_data)\n"
          ],
          "name": "stderr"
        },
        {
          "output_type": "display_data",
          "data": {
            "image/png": "[encoded data removed]",
            "text/plain": [
              "<Figure size 576x396 with 1 Axes>"
            ]
          },
          "metadata": {
            "tags": []
          }
        }
      ]
    },
    {
      "metadata": {
        "id": "tU6RCMknRoPZ",
        "colab_type": "code",
        "outputId": "f7a2e178-d214-4064-d541-5765afd2bd3b",
        "colab": {
          "base_uri": "https://localhost:8080/",
          "height": 147
        }
      },
      "cell_type": "code",
      "source": [
        "# Counts of each emotion class. \n",
        "data['emotion'].value_counts()"
      ],
      "execution_count": 0,
      "outputs": [
        {
          "output_type": "execute_result",
          "data": {
            "text/plain": [
              "3    8989\n",
              "6    6198\n",
              "4    6077\n",
              "2    5121\n",
              "0    4953\n",
              "5    4002\n",
              "1     547\n",
              "Name: emotion, dtype: int64"
            ]
          },
          "metadata": {
            "tags": []
          },
          "execution_count": 5
        }
      ]
    },
    {
      "metadata": {
        "id": "U9qL7YhwR-A4",
        "colab_type": "code",
        "outputId": "155887e0-762d-4a8a-9cf9-17fc0b4da9ad",
        "colab": {
          "base_uri": "https://localhost:8080/",
          "height": 136
        }
      },
      "cell_type": "code",
      "source": [
        "print(\"Anger\", 4953 / len(data))\n",
        "print(\"Disgust\", 547 / len(data))\n",
        "print(\"Fear\", 5121 / len(data))\n",
        "print(\"Happy\", 8989 / len(data))\n",
        "print(\"Sad\", 6077 / len(data))\n",
        "print(\"Surprise\", 4002 / len(data))\n",
        "print(\"Neutral\", 6198 / len(data))"
      ],
      "execution_count": 5,
      "outputs": [
        {
          "output_type": "stream",
          "text": [
            "Anger 0.13801655195474685\n",
            "Disgust 0.01524228829381113\n",
            "Fear 0.14269791289324826\n",
            "Happy 0.25048067545350683\n",
            "Sad 0.1693370858528158\n",
            "Surprise 0.11151670521358709\n",
            "Neutral 0.17270878033828405\n"
          ],
          "name": "stdout"
        }
      ]
    },
    {
      "metadata": {
        "id": "BDLyPHQa8-95",
        "colab_type": "text"
      },
      "cell_type": "markdown",
      "source": [
        "**Implementation of VGG11 and VGG16 architectures. The achitecture experiments with building networks of increasing depth for image recognition. The models are able to increase their depth due to the use of a small filter. The architecture adds layers and uses a (3x3) filter in each convolution layer. **"
      ]
    },
    {
      "metadata": {
        "id": "bNMAPUz1pmJ9",
        "colab_type": "text"
      },
      "cell_type": "markdown",
      "source": [
        "# VGG Implementations"
      ]
    },
    {
      "metadata": {
        "id": "WJhOjDVQaxI_",
        "colab_type": "code",
        "colab": {}
      },
      "cell_type": "code",
      "source": [
        "import keras\n",
        "from keras.models import Sequential\n",
        "from keras.layers import Conv2D, MaxPooling2D, Flatten, Dense, Dropout\n",
        "\n",
        "def vgg(m, dropout, more_drop):\n",
        "  model = Sequential()\n",
        "  \n",
        "  if (m == \"vgg11\"):\n",
        "    # Convolution Block 1\n",
        "    model.add(Conv2D(64, (3,3), input_shape=(48,48,1), activation='relu', padding='same'))\n",
        "    model.add(MaxPooling2D(pool_size=(2,2), strides=(2,2)))\n",
        "    if (dropout):\n",
        "      model.add(Dropout(0.5))\n",
        "  \n",
        "      \n",
        "    # Convolution Block 2\n",
        "    model.add(Conv2D(128, (3, 3), activation='relu', padding='same'))\n",
        "    model.add(MaxPooling2D(pool_size=(2, 2), strides=(2, 2)))\n",
        "    if (more_drop):\n",
        "      model.add(Dropout(0.5))\n",
        "             \n",
        "    # Conv Block 3\n",
        "    model.add(Conv2D(256, (3, 3), activation='relu', padding='same'))\n",
        "    model.add(Conv2D(256, (3, 3), activation='relu', padding='same'))\n",
        "    model.add(MaxPooling2D(pool_size=(2, 2), strides=(2, 2)))\n",
        "    if (dropout):\n",
        "      model.add(Dropout(0.5))\n",
        "    # Conv Block 4\n",
        "    model.add(Conv2D(512, (3, 3), activation='relu', padding='same'))\n",
        "    model.add(Conv2D(512, (3, 3), activation='relu', padding='same'))\n",
        "    model.add(MaxPooling2D(pool_size=(2, 2), strides=(2, 2)))\n",
        "    if (more_drop):\n",
        "      model.add(Dropout(0.5))\n",
        "\n",
        "                \n",
        "    # Conv Block 5\n",
        "    model.add(Conv2D(512, (3, 3), activation='relu', padding='same'))\n",
        "    model.add(Conv2D(512, (3, 3), activation='relu', padding='same'))\n",
        "    model.add(MaxPooling2D(pool_size=(2, 2), strides=(2, 2)))\n",
        "    if (dropout):\n",
        "      model.add(Dropout(0.5))\n",
        "\n",
        "    # FC layers\n",
        "    model.add(Flatten())\n",
        "    model.add(Dense(2048, activation='relu'))\n",
        "    model.add(Dense(2048, activation='relu'))\n",
        "    model.add(Dense(7, activation='softmax'))\n",
        " \n",
        "                \n",
        "  if (m == \"vgg16\"):\n",
        "    # Convolution Block 1\n",
        "    model.add(Conv2D(64, (3,3), input_shape=(48,48,1), activation='relu', padding='same'))\n",
        "    model.add(Conv2D(64, (3,3), activation='relu', padding='same'))\n",
        "    model.add(MaxPooling2D(pool_size=(2,2), strides=(2,2)))\n",
        "    if (dropout):\n",
        "      model.add(Dropout(0.5))\n",
        "                \n",
        "    # Convolution Block 2\n",
        "    model.add(Conv2D(128, (3, 3), activation='relu', padding='same'))\n",
        "    model.add(Conv2D(128, (3, 3), activation='relu', padding='same'))\n",
        "    model.add(MaxPooling2D(pool_size=(2, 2), strides=(2, 2)))\n",
        "    if (more_drop):\n",
        "      model.add(Dropout(0.5))\n",
        "                \n",
        "               \n",
        "    # Conv Block 3\n",
        "    model.add(Conv2D(256, (3, 3), activation='relu', padding='same'))\n",
        "    model.add(Conv2D(256, (3, 3), activation='relu', padding='same'))\n",
        "    model.add(Conv2D(256, (3, 3), activation='relu', padding='same'))\n",
        "    model.add(MaxPooling2D(pool_size=(2, 2), strides=(2, 2)))\n",
        "    if (dropout):\n",
        "      model.add(Dropout(0.5))\n",
        "                \n",
        "    # Conv Block 4\n",
        "    model.add(Conv2D(512, (3, 3), activation='relu', padding='same'))\n",
        "    model.add(Conv2D(512, (3, 3), activation='relu', padding='same'))\n",
        "    model.add(Conv2D(512, (3, 3), activation='relu', padding='same'))\n",
        "    model.add(MaxPooling2D(pool_size=(2, 2), strides=(2, 2)))\n",
        "    if (more_drop):\n",
        "      model.add(Dropout(0.5))\n",
        "                \n",
        "    # Conv Block 5\n",
        "    model.add(Conv2D(512, (3, 3), activation='relu', padding='same'))\n",
        "    model.add(Conv2D(512, (3, 3), activation='relu', padding='same'))\n",
        "    model.add(Conv2D(512, (3, 3), activation='relu', padding='same'))\n",
        "    model.add(MaxPooling2D(pool_size=(2, 2), strides=(2, 2)))\n",
        "    if (dropout):\n",
        "      model.add(Dropout(0.5))\n",
        "\n",
        "    # FC layers\n",
        "    model.add(Flatten())\n",
        "    model.add(Dense(2048, activation='relu'))\n",
        "    model.add(Dense(2048, activation='relu'))\n",
        "    model.add(Dense(7, activation='softmax'))\n",
        "    \n",
        "  return model\n"
      ],
      "execution_count": 0,
      "outputs": []
    },
    {
      "metadata": {
        "id": "J0OeIfrbGVkB",
        "colab_type": "text"
      },
      "cell_type": "markdown",
      "source": [
        "# Vanilla VGG11"
      ]
    },
    {
      "metadata": {
        "id": "Cj23Wd3kGqZZ",
        "colab_type": "text"
      },
      "cell_type": "markdown",
      "source": [
        "**VGG11 model with batch size of 32.**"
      ]
    },
    {
      "metadata": {
        "id": "MYueLWQiqLyJ",
        "colab_type": "code",
        "outputId": "79455424-c1a2-45f7-c8c4-2293c47337da",
        "colab": {
          "base_uri": "https://localhost:8080/",
          "height": 88
        }
      },
      "cell_type": "code",
      "source": [
        "vgg11_32 = vgg(\"vgg11\", False, False)"
      ],
      "execution_count": 0,
      "outputs": [
        {
          "output_type": "stream",
          "text": [
            "WARNING:tensorflow:From /usr/local/lib/python3.6/dist-packages/tensorflow/python/framework/op_def_library.py:263: colocate_with (from tensorflow.python.framework.ops) is deprecated and will be removed in a future version.\n",
            "Instructions for updating:\n",
            "Colocations handled automatically by placer.\n"
          ],
          "name": "stdout"
        }
      ]
    },
    {
      "metadata": {
        "id": "J-F81WbmVz2k",
        "colab_type": "code",
        "outputId": "1e87500e-329c-475f-a156-b752a7a3a370",
        "colab": {
          "base_uri": "https://localhost:8080/",
          "height": 714
        }
      },
      "cell_type": "code",
      "source": [
        "vgg11_32.summary()"
      ],
      "execution_count": 0,
      "outputs": [
        {
          "output_type": "stream",
          "text": [
            "_________________________________________________________________\n",
            "Layer (type)                 Output Shape              Param #   \n",
            "=================================================================\n",
            "conv2d_1 (Conv2D)            (None, 48, 48, 64)        640       \n",
            "_________________________________________________________________\n",
            "max_pooling2d_1 (MaxPooling2 (None, 24, 24, 64)        0         \n",
            "_________________________________________________________________\n",
            "conv2d_2 (Conv2D)            (None, 24, 24, 128)       73856     \n",
            "_________________________________________________________________\n",
            "max_pooling2d_2 (MaxPooling2 (None, 12, 12, 128)       0         \n",
            "_________________________________________________________________\n",
            "conv2d_3 (Conv2D)            (None, 12, 12, 256)       295168    \n",
            "_________________________________________________________________\n",
            "conv2d_4 (Conv2D)            (None, 12, 12, 256)       590080    \n",
            "_________________________________________________________________\n",
            "max_pooling2d_3 (MaxPooling2 (None, 6, 6, 256)         0         \n",
            "_________________________________________________________________\n",
            "conv2d_5 (Conv2D)            (None, 6, 6, 512)         1180160   \n",
            "_________________________________________________________________\n",
            "conv2d_6 (Conv2D)            (None, 6, 6, 512)         2359808   \n",
            "_________________________________________________________________\n",
            "max_pooling2d_4 (MaxPooling2 (None, 3, 3, 512)         0         \n",
            "_________________________________________________________________\n",
            "conv2d_7 (Conv2D)            (None, 3, 3, 512)         2359808   \n",
            "_________________________________________________________________\n",
            "conv2d_8 (Conv2D)            (None, 3, 3, 512)         2359808   \n",
            "_________________________________________________________________\n",
            "max_pooling2d_5 (MaxPooling2 (None, 1, 1, 512)         0         \n",
            "_________________________________________________________________\n",
            "flatten_1 (Flatten)          (None, 512)               0         \n",
            "_________________________________________________________________\n",
            "dense_1 (Dense)              (None, 2048)              1050624   \n",
            "_________________________________________________________________\n",
            "dense_2 (Dense)              (None, 2048)              4196352   \n",
            "_________________________________________________________________\n",
            "dense_3 (Dense)              (None, 7)                 14343     \n",
            "=================================================================\n",
            "Total params: 14,480,647\n",
            "Trainable params: 14,480,647\n",
            "Non-trainable params: 0\n",
            "_________________________________________________________________\n"
          ],
          "name": "stdout"
        }
      ]
    },
    {
      "metadata": {
        "id": "xrA9Fszl7MUb",
        "colab_type": "code",
        "outputId": "e6533ae0-bf35-4854-abc6-b38346b36c32",
        "colab": {
          "base_uri": "https://localhost:8080/",
          "height": 1295
        }
      },
      "cell_type": "code",
      "source": [
        "vgg11_32.compile(loss='categorical_crossentropy', optimizer='sgd', metrics=['accuracy'])\n",
        "history_11_32 = vgg11_32.fit(X_train, y_train, batch_size=32, epochs=35, validation_data=(X_val, y_val))"
      ],
      "execution_count": 0,
      "outputs": [
        {
          "output_type": "stream",
          "text": [
            "WARNING:tensorflow:From /usr/local/lib/python3.6/dist-packages/tensorflow/python/ops/math_ops.py:3066: to_int32 (from tensorflow.python.ops.math_ops) is deprecated and will be removed in a future version.\n",
            "Instructions for updating:\n",
            "Use tf.cast instead.\n",
            "Train on 25838 samples, validate on 2871 samples\n",
            "Epoch 1/35\n",
            "25838/25838 [==============================] - 52s 2ms/step - loss: 1.7735 - acc: 0.2752 - val_loss: 1.6360 - val_acc: 0.3595\n",
            "Epoch 2/35\n",
            "25838/25838 [==============================] - 45s 2ms/step - loss: 1.5715 - acc: 0.3936 - val_loss: 1.4818 - val_acc: 0.4364\n",
            "Epoch 3/35\n",
            "25838/25838 [==============================] - 45s 2ms/step - loss: 1.4248 - acc: 0.4538 - val_loss: 1.4104 - val_acc: 0.4504\n",
            "Epoch 4/35\n",
            "25838/25838 [==============================] - 45s 2ms/step - loss: 1.2966 - acc: 0.5096 - val_loss: 1.2967 - val_acc: 0.5082\n",
            "Epoch 5/35\n",
            "25838/25838 [==============================] - 45s 2ms/step - loss: 1.1946 - acc: 0.5501 - val_loss: 1.3843 - val_acc: 0.4500\n",
            "Epoch 6/35\n",
            "25838/25838 [==============================] - 45s 2ms/step - loss: 1.1074 - acc: 0.5863 - val_loss: 1.3752 - val_acc: 0.5200\n",
            "Epoch 7/35\n",
            "25838/25838 [==============================] - 45s 2ms/step - loss: 1.0088 - acc: 0.6217 - val_loss: 1.2003 - val_acc: 0.5462\n",
            "Epoch 8/35\n",
            "25838/25838 [==============================] - 45s 2ms/step - loss: 0.9056 - acc: 0.6645 - val_loss: 1.4280 - val_acc: 0.4970\n",
            "Epoch 9/35\n",
            "25838/25838 [==============================] - 45s 2ms/step - loss: 0.7978 - acc: 0.7049 - val_loss: 1.4796 - val_acc: 0.5030\n",
            "Epoch 10/35\n",
            "25838/25838 [==============================] - 45s 2ms/step - loss: 0.6790 - acc: 0.7521 - val_loss: 1.4608 - val_acc: 0.5381\n",
            "Epoch 11/35\n",
            "25838/25838 [==============================] - 45s 2ms/step - loss: 0.5753 - acc: 0.7931 - val_loss: 1.5868 - val_acc: 0.5451\n",
            "Epoch 12/35\n",
            "25838/25838 [==============================] - 45s 2ms/step - loss: 0.4693 - acc: 0.8321 - val_loss: 1.5813 - val_acc: 0.5479\n",
            "Epoch 13/35\n",
            "25838/25838 [==============================] - 45s 2ms/step - loss: 0.3833 - acc: 0.8640 - val_loss: 1.6393 - val_acc: 0.5733\n",
            "Epoch 14/35\n",
            "25838/25838 [==============================] - 45s 2ms/step - loss: 0.3221 - acc: 0.8868 - val_loss: 1.6873 - val_acc: 0.5559\n",
            "Epoch 15/35\n",
            "25838/25838 [==============================] - 45s 2ms/step - loss: 0.2630 - acc: 0.9082 - val_loss: 1.8318 - val_acc: 0.5705\n",
            "Epoch 16/35\n",
            "25838/25838 [==============================] - 45s 2ms/step - loss: 0.2155 - acc: 0.9249 - val_loss: 2.3490 - val_acc: 0.5326\n",
            "Epoch 17/35\n",
            "25838/25838 [==============================] - 45s 2ms/step - loss: 0.1880 - acc: 0.9367 - val_loss: 2.3404 - val_acc: 0.5510\n",
            "Epoch 18/35\n",
            "25838/25838 [==============================] - 45s 2ms/step - loss: 0.1540 - acc: 0.9493 - val_loss: 2.1253 - val_acc: 0.5524\n",
            "Epoch 19/35\n",
            "25838/25838 [==============================] - 45s 2ms/step - loss: 0.1409 - acc: 0.9529 - val_loss: 2.3330 - val_acc: 0.5657\n",
            "Epoch 20/35\n",
            "25838/25838 [==============================] - 45s 2ms/step - loss: 0.1210 - acc: 0.9603 - val_loss: 2.3237 - val_acc: 0.5726\n",
            "Epoch 21/35\n",
            "25838/25838 [==============================] - 45s 2ms/step - loss: 0.0971 - acc: 0.9683 - val_loss: 2.3254 - val_acc: 0.5657\n",
            "Epoch 22/35\n",
            "25838/25838 [==============================] - 45s 2ms/step - loss: 0.0754 - acc: 0.9771 - val_loss: 2.5629 - val_acc: 0.5810\n",
            "Epoch 23/35\n",
            "25838/25838 [==============================] - 45s 2ms/step - loss: 0.0679 - acc: 0.9782 - val_loss: 2.6726 - val_acc: 0.5792\n",
            "Epoch 24/35\n",
            "25838/25838 [==============================] - 45s 2ms/step - loss: 0.0708 - acc: 0.9761 - val_loss: 2.7211 - val_acc: 0.5747\n",
            "Epoch 25/35\n",
            "25838/25838 [==============================] - 45s 2ms/step - loss: 0.0589 - acc: 0.9815 - val_loss: 2.9647 - val_acc: 0.5573\n",
            "Epoch 26/35\n",
            "25838/25838 [==============================] - 45s 2ms/step - loss: 0.0552 - acc: 0.9824 - val_loss: 2.9371 - val_acc: 0.5765\n",
            "Epoch 27/35\n",
            "25838/25838 [==============================] - 45s 2ms/step - loss: 0.0580 - acc: 0.9807 - val_loss: 2.7901 - val_acc: 0.5709\n",
            "Epoch 28/35\n",
            "25838/25838 [==============================] - 45s 2ms/step - loss: 0.0380 - acc: 0.9877 - val_loss: 3.3251 - val_acc: 0.5709\n",
            "Epoch 29/35\n",
            "25838/25838 [==============================] - 45s 2ms/step - loss: 0.0394 - acc: 0.9873 - val_loss: 3.0451 - val_acc: 0.5765\n",
            "Epoch 30/35\n",
            "25838/25838 [==============================] - 45s 2ms/step - loss: 0.0438 - acc: 0.9853 - val_loss: 3.0230 - val_acc: 0.5695\n",
            "Epoch 31/35\n",
            "25838/25838 [==============================] - 45s 2ms/step - loss: 0.0404 - acc: 0.9870 - val_loss: 3.2407 - val_acc: 0.5761\n",
            "Epoch 32/35\n",
            "25838/25838 [==============================] - 45s 2ms/step - loss: 0.0360 - acc: 0.9884 - val_loss: 2.9556 - val_acc: 0.5733\n",
            "Epoch 33/35\n",
            "25838/25838 [==============================] - 45s 2ms/step - loss: 0.0239 - acc: 0.9921 - val_loss: 2.8712 - val_acc: 0.5758\n",
            "Epoch 34/35\n",
            "25838/25838 [==============================] - 45s 2ms/step - loss: 0.0172 - acc: 0.9938 - val_loss: 2.9787 - val_acc: 0.5758\n",
            "Epoch 35/35\n",
            "25838/25838 [==============================] - 45s 2ms/step - loss: 0.0152 - acc: 0.9942 - val_loss: 3.1457 - val_acc: 0.5841\n"
          ],
          "name": "stdout"
        }
      ]
    },
    {
      "metadata": {
        "id": "Gc9z-veQ7Tq-",
        "colab_type": "code",
        "outputId": "238c5399-54d1-4e71-ded6-4a25a07c4de5",
        "colab": {
          "base_uri": "https://localhost:8080/",
          "height": 51
        }
      },
      "cell_type": "code",
      "source": [
        "vgg11_32.evaluate(X_test, y_test)"
      ],
      "execution_count": 0,
      "outputs": [
        {
          "output_type": "stream",
          "text": [
            "7178/7178 [==============================] - 4s 504us/step\n"
          ],
          "name": "stdout"
        },
        {
          "output_type": "execute_result",
          "data": {
            "text/plain": [
              "[3.104441334524338, 0.5835887433991654]"
            ]
          },
          "metadata": {
            "tags": []
          },
          "execution_count": 12
        }
      ]
    },
    {
      "metadata": {
        "id": "4Z3xtnkDG0U8",
        "colab_type": "text"
      },
      "cell_type": "markdown",
      "source": [
        "**Confusion matrix for VGG11 with batch size of 32.**"
      ]
    },
    {
      "metadata": {
        "id": "p_AsKuc_Ge7V",
        "colab_type": "code",
        "outputId": "8a923712-5038-4656-a354-8994a656972b",
        "colab": {
          "base_uri": "https://localhost:8080/",
          "height": 136
        }
      },
      "cell_type": "code",
      "source": [
        "from sklearn.metrics import confusion_matrix\n",
        "\n",
        "vgg11_32_preds = vgg11_32.predict(X_test)\n",
        "confusion_matrix(y_test.argmax(axis=1), vgg11_32_preds.argmax(axis=1))"
      ],
      "execution_count": 0,
      "outputs": [
        {
          "output_type": "execute_result",
          "data": {
            "text/plain": [
              "array([[ 453,   12,  123,   74,  158,   26,  112],\n",
              "       [  24,   59,    6,    9,    5,    2,    6],\n",
              "       [ 125,    3,  436,   68,  179,   67,  146],\n",
              "       [  76,    2,   53, 1397,   91,   44,  111],\n",
              "       [ 162,    4,  149,  120,  555,   13,  244],\n",
              "       [  29,    3,   77,   36,   25,  611,   50],\n",
              "       [ 106,    4,   77,  126,  227,   15,  678]])"
            ]
          },
          "metadata": {
            "tags": []
          },
          "execution_count": 13
        }
      ]
    },
    {
      "metadata": {
        "id": "B_7nZR3nieAl",
        "colab_type": "code",
        "outputId": "f96cadf2-1813-4f6e-b16a-38f933c172bf",
        "colab": {
          "base_uri": "https://localhost:8080/",
          "height": 255
        }
      },
      "cell_type": "code",
      "source": [
        "from sklearn.metrics import classification_report\n",
        "\n",
        "print(classification_report(y_test.argmax(axis=1), vgg11_32_preds.argmax(axis=1)))"
      ],
      "execution_count": 0,
      "outputs": [
        {
          "output_type": "stream",
          "text": [
            "              precision    recall  f1-score   support\n",
            "\n",
            "           0       0.46      0.47      0.47       958\n",
            "           1       0.68      0.53      0.60       111\n",
            "           2       0.47      0.43      0.45      1024\n",
            "           3       0.76      0.79      0.78      1774\n",
            "           4       0.45      0.45      0.45      1247\n",
            "           5       0.79      0.74      0.76       831\n",
            "           6       0.50      0.55      0.53      1233\n",
            "\n",
            "   micro avg       0.58      0.58      0.58      7178\n",
            "   macro avg       0.59      0.56      0.57      7178\n",
            "weighted avg       0.58      0.58      0.58      7178\n",
            "\n"
          ],
          "name": "stdout"
        }
      ]
    },
    {
      "metadata": {
        "id": "zgVIPzsyGvjh",
        "colab_type": "text"
      },
      "cell_type": "markdown",
      "source": [
        "**VGG11 model with batch size of 64.**"
      ]
    },
    {
      "metadata": {
        "id": "wA755fvOIc63",
        "colab_type": "code",
        "colab": {}
      },
      "cell_type": "code",
      "source": [
        "vgg11_64 = vgg(\"vgg11\", False, False)"
      ],
      "execution_count": 0,
      "outputs": []
    },
    {
      "metadata": {
        "id": "WFjjZuRh7CHX",
        "colab_type": "code",
        "outputId": "aad99b81-09e6-48dd-853e-89920c5b607d",
        "colab": {
          "base_uri": "https://localhost:8080/",
          "height": 1224
        }
      },
      "cell_type": "code",
      "source": [
        "vgg11_64.compile(loss='categorical_crossentropy', optimizer='sgd', metrics=['accuracy'])\n",
        "history_11_64 = vgg11_64.fit(X_train, y_train, batch_size=64, epochs=35, validation_data=(X_val, y_val))"
      ],
      "execution_count": 0,
      "outputs": [
        {
          "output_type": "stream",
          "text": [
            "Train on 25838 samples, validate on 2871 samples\n",
            "Epoch 1/35\n",
            "25838/25838 [==============================] - 34s 1ms/step - loss: 1.7730 - acc: 0.2785 - val_loss: 1.9432 - val_acc: 0.1738\n",
            "Epoch 2/35\n",
            "25838/25838 [==============================] - 32s 1ms/step - loss: 1.6096 - acc: 0.3753 - val_loss: 1.5731 - val_acc: 0.3932\n",
            "Epoch 3/35\n",
            "25838/25838 [==============================] - 32s 1ms/step - loss: 1.4945 - acc: 0.4263 - val_loss: 1.5243 - val_acc: 0.4131\n",
            "Epoch 4/35\n",
            "25838/25838 [==============================] - 32s 1ms/step - loss: 1.4049 - acc: 0.4613 - val_loss: 1.3925 - val_acc: 0.4594\n",
            "Epoch 5/35\n",
            "25838/25838 [==============================] - 32s 1ms/step - loss: 1.3120 - acc: 0.5003 - val_loss: 1.3734 - val_acc: 0.4664\n",
            "Epoch 6/35\n",
            "25838/25838 [==============================] - 32s 1ms/step - loss: 1.2266 - acc: 0.5363 - val_loss: 1.2977 - val_acc: 0.5148\n",
            "Epoch 7/35\n",
            "25838/25838 [==============================] - 32s 1ms/step - loss: 1.1437 - acc: 0.5709 - val_loss: 1.2778 - val_acc: 0.5221\n",
            "Epoch 8/35\n",
            "25838/25838 [==============================] - 32s 1ms/step - loss: 1.0568 - acc: 0.6053 - val_loss: 1.3573 - val_acc: 0.5096\n",
            "Epoch 9/35\n",
            "25838/25838 [==============================] - 32s 1ms/step - loss: 0.9651 - acc: 0.6411 - val_loss: 1.3779 - val_acc: 0.4911\n",
            "Epoch 10/35\n",
            "25838/25838 [==============================] - 32s 1ms/step - loss: 0.8732 - acc: 0.6793 - val_loss: 1.2813 - val_acc: 0.5392\n",
            "Epoch 11/35\n",
            "25838/25838 [==============================] - 32s 1ms/step - loss: 0.7716 - acc: 0.7172 - val_loss: 1.4247 - val_acc: 0.5378\n",
            "Epoch 12/35\n",
            "25838/25838 [==============================] - 32s 1ms/step - loss: 0.6534 - acc: 0.7621 - val_loss: 1.4127 - val_acc: 0.5524\n",
            "Epoch 13/35\n",
            "25838/25838 [==============================] - 32s 1ms/step - loss: 0.5642 - acc: 0.7968 - val_loss: 1.6793 - val_acc: 0.5266\n",
            "Epoch 14/35\n",
            "25838/25838 [==============================] - 32s 1ms/step - loss: 0.4623 - acc: 0.8330 - val_loss: 1.5612 - val_acc: 0.5472\n",
            "Epoch 15/35\n",
            "25838/25838 [==============================] - 32s 1ms/step - loss: 0.3671 - acc: 0.8709 - val_loss: 1.8219 - val_acc: 0.5434\n",
            "Epoch 16/35\n",
            "25838/25838 [==============================] - 32s 1ms/step - loss: 0.3182 - acc: 0.8881 - val_loss: 1.7249 - val_acc: 0.5549\n",
            "Epoch 17/35\n",
            "25838/25838 [==============================] - 32s 1ms/step - loss: 0.2383 - acc: 0.9194 - val_loss: 1.8910 - val_acc: 0.5482\n",
            "Epoch 18/35\n",
            "25838/25838 [==============================] - 32s 1ms/step - loss: 0.2167 - acc: 0.9269 - val_loss: 2.1412 - val_acc: 0.5214\n",
            "Epoch 19/35\n",
            "25838/25838 [==============================] - 32s 1ms/step - loss: 0.1881 - acc: 0.9377 - val_loss: 2.1437 - val_acc: 0.5427\n",
            "Epoch 20/35\n",
            "25838/25838 [==============================] - 32s 1ms/step - loss: 0.1551 - acc: 0.9496 - val_loss: 2.0459 - val_acc: 0.5636\n",
            "Epoch 21/35\n",
            "25838/25838 [==============================] - 32s 1ms/step - loss: 0.1129 - acc: 0.9654 - val_loss: 2.3400 - val_acc: 0.5716\n",
            "Epoch 22/35\n",
            "25838/25838 [==============================] - 32s 1ms/step - loss: 0.1064 - acc: 0.9654 - val_loss: 2.3913 - val_acc: 0.5761\n",
            "Epoch 23/35\n",
            "25838/25838 [==============================] - 32s 1ms/step - loss: 0.0877 - acc: 0.9733 - val_loss: 2.6254 - val_acc: 0.5576\n",
            "Epoch 24/35\n",
            "25838/25838 [==============================] - 32s 1ms/step - loss: 0.0833 - acc: 0.9744 - val_loss: 2.5494 - val_acc: 0.5796\n",
            "Epoch 25/35\n",
            "25838/25838 [==============================] - 32s 1ms/step - loss: 0.0623 - acc: 0.9819 - val_loss: 2.5292 - val_acc: 0.5716\n",
            "Epoch 26/35\n",
            "25838/25838 [==============================] - 32s 1ms/step - loss: 0.0556 - acc: 0.9838 - val_loss: 2.6945 - val_acc: 0.5737\n",
            "Epoch 27/35\n",
            "25838/25838 [==============================] - 32s 1ms/step - loss: 0.0510 - acc: 0.9841 - val_loss: 2.9153 - val_acc: 0.5618\n",
            "Epoch 28/35\n",
            "25838/25838 [==============================] - 32s 1ms/step - loss: 0.0458 - acc: 0.9871 - val_loss: 2.6511 - val_acc: 0.5618\n",
            "Epoch 29/35\n",
            "25838/25838 [==============================] - 32s 1ms/step - loss: 0.0305 - acc: 0.9908 - val_loss: 2.9138 - val_acc: 0.5660\n",
            "Epoch 30/35\n",
            "25838/25838 [==============================] - 32s 1ms/step - loss: 0.0198 - acc: 0.9955 - val_loss: 2.8384 - val_acc: 0.5831\n",
            "Epoch 31/35\n",
            "25838/25838 [==============================] - 32s 1ms/step - loss: 0.0131 - acc: 0.9964 - val_loss: 2.7527 - val_acc: 0.5681\n",
            "Epoch 32/35\n",
            "25838/25838 [==============================] - 32s 1ms/step - loss: 0.0120 - acc: 0.9961 - val_loss: 2.8748 - val_acc: 0.5855\n",
            "Epoch 33/35\n",
            "25838/25838 [==============================] - 32s 1ms/step - loss: 0.0089 - acc: 0.9966 - val_loss: 2.8336 - val_acc: 0.5765\n",
            "Epoch 34/35\n",
            "25838/25838 [==============================] - 32s 1ms/step - loss: 0.0082 - acc: 0.9966 - val_loss: 2.8700 - val_acc: 0.5695\n",
            "Epoch 35/35\n",
            "25838/25838 [==============================] - 32s 1ms/step - loss: 0.0066 - acc: 0.9970 - val_loss: 2.8722 - val_acc: 0.5841\n"
          ],
          "name": "stdout"
        }
      ]
    },
    {
      "metadata": {
        "id": "8LiOjhw67U_I",
        "colab_type": "code",
        "outputId": "6cfec683-3266-4ff2-8fb7-11c7c31f17a5",
        "colab": {
          "base_uri": "https://localhost:8080/",
          "height": 51
        }
      },
      "cell_type": "code",
      "source": [
        "vgg11_64.evaluate(X_test, y_test)"
      ],
      "execution_count": 0,
      "outputs": [
        {
          "output_type": "stream",
          "text": [
            "7178/7178 [==============================] - 3s 481us/step\n"
          ],
          "name": "stdout"
        },
        {
          "output_type": "execute_result",
          "data": {
            "text/plain": [
              "[2.7666652867574153, 0.5894399554359444]"
            ]
          },
          "metadata": {
            "tags": []
          },
          "execution_count": 18
        }
      ]
    },
    {
      "metadata": {
        "id": "3nE7L6Y1G-hU",
        "colab_type": "text"
      },
      "cell_type": "markdown",
      "source": [
        "**Confusion matrix for VGG11 with batch size of 64.**"
      ]
    },
    {
      "metadata": {
        "id": "4_g-cPxx99UJ",
        "colab_type": "code",
        "outputId": "95e7d870-2f15-4ba4-fed3-23e1d0a3d0bf",
        "colab": {
          "base_uri": "https://localhost:8080/",
          "height": 136
        }
      },
      "cell_type": "code",
      "source": [
        "from sklearn.metrics import confusion_matrix\n",
        "\n",
        "vgg11_64_preds = vgg11_64.predict(X_test)\n",
        "confusion_matrix(y_test.argmax(axis=1), vgg11_64_preds.argmax(axis=1))"
      ],
      "execution_count": 0,
      "outputs": [
        {
          "output_type": "execute_result",
          "data": {
            "text/plain": [
              "array([[ 494,    9,   95,   66,  178,   22,   94],\n",
              "       [  25,   51,    8,   12,    7,    0,    8],\n",
              "       [ 124,    2,  405,   71,  215,   84,  123],\n",
              "       [  74,    1,   40, 1416,  108,   30,  105],\n",
              "       [ 156,    2,  137,  104,  610,   19,  219],\n",
              "       [  26,    2,   76,   43,   36,  602,   46],\n",
              "       [ 135,    2,   73,  121,  229,   20,  653]])"
            ]
          },
          "metadata": {
            "tags": []
          },
          "execution_count": 19
        }
      ]
    },
    {
      "metadata": {
        "id": "vt6v8Ioqiqq5",
        "colab_type": "code",
        "outputId": "167c71b0-a155-43bf-d8b0-5bc9b7f4f3eb",
        "colab": {
          "base_uri": "https://localhost:8080/",
          "height": 255
        }
      },
      "cell_type": "code",
      "source": [
        "from sklearn.metrics import classification_report\n",
        "\n",
        "print(classification_report(y_test.argmax(axis=1), vgg11_64_preds.argmax(axis=1)))"
      ],
      "execution_count": 0,
      "outputs": [
        {
          "output_type": "stream",
          "text": [
            "              precision    recall  f1-score   support\n",
            "\n",
            "           0       0.48      0.52      0.50       958\n",
            "           1       0.74      0.46      0.57       111\n",
            "           2       0.49      0.40      0.44      1024\n",
            "           3       0.77      0.80      0.79      1774\n",
            "           4       0.44      0.49      0.46      1247\n",
            "           5       0.77      0.72      0.75       831\n",
            "           6       0.52      0.53      0.53      1233\n",
            "\n",
            "   micro avg       0.59      0.59      0.59      7178\n",
            "   macro avg       0.60      0.56      0.57      7178\n",
            "weighted avg       0.59      0.59      0.59      7178\n",
            "\n"
          ],
          "name": "stdout"
        }
      ]
    },
    {
      "metadata": {
        "id": "DSmkWfT9HCZe",
        "colab_type": "text"
      },
      "cell_type": "markdown",
      "source": [
        "**VGG11 model with batch size of 128.**"
      ]
    },
    {
      "metadata": {
        "id": "J-oVfMMEIibK",
        "colab_type": "code",
        "colab": {}
      },
      "cell_type": "code",
      "source": [
        "vgg11_128 = vgg(\"vgg11\", False, False)"
      ],
      "execution_count": 0,
      "outputs": []
    },
    {
      "metadata": {
        "id": "A-yP1HvL7Qv-",
        "colab_type": "code",
        "outputId": "e6113034-6ad3-4f1b-f458-7e3ccf4f0ff6",
        "colab": {
          "base_uri": "https://localhost:8080/",
          "height": 1224
        }
      },
      "cell_type": "code",
      "source": [
        "vgg11_128.compile(loss='categorical_crossentropy', optimizer='sgd', metrics=['accuracy'])\n",
        "history_11_128 = vgg11_128.fit(X_train, y_train, batch_size=128, epochs=35, validation_data=(X_val, y_val))"
      ],
      "execution_count": 0,
      "outputs": [
        {
          "output_type": "stream",
          "text": [
            "Train on 25838 samples, validate on 2871 samples\n",
            "Epoch 1/35\n",
            "25838/25838 [==============================] - 29s 1ms/step - loss: 1.8159 - acc: 0.2513 - val_loss: 1.7874 - val_acc: 0.2654\n",
            "Epoch 2/35\n",
            "25838/25838 [==============================] - 25s 955us/step - loss: 1.7459 - acc: 0.2963 - val_loss: 1.7234 - val_acc: 0.2849\n",
            "Epoch 3/35\n",
            "25838/25838 [==============================] - 25s 955us/step - loss: 1.6468 - acc: 0.3561 - val_loss: 1.5903 - val_acc: 0.3793\n",
            "Epoch 4/35\n",
            "25838/25838 [==============================] - 25s 956us/step - loss: 1.5697 - acc: 0.3938 - val_loss: 1.6483 - val_acc: 0.3490\n",
            "Epoch 5/35\n",
            "25838/25838 [==============================] - 25s 958us/step - loss: 1.5036 - acc: 0.4250 - val_loss: 1.5104 - val_acc: 0.4169\n",
            "Epoch 6/35\n",
            "25838/25838 [==============================] - 25s 956us/step - loss: 1.4416 - acc: 0.4506 - val_loss: 1.5920 - val_acc: 0.4183\n",
            "Epoch 7/35\n",
            "25838/25838 [==============================] - 25s 957us/step - loss: 1.3851 - acc: 0.4752 - val_loss: 1.3713 - val_acc: 0.4887\n",
            "Epoch 8/35\n",
            "25838/25838 [==============================] - 25s 955us/step - loss: 1.3281 - acc: 0.4947 - val_loss: 1.3401 - val_acc: 0.4925\n",
            "Epoch 9/35\n",
            "25838/25838 [==============================] - 25s 956us/step - loss: 1.2712 - acc: 0.5190 - val_loss: 1.3796 - val_acc: 0.4709\n",
            "Epoch 10/35\n",
            "25838/25838 [==============================] - 25s 958us/step - loss: 1.2083 - acc: 0.5471 - val_loss: 1.3601 - val_acc: 0.4775\n",
            "Epoch 11/35\n",
            "25838/25838 [==============================] - 25s 957us/step - loss: 1.1502 - acc: 0.5694 - val_loss: 1.3403 - val_acc: 0.4852\n",
            "Epoch 12/35\n",
            "25838/25838 [==============================] - 25s 957us/step - loss: 1.0907 - acc: 0.5940 - val_loss: 1.4504 - val_acc: 0.4737\n",
            "Epoch 13/35\n",
            "25838/25838 [==============================] - 25s 957us/step - loss: 1.0304 - acc: 0.6197 - val_loss: 1.3492 - val_acc: 0.5138\n",
            "Epoch 14/35\n",
            "25838/25838 [==============================] - 25s 959us/step - loss: 0.9582 - acc: 0.6471 - val_loss: 1.4118 - val_acc: 0.4866\n",
            "Epoch 15/35\n",
            "25838/25838 [==============================] - 25s 958us/step - loss: 0.8900 - acc: 0.6727 - val_loss: 1.3381 - val_acc: 0.5214\n",
            "Epoch 16/35\n",
            "25838/25838 [==============================] - 25s 955us/step - loss: 0.8093 - acc: 0.7069 - val_loss: 1.3892 - val_acc: 0.5221\n",
            "Epoch 17/35\n",
            "25838/25838 [==============================] - 25s 958us/step - loss: 0.7319 - acc: 0.7343 - val_loss: 1.4326 - val_acc: 0.5131\n",
            "Epoch 18/35\n",
            "25838/25838 [==============================] - 25s 957us/step - loss: 0.6367 - acc: 0.7713 - val_loss: 1.4884 - val_acc: 0.5270\n",
            "Epoch 19/35\n",
            "25838/25838 [==============================] - 25s 958us/step - loss: 0.5627 - acc: 0.8036 - val_loss: 1.6913 - val_acc: 0.5350\n",
            "Epoch 20/35\n",
            "25838/25838 [==============================] - 25s 956us/step - loss: 0.4706 - acc: 0.8353 - val_loss: 1.5973 - val_acc: 0.5322\n",
            "Epoch 21/35\n",
            "25838/25838 [==============================] - 25s 957us/step - loss: 0.3880 - acc: 0.8685 - val_loss: 2.1669 - val_acc: 0.4208\n",
            "Epoch 22/35\n",
            "25838/25838 [==============================] - 25s 959us/step - loss: 0.3250 - acc: 0.8880 - val_loss: 1.7782 - val_acc: 0.5475\n",
            "Epoch 23/35\n",
            "25838/25838 [==============================] - 25s 957us/step - loss: 0.2743 - acc: 0.9118 - val_loss: 1.9097 - val_acc: 0.5538\n",
            "Epoch 24/35\n",
            "25838/25838 [==============================] - 25s 964us/step - loss: 0.1899 - acc: 0.9383 - val_loss: 2.2394 - val_acc: 0.5253\n",
            "Epoch 25/35\n",
            "25838/25838 [==============================] - 25s 957us/step - loss: 0.2053 - acc: 0.9346 - val_loss: 2.0897 - val_acc: 0.5566\n",
            "Epoch 26/35\n",
            "25838/25838 [==============================] - 25s 958us/step - loss: 0.1682 - acc: 0.9499 - val_loss: 1.6833 - val_acc: 0.5221\n",
            "Epoch 27/35\n",
            "25838/25838 [==============================] - 25s 956us/step - loss: 0.1350 - acc: 0.9582 - val_loss: 2.2153 - val_acc: 0.5378\n",
            "Epoch 28/35\n",
            "25838/25838 [==============================] - 25s 957us/step - loss: 0.0798 - acc: 0.9781 - val_loss: 2.6327 - val_acc: 0.5354\n",
            "Epoch 29/35\n",
            "25838/25838 [==============================] - 25s 955us/step - loss: 0.0743 - acc: 0.9792 - val_loss: 2.4046 - val_acc: 0.5604\n",
            "Epoch 30/35\n",
            "25838/25838 [==============================] - 25s 957us/step - loss: 0.0456 - acc: 0.9888 - val_loss: 2.8688 - val_acc: 0.5475\n",
            "Epoch 31/35\n",
            "25838/25838 [==============================] - 25s 956us/step - loss: 0.0710 - acc: 0.9835 - val_loss: 2.7762 - val_acc: 0.5559\n",
            "Epoch 32/35\n",
            "25838/25838 [==============================] - 25s 957us/step - loss: 0.0277 - acc: 0.9945 - val_loss: 2.8290 - val_acc: 0.5657\n",
            "Epoch 33/35\n",
            "25838/25838 [==============================] - 25s 958us/step - loss: 0.0249 - acc: 0.9945 - val_loss: 2.7799 - val_acc: 0.5566\n",
            "Epoch 34/35\n",
            "25838/25838 [==============================] - 25s 956us/step - loss: 0.0182 - acc: 0.9961 - val_loss: 2.8848 - val_acc: 0.5500\n",
            "Epoch 35/35\n",
            "25838/25838 [==============================] - 25s 956us/step - loss: 0.0178 - acc: 0.9961 - val_loss: 2.7348 - val_acc: 0.5531\n"
          ],
          "name": "stdout"
        }
      ]
    },
    {
      "metadata": {
        "id": "z0ZKC4GJ7XKB",
        "colab_type": "code",
        "outputId": "66c1019e-2680-4f61-f373-ad1846a62fad",
        "colab": {
          "base_uri": "https://localhost:8080/",
          "height": 51
        }
      },
      "cell_type": "code",
      "source": [
        "vgg11_128.evaluate(X_test, y_test)"
      ],
      "execution_count": 0,
      "outputs": [
        {
          "output_type": "stream",
          "text": [
            "7178/7178 [==============================] - 3s 481us/step\n"
          ],
          "name": "stdout"
        },
        {
          "output_type": "execute_result",
          "data": {
            "text/plain": [
              "[2.7024751506033766, 0.5679855112927842]"
            ]
          },
          "metadata": {
            "tags": []
          },
          "execution_count": 23
        }
      ]
    },
    {
      "metadata": {
        "id": "pIICGUy-HK7g",
        "colab_type": "text"
      },
      "cell_type": "markdown",
      "source": [
        "**Confusion matrix and classification report for VGG11 with batch size of 128.**"
      ]
    },
    {
      "metadata": {
        "id": "lmT2sWibHHSQ",
        "colab_type": "code",
        "outputId": "1e243912-3360-483e-e06a-dc6370224036",
        "colab": {
          "base_uri": "https://localhost:8080/",
          "height": 136
        }
      },
      "cell_type": "code",
      "source": [
        "from sklearn.metrics import confusion_matrix\n",
        "\n",
        "vgg11_128_preds = vgg11_128.predict(X_test)\n",
        "confusion_matrix(y_test.argmax(axis=1), vgg11_128_preds.argmax(axis=1))"
      ],
      "execution_count": 0,
      "outputs": [
        {
          "output_type": "execute_result",
          "data": {
            "text/plain": [
              "array([[ 502,   10,   95,   75,  153,   26,   97],\n",
              "       [  25,   54,   12,    7,    8,    0,    5],\n",
              "       [ 134,    3,  396,   78,  199,   82,  132],\n",
              "       [  95,    2,   49, 1372,   92,   31,  133],\n",
              "       [ 181,    6,  155,  111,  530,   27,  237],\n",
              "       [  37,    0,   85,   42,   30,  595,   42],\n",
              "       [ 143,    6,   98,  131,  204,   23,  628]])"
            ]
          },
          "metadata": {
            "tags": []
          },
          "execution_count": 24
        }
      ]
    },
    {
      "metadata": {
        "id": "hKpiKXDKitrZ",
        "colab_type": "code",
        "outputId": "5e65ce65-043b-448f-ddb9-6cd918a2b5cd",
        "colab": {
          "base_uri": "https://localhost:8080/",
          "height": 255
        }
      },
      "cell_type": "code",
      "source": [
        "from sklearn.metrics import classification_report\n",
        "\n",
        "print(classification_report(y_test.argmax(axis=1), vgg11_128_preds.argmax(axis=1)))"
      ],
      "execution_count": 0,
      "outputs": [
        {
          "output_type": "stream",
          "text": [
            "              precision    recall  f1-score   support\n",
            "\n",
            "           0       0.45      0.52      0.48       958\n",
            "           1       0.67      0.49      0.56       111\n",
            "           2       0.44      0.39      0.41      1024\n",
            "           3       0.76      0.77      0.76      1774\n",
            "           4       0.44      0.43      0.43      1247\n",
            "           5       0.76      0.72      0.74       831\n",
            "           6       0.49      0.51      0.50      1233\n",
            "\n",
            "   micro avg       0.57      0.57      0.57      7178\n",
            "   macro avg       0.57      0.55      0.56      7178\n",
            "weighted avg       0.57      0.57      0.57      7178\n",
            "\n"
          ],
          "name": "stdout"
        }
      ]
    },
    {
      "metadata": {
        "id": "YZu1yf7iAiUJ",
        "colab_type": "code",
        "colab": {}
      },
      "cell_type": "code",
      "source": [
        "import matplotlib.pyplot as plt\n",
        "\n",
        "def plot(models, labels, feature):\n",
        "  if (feature == \"loss\"):\n",
        "    for i, model in enumerate(models):\n",
        "      loss_values = model.history['loss']\n",
        "      epochs = range(1, len(loss_values)+1)\n",
        "\n",
        "      plt.plot(epochs, loss_values, label=labels[i])\n",
        "      plt.xlabel('Epochs')\n",
        "      plt.ylabel('Loss')\n",
        "      plt.legend()\n",
        "\n",
        "    plt.show()\n",
        "    \n",
        "  if (feature == \"accuracy\"):\n",
        "    for i, model in enumerate(models):\n",
        "      loss_values = model.history['val_acc']\n",
        "      epochs = range(1, len(loss_values)+1)\n",
        "\n",
        "      plt.plot(epochs, loss_values, label=labels[i])\n",
        "      plt.xlabel('Epochs')\n",
        "      plt.ylabel('Accuracy')\n",
        "      plt.legend()\n",
        "\n",
        "    plt.show()\n"
      ],
      "execution_count": 0,
      "outputs": []
    },
    {
      "metadata": {
        "id": "6pt1SgfTHQmC",
        "colab_type": "text"
      },
      "cell_type": "markdown",
      "source": [
        "# Loss and Accuracy Plots for VGG11 Models"
      ]
    },
    {
      "metadata": {
        "id": "Gif3M-GVCClf",
        "colab_type": "code",
        "colab": {}
      },
      "cell_type": "code",
      "source": [
        "model_11_histories = [history_11_32, history_11_64, history_11_128]\n",
        "labels = [\"Batch 32\", \"Batch 64\", \"Batch 128\"]\n",
        "#model_16_histories = [vgg_16_32, vgg_16_64, vgg_16_128]"
      ],
      "execution_count": 0,
      "outputs": []
    },
    {
      "metadata": {
        "id": "uTuSUmG8CfhE",
        "colab_type": "code",
        "outputId": "cb3333d3-99de-4604-fa88-e71469dc7c2d",
        "colab": {
          "base_uri": "https://localhost:8080/",
          "height": 549
        }
      },
      "cell_type": "code",
      "source": [
        "plot(model_11_histories, labels, \"loss\")\n",
        "plot(model_11_histories, labels, \"accuracy\")"
      ],
      "execution_count": 0,
      "outputs": [
        {
          "output_type": "display_data",
          "data": {
            "image/png": "[encoded data removed]",
            "text/plain": [
              "<Figure size 432x288 with 1 Axes>"
            ]
          },
          "metadata": {
            "tags": []
          }
        },
        {
          "output_type": "display_data",
          "data": {
            "image/png": "[encoded data removed]",
            "text/plain": [
              "<Figure size 432x288 with 1 Axes>"
            ]
          },
          "metadata": {
            "tags": []
          }
        }
      ]
    },
    {
      "metadata": {
        "id": "qZ_XlOQ1ecyI",
        "colab_type": "code",
        "outputId": "e0a39b57-280d-4480-8363-aaa9dfa3b424",
        "colab": {
          "base_uri": "https://localhost:8080/",
          "height": 51
        }
      },
      "cell_type": "code",
      "source": [
        "!pip install -U -q PyDrive"
      ],
      "execution_count": 0,
      "outputs": [
        {
          "output_type": "stream",
          "text": [
            "\u001b[?25l\r\u001b[K    1% |▎                               | 10kB 17.0MB/s eta 0:00:01\r\u001b[K    2% |▋                               | 20kB 2.1MB/s eta 0:00:01\r\u001b[K    3% |█                               | 30kB 3.1MB/s eta 0:00:01\r\u001b[K    4% |█▎                              | 40kB 2.1MB/s eta 0:00:01\r\u001b[K    5% |█▋                              | 51kB 2.5MB/s eta 0:00:01\r\u001b[K    6% |██                              | 61kB 3.0MB/s eta 0:00:01\r\u001b[K    7% |██▎                             | 71kB 3.4MB/s eta 0:00:01\r\u001b[K    8% |██▋                             | 81kB 2.7MB/s eta 0:00:01\r\u001b[K    9% |███                             | 92kB 3.0MB/s eta 0:00:01\r\u001b[K    10% |███▎                            | 102kB 3.3MB/s eta 0:00:01\r\u001b[K    11% |███▋                            | 112kB 3.3MB/s eta 0:00:01\r\u001b[K    12% |████                            | 122kB 4.7MB/s eta 0:00:01\r\u001b[K    13% |████▎                           | 133kB 4.7MB/s eta 0:00:01\r\u001b[K    14% |████▋                           | 143kB 8.4MB/s eta 0:00:01\r\u001b[K    15% |█████                           | 153kB 8.4MB/s eta 0:00:01\r\u001b[K    16% |█████▎                          | 163kB 8.4MB/s eta 0:00:01\r\u001b[K    17% |█████▋                          | 174kB 8.4MB/s eta 0:00:01\r\u001b[K    18% |██████                          | 184kB 36.7MB/s eta 0:00:01\r\u001b[K    19% |██████▎                         | 194kB 36.9MB/s eta 0:00:01\r\u001b[K    20% |██████▋                         | 204kB 10.1MB/s eta 0:00:01\r\u001b[K    21% |███████                         | 215kB 10.0MB/s eta 0:00:01\r\u001b[K    22% |███████▎                        | 225kB 10.0MB/s eta 0:00:01\r\u001b[K    23% |███████▋                        | 235kB 10.0MB/s eta 0:00:01\r\u001b[K    24% |████████                        | 245kB 10.0MB/s eta 0:00:01\r\u001b[K    25% |████████▎                       | 256kB 10.0MB/s eta 0:00:01\r\u001b[K    26% |████████▋                       | 266kB 9.8MB/s eta 0:00:01\r\u001b[K    27% |█████████                       | 276kB 9.9MB/s eta 0:00:01\r\u001b[K    29% |█████████▎                      | 286kB 9.9MB/s eta 0:00:01\r\u001b[K    30% |█████████▋                      | 296kB 9.9MB/s eta 0:00:01\r\u001b[K    31% |██████████                      | 307kB 35.2MB/s eta 0:00:01\r\u001b[K    32% |██████████▎                     | 317kB 37.8MB/s eta 0:00:01\r\u001b[K    33% |██████████▋                     | 327kB 37.8MB/s eta 0:00:01\r\u001b[K    34% |███████████                     | 337kB 39.1MB/s eta 0:00:01\r\u001b[K    35% |███████████▎                    | 348kB 35.9MB/s eta 0:00:01\r\u001b[K    36% |███████████▋                    | 358kB 36.0MB/s eta 0:00:01\r\u001b[K    37% |████████████                    | 368kB 39.3MB/s eta 0:00:01\r\u001b[K    38% |████████████▎                   | 378kB 38.4MB/s eta 0:00:01\r\u001b[K    39% |████████████▋                   | 389kB 39.0MB/s eta 0:00:01\r\u001b[K    40% |█████████████                   | 399kB 14.0MB/s eta 0:00:01\r\u001b[K    41% |█████████████▎                  | 409kB 13.7MB/s eta 0:00:01\r\u001b[K    42% |█████████████▋                  | 419kB 13.6MB/s eta 0:00:01\r\u001b[K    43% |██████████████                  | 430kB 13.5MB/s eta 0:00:01\r\u001b[K    44% |██████████████▎                 | 440kB 13.4MB/s eta 0:00:01\r\u001b[K    45% |██████████████▋                 | 450kB 13.5MB/s eta 0:00:01\r\u001b[K    46% |███████████████                 | 460kB 13.5MB/s eta 0:00:01\r\u001b[K    47% |███████████████▎                | 471kB 13.6MB/s eta 0:00:01\r\u001b[K    48% |███████████████▋                | 481kB 13.6MB/s eta 0:00:01\r\u001b[K    49% |████████████████                | 491kB 13.5MB/s eta 0:00:01\r\u001b[K    50% |████████████████▎               | 501kB 35.2MB/s eta 0:00:01\r\u001b[K    51% |████████████████▋               | 512kB 35.4MB/s eta 0:00:01\r\u001b[K    52% |█████████████████               | 522kB 35.8MB/s eta 0:00:01\r\u001b[K    53% |█████████████████▎              | 532kB 37.4MB/s eta 0:00:01\r\u001b[K    54% |█████████████████▋              | 542kB 9.5MB/s eta 0:00:01\r\u001b[K    55% |██████████████████              | 552kB 9.5MB/s eta 0:00:01\r\u001b[K    57% |██████████████████▎             | 563kB 9.5MB/s eta 0:00:01\r\u001b[K    58% |██████████████████▋             | 573kB 9.3MB/s eta 0:00:01\r\u001b[K    59% |███████████████████             | 583kB 9.3MB/s eta 0:00:01\r\u001b[K    60% |███████████████████▎            | 593kB 9.3MB/s eta 0:00:01\r\u001b[K    61% |███████████████████▋            | 604kB 9.4MB/s eta 0:00:01\r\u001b[K    62% |████████████████████            | 614kB 9.5MB/s eta 0:00:01\r\u001b[K    63% |████████████████████▎           | 624kB 9.5MB/s eta 0:00:01\r\u001b[K    64% |████████████████████▋           | 634kB 9.5MB/s eta 0:00:01\r\u001b[K    65% |█████████████████████           | 645kB 37.3MB/s eta 0:00:01\r\u001b[K    66% |█████████████████████▎          | 655kB 38.4MB/s eta 0:00:01\r\u001b[K    67% |█████████████████████▋          | 665kB 33.0MB/s eta 0:00:01\r\u001b[K    68% |██████████████████████          | 675kB 34.7MB/s eta 0:00:01\r\u001b[K    69% |██████████████████████▎         | 686kB 35.3MB/s eta 0:00:01\r\u001b[K    70% |██████████████████████▋         | 696kB 34.9MB/s eta 0:00:01\r\u001b[K    71% |███████████████████████         | 706kB 35.0MB/s eta 0:00:01\r\u001b[K    72% |███████████████████████▎        | 716kB 34.9MB/s eta 0:00:01\r\u001b[K    73% |███████████████████████▋        | 727kB 34.9MB/s eta 0:00:01\r\u001b[K    74% |████████████████████████        | 737kB 34.7MB/s eta 0:00:01\r\u001b[K    75% |████████████████████████▎       | 747kB 35.0MB/s eta 0:00:01\r\u001b[K    76% |████████████████████████▋       | 757kB 35.1MB/s eta 0:00:01\r\u001b[K    77% |████████████████████████▉       | 768kB 42.9MB/s eta 0:00:01\r\u001b[K    78% |█████████████████████████▏      | 778kB 43.4MB/s eta 0:00:01\r\u001b[K    79% |█████████████████████████▌      | 788kB 43.1MB/s eta 0:00:01\r\u001b[K    80% |█████████████████████████▉      | 798kB 43.6MB/s eta 0:00:01\r\u001b[K    81% |██████████████████████████▏     | 808kB 43.6MB/s eta 0:00:01\r\u001b[K    82% |██████████████████████████▌     | 819kB 43.6MB/s eta 0:00:01\r\u001b[K    83% |██████████████████████████▉     | 829kB 44.0MB/s eta 0:00:01\r\u001b[K    85% |███████████████████████████▏    | 839kB 44.0MB/s eta 0:00:01\r\u001b[K    86% |███████████████████████████▌    | 849kB 43.9MB/s eta 0:00:01\r\u001b[K    87% |███████████████████████████▉    | 860kB 41.1MB/s eta 0:00:01\r\u001b[K    88% |████████████████████████████▏   | 870kB 40.8MB/s eta 0:00:01\r\u001b[K    89% |████████████████████████████▌   | 880kB 41.0MB/s eta 0:00:01\r\u001b[K    90% |████████████████████████████▉   | 890kB 41.2MB/s eta 0:00:01\r\u001b[K    91% |█████████████████████████████▏  | 901kB 40.9MB/s eta 0:00:01\r\u001b[K    92% |█████████████████████████████▌  | 911kB 40.7MB/s eta 0:00:01\r\u001b[K    93% |█████████████████████████████▉  | 921kB 40.8MB/s eta 0:00:01\r\u001b[K    94% |██████████████████████████████▏ | 931kB 41.0MB/s eta 0:00:01\r\u001b[K    95% |██████████████████████████████▌ | 942kB 41.6MB/s eta 0:00:01\r\u001b[K    96% |██████████████████████████████▉ | 952kB 41.0MB/s eta 0:00:01\r\u001b[K    97% |███████████████████████████████▏| 962kB 45.0MB/s eta 0:00:01\r\u001b[K    98% |███████████████████████████████▌| 972kB 44.5MB/s eta 0:00:01\r\u001b[K    99% |███████████████████████████████▉| 983kB 44.8MB/s eta 0:00:01\r\u001b[K    100% |████████████████████████████████| 993kB 18.5MB/s \n",
            "\u001b[?25h  Building wheel for PyDrive (setup.py) ... \u001b[?25ldone\n",
            "\u001b[?25h"
          ],
          "name": "stdout"
        }
      ]
    },
    {
      "metadata": {
        "id": "-WwJ84ZQdVp4",
        "colab_type": "code",
        "colab": {}
      },
      "cell_type": "code",
      "source": [
        "from pydrive.auth import GoogleAuth\n",
        "from pydrive.drive import GoogleDrive \n",
        "from google.colab import auth \n",
        "from oauth2client.client import GoogleCredentials"
      ],
      "execution_count": 0,
      "outputs": []
    },
    {
      "metadata": {
        "id": "BEj5nCWYeUM8",
        "colab_type": "code",
        "colab": {}
      },
      "cell_type": "code",
      "source": [
        "auth.authenticate_user()\n",
        "gauth = GoogleAuth()\n",
        "gauth.credentials = GoogleCredentials.get_application_default()            \n",
        "drive = GoogleDrive(gauth)"
      ],
      "execution_count": 0,
      "outputs": []
    },
    {
      "metadata": {
        "id": "I5mx-XhNd3-k",
        "colab_type": "code",
        "colab": {}
      },
      "cell_type": "code",
      "source": [
        "# Save keras model.\n",
        "vgg11_32.save('vgg11_32.h5')\n",
        "model_file = drive.CreateFile({'VGG11_32' : 'vgg11_32.h5'})                       \n",
        "model_file.SetContentFile('vgg11_32.h5')                       \n",
        "model_file.Upload()"
      ],
      "execution_count": 0,
      "outputs": []
    },
    {
      "metadata": {
        "id": "egYCoZjnXY-M",
        "colab_type": "code",
        "colab": {}
      },
      "cell_type": "code",
      "source": [
        "# Save keras model.\n",
        "vgg11_64.save('vgg11_64.h5')\n",
        "model_file = drive.CreateFile({'VGG11_64' : 'vgg11_64.h5'})                       \n",
        "model_file.SetContentFile('vgg11_64.h5')                       \n",
        "model_file.Upload()"
      ],
      "execution_count": 0,
      "outputs": []
    },
    {
      "metadata": {
        "id": "QH5P-GcuCF36",
        "colab_type": "code",
        "colab": {}
      },
      "cell_type": "code",
      "source": [
        "# Save keras model.\n",
        "vgg11_128.save('vgg11_128.h5')\n",
        "model_file = drive.CreateFile({'VGG11_128' : 'vgg11_128.h5'})                       \n",
        "model_file.SetContentFile('vgg11_128.h5')                       \n",
        "model_file.Upload()"
      ],
      "execution_count": 0,
      "outputs": []
    },
    {
      "metadata": {
        "id": "6hZEfF-aHb6b",
        "colab_type": "text"
      },
      "cell_type": "markdown",
      "source": [
        "# Vanilla VGG16"
      ]
    },
    {
      "metadata": {
        "colab_type": "text",
        "id": "vmAnN8FVIDWw"
      },
      "cell_type": "markdown",
      "source": [
        "**VGG16 model with batch size of 32.**"
      ]
    },
    {
      "metadata": {
        "id": "F_YdrPGJ7gaG",
        "colab_type": "code",
        "colab": {}
      },
      "cell_type": "code",
      "source": [
        "vgg16_32 = vgg('vgg16', False, False)"
      ],
      "execution_count": 0,
      "outputs": []
    },
    {
      "metadata": {
        "id": "wH1aNro9Wx88",
        "colab_type": "code",
        "outputId": "4fa37cfa-cc85-4b1f-e3ce-24adb62dcea0",
        "colab": {
          "base_uri": "https://localhost:8080/",
          "height": 884
        }
      },
      "cell_type": "code",
      "source": [
        "vgg16_32.summary()"
      ],
      "execution_count": 0,
      "outputs": [
        {
          "output_type": "stream",
          "text": [
            "_________________________________________________________________\n",
            "Layer (type)                 Output Shape              Param #   \n",
            "=================================================================\n",
            "conv2d_9 (Conv2D)            (None, 48, 48, 64)        640       \n",
            "_________________________________________________________________\n",
            "conv2d_10 (Conv2D)           (None, 48, 48, 64)        36928     \n",
            "_________________________________________________________________\n",
            "max_pooling2d_6 (MaxPooling2 (None, 24, 24, 64)        0         \n",
            "_________________________________________________________________\n",
            "conv2d_11 (Conv2D)           (None, 24, 24, 128)       73856     \n",
            "_________________________________________________________________\n",
            "conv2d_12 (Conv2D)           (None, 24, 24, 128)       147584    \n",
            "_________________________________________________________________\n",
            "max_pooling2d_7 (MaxPooling2 (None, 12, 12, 128)       0         \n",
            "_________________________________________________________________\n",
            "conv2d_13 (Conv2D)           (None, 12, 12, 256)       295168    \n",
            "_________________________________________________________________\n",
            "conv2d_14 (Conv2D)           (None, 12, 12, 256)       590080    \n",
            "_________________________________________________________________\n",
            "conv2d_15 (Conv2D)           (None, 12, 12, 256)       590080    \n",
            "_________________________________________________________________\n",
            "max_pooling2d_8 (MaxPooling2 (None, 6, 6, 256)         0         \n",
            "_________________________________________________________________\n",
            "conv2d_16 (Conv2D)           (None, 6, 6, 512)         1180160   \n",
            "_________________________________________________________________\n",
            "conv2d_17 (Conv2D)           (None, 6, 6, 512)         2359808   \n",
            "_________________________________________________________________\n",
            "conv2d_18 (Conv2D)           (None, 6, 6, 512)         2359808   \n",
            "_________________________________________________________________\n",
            "max_pooling2d_9 (MaxPooling2 (None, 3, 3, 512)         0         \n",
            "_________________________________________________________________\n",
            "conv2d_19 (Conv2D)           (None, 3, 3, 512)         2359808   \n",
            "_________________________________________________________________\n",
            "conv2d_20 (Conv2D)           (None, 3, 3, 512)         2359808   \n",
            "_________________________________________________________________\n",
            "conv2d_21 (Conv2D)           (None, 3, 3, 512)         2359808   \n",
            "_________________________________________________________________\n",
            "max_pooling2d_10 (MaxPooling (None, 1, 1, 512)         0         \n",
            "_________________________________________________________________\n",
            "flatten_2 (Flatten)          (None, 512)               0         \n",
            "_________________________________________________________________\n",
            "dense_4 (Dense)              (None, 2048)              1050624   \n",
            "_________________________________________________________________\n",
            "dense_5 (Dense)              (None, 2048)              4196352   \n",
            "_________________________________________________________________\n",
            "dense_6 (Dense)              (None, 7)                 14343     \n",
            "=================================================================\n",
            "Total params: 19,974,855\n",
            "Trainable params: 19,974,855\n",
            "Non-trainable params: 0\n",
            "_________________________________________________________________\n"
          ],
          "name": "stdout"
        }
      ]
    },
    {
      "metadata": {
        "id": "UaizSXfG7ghr",
        "colab_type": "code",
        "outputId": "2e835357-1a77-4633-e207-b913466a1a04",
        "colab": {
          "base_uri": "https://localhost:8080/",
          "height": 1224
        }
      },
      "cell_type": "code",
      "source": [
        "vgg16_32.compile(loss='categorical_crossentropy', optimizer='sgd', metrics=['accuracy'])\n",
        "history_16_32 = vgg16_32.fit(X_train, y_train, batch_size=32, epochs=35, validation_data=(X_val, y_val))"
      ],
      "execution_count": 0,
      "outputs": [
        {
          "output_type": "stream",
          "text": [
            "Train on 25838 samples, validate on 2871 samples\n",
            "Epoch 1/35\n",
            "25838/25838 [==============================] - 76s 3ms/step - loss: 1.7992 - acc: 0.2615 - val_loss: 1.7542 - val_acc: 0.2734\n",
            "Epoch 2/35\n",
            "25838/25838 [==============================] - 75s 3ms/step - loss: 1.6260 - acc: 0.3665 - val_loss: 1.5729 - val_acc: 0.3887\n",
            "Epoch 3/35\n",
            "25838/25838 [==============================] - 75s 3ms/step - loss: 1.4802 - acc: 0.4284 - val_loss: 1.4488 - val_acc: 0.4336\n",
            "Epoch 4/35\n",
            "25838/25838 [==============================] - 75s 3ms/step - loss: 1.3746 - acc: 0.4723 - val_loss: 1.3890 - val_acc: 0.4678\n",
            "Epoch 5/35\n",
            "25838/25838 [==============================] - 75s 3ms/step - loss: 1.2779 - acc: 0.5147 - val_loss: 1.3076 - val_acc: 0.5002\n",
            "Epoch 6/35\n",
            "25838/25838 [==============================] - 75s 3ms/step - loss: 1.1888 - acc: 0.5525 - val_loss: 1.2609 - val_acc: 0.5319\n",
            "Epoch 7/35\n",
            "25838/25838 [==============================] - 75s 3ms/step - loss: 1.1045 - acc: 0.5854 - val_loss: 1.2505 - val_acc: 0.5343\n",
            "Epoch 8/35\n",
            "25838/25838 [==============================] - 75s 3ms/step - loss: 1.0180 - acc: 0.6186 - val_loss: 1.1897 - val_acc: 0.5597\n",
            "Epoch 9/35\n",
            "25838/25838 [==============================] - 75s 3ms/step - loss: 0.9290 - acc: 0.6567 - val_loss: 1.2675 - val_acc: 0.5298\n",
            "Epoch 10/35\n",
            "25838/25838 [==============================] - 75s 3ms/step - loss: 0.8374 - acc: 0.6911 - val_loss: 1.3905 - val_acc: 0.5336\n",
            "Epoch 11/35\n",
            "25838/25838 [==============================] - 75s 3ms/step - loss: 0.7325 - acc: 0.7304 - val_loss: 1.4820 - val_acc: 0.5211\n",
            "Epoch 12/35\n",
            "25838/25838 [==============================] - 75s 3ms/step - loss: 0.6465 - acc: 0.7651 - val_loss: 1.5186 - val_acc: 0.5374\n",
            "Epoch 13/35\n",
            "25838/25838 [==============================] - 75s 3ms/step - loss: 0.5527 - acc: 0.8026 - val_loss: 1.4770 - val_acc: 0.5677\n",
            "Epoch 14/35\n",
            "25838/25838 [==============================] - 75s 3ms/step - loss: 0.4650 - acc: 0.8354 - val_loss: 1.4528 - val_acc: 0.5528\n",
            "Epoch 15/35\n",
            "25838/25838 [==============================] - 75s 3ms/step - loss: 0.3766 - acc: 0.8661 - val_loss: 1.6941 - val_acc: 0.5514\n",
            "Epoch 16/35\n",
            "25838/25838 [==============================] - 75s 3ms/step - loss: 0.3317 - acc: 0.8829 - val_loss: 2.1648 - val_acc: 0.4814\n",
            "Epoch 17/35\n",
            "25838/25838 [==============================] - 75s 3ms/step - loss: 0.2816 - acc: 0.9023 - val_loss: 1.7162 - val_acc: 0.5521\n",
            "Epoch 18/35\n",
            "25838/25838 [==============================] - 75s 3ms/step - loss: 0.2213 - acc: 0.9246 - val_loss: 2.3586 - val_acc: 0.5545\n",
            "Epoch 19/35\n",
            "25838/25838 [==============================] - 75s 3ms/step - loss: 0.1993 - acc: 0.9346 - val_loss: 1.7736 - val_acc: 0.5684\n",
            "Epoch 20/35\n",
            "25838/25838 [==============================] - 74s 3ms/step - loss: 0.1655 - acc: 0.9460 - val_loss: 2.1459 - val_acc: 0.5646\n",
            "Epoch 21/35\n",
            "25838/25838 [==============================] - 75s 3ms/step - loss: 0.1408 - acc: 0.9529 - val_loss: 2.2099 - val_acc: 0.5601\n",
            "Epoch 22/35\n",
            "25838/25838 [==============================] - 75s 3ms/step - loss: 0.1177 - acc: 0.9596 - val_loss: 2.3728 - val_acc: 0.5343\n",
            "Epoch 23/35\n",
            "25838/25838 [==============================] - 75s 3ms/step - loss: 0.1090 - acc: 0.9655 - val_loss: 2.0491 - val_acc: 0.5681\n",
            "Epoch 24/35\n",
            "25838/25838 [==============================] - 74s 3ms/step - loss: 0.0870 - acc: 0.9733 - val_loss: 2.4922 - val_acc: 0.5646\n",
            "Epoch 25/35\n",
            "25838/25838 [==============================] - 75s 3ms/step - loss: 0.0839 - acc: 0.9736 - val_loss: 2.1881 - val_acc: 0.5754\n",
            "Epoch 26/35\n",
            "25838/25838 [==============================] - 75s 3ms/step - loss: 0.0742 - acc: 0.9759 - val_loss: 2.7705 - val_acc: 0.5778\n",
            "Epoch 27/35\n",
            "25838/25838 [==============================] - 75s 3ms/step - loss: 0.0768 - acc: 0.9750 - val_loss: 2.3410 - val_acc: 0.5740\n",
            "Epoch 28/35\n",
            "25838/25838 [==============================] - 74s 3ms/step - loss: 0.0692 - acc: 0.9780 - val_loss: 2.6681 - val_acc: 0.5792\n",
            "Epoch 29/35\n",
            "25838/25838 [==============================] - 75s 3ms/step - loss: 0.0639 - acc: 0.9783 - val_loss: 2.6353 - val_acc: 0.5702\n",
            "Epoch 30/35\n",
            "25838/25838 [==============================] - 75s 3ms/step - loss: 0.0581 - acc: 0.9805 - val_loss: 2.4760 - val_acc: 0.5754\n",
            "Epoch 31/35\n",
            "25838/25838 [==============================] - 75s 3ms/step - loss: 0.0516 - acc: 0.9830 - val_loss: 2.4970 - val_acc: 0.5778\n",
            "Epoch 32/35\n",
            "25838/25838 [==============================] - 74s 3ms/step - loss: 0.0467 - acc: 0.9849 - val_loss: 2.7625 - val_acc: 0.5657\n",
            "Epoch 33/35\n",
            "25838/25838 [==============================] - 75s 3ms/step - loss: 0.0498 - acc: 0.9830 - val_loss: 2.6163 - val_acc: 0.5691\n",
            "Epoch 34/35\n",
            "25838/25838 [==============================] - 75s 3ms/step - loss: 0.0446 - acc: 0.9852 - val_loss: 3.0237 - val_acc: 0.5709\n",
            "Epoch 35/35\n",
            "25838/25838 [==============================] - 75s 3ms/step - loss: 0.0439 - acc: 0.9856 - val_loss: 2.7310 - val_acc: 0.5695\n"
          ],
          "name": "stdout"
        }
      ]
    },
    {
      "metadata": {
        "id": "vTkZrfuZ7glc",
        "colab_type": "code",
        "outputId": "c5f191e3-0c0c-4eef-a720-d4973242c7c1",
        "colab": {
          "base_uri": "https://localhost:8080/",
          "height": 51
        }
      },
      "cell_type": "code",
      "source": [
        "vgg16_32.evaluate(X_test, y_test)"
      ],
      "execution_count": 0,
      "outputs": [
        {
          "output_type": "stream",
          "text": [
            "7178/7178 [==============================] - 6s 836us/step\n"
          ],
          "name": "stdout"
        },
        {
          "output_type": "execute_result",
          "data": {
            "text/plain": [
              "[2.653868699146865, 0.5778768459263868]"
            ]
          },
          "metadata": {
            "tags": []
          },
          "execution_count": 34
        }
      ]
    },
    {
      "metadata": {
        "id": "ChGsLxR4IdS0",
        "colab_type": "text"
      },
      "cell_type": "markdown",
      "source": [
        "***Confusion matrix for VGG16 model with batch size of 32.***"
      ]
    },
    {
      "metadata": {
        "id": "7npLh09eIXo3",
        "colab_type": "code",
        "outputId": "9cc9a81e-cd33-4051-dba3-2c9f4dda38de",
        "colab": {
          "base_uri": "https://localhost:8080/",
          "height": 136
        }
      },
      "cell_type": "code",
      "source": [
        "from sklearn.metrics import confusion_matrix\n",
        "\n",
        "vgg16_32_preds = vgg16_32.predict(X_test)\n",
        "confusion_matrix(y_test.argmax(axis=1), vgg16_32_preds.argmax(axis=1))"
      ],
      "execution_count": 0,
      "outputs": [
        {
          "output_type": "execute_result",
          "data": {
            "text/plain": [
              "array([[ 501,   16,   85,   67,  135,   20,  134],\n",
              "       [  27,   59,    6,    4,    9,    0,    6],\n",
              "       [ 126,    9,  351,   73,  230,   83,  152],\n",
              "       [  80,    4,   50, 1383,  103,   38,  116],\n",
              "       [ 155,    6,  134,  104,  579,   20,  249],\n",
              "       [  33,    6,   60,   51,   30,  598,   53],\n",
              "       [ 121,    7,   74,   97,  234,   23,  677]])"
            ]
          },
          "metadata": {
            "tags": []
          },
          "execution_count": 35
        }
      ]
    },
    {
      "metadata": {
        "id": "MzAraeWdizlm",
        "colab_type": "code",
        "outputId": "4be494a4-1477-41e1-d6d7-9d013fef0c64",
        "colab": {
          "base_uri": "https://localhost:8080/",
          "height": 255
        }
      },
      "cell_type": "code",
      "source": [
        "from sklearn.metrics import classification_report\n",
        "\n",
        "print(classification_report(y_test.argmax(axis=1), vgg16_32_preds.argmax(axis=1)))"
      ],
      "execution_count": 0,
      "outputs": [
        {
          "output_type": "stream",
          "text": [
            "              precision    recall  f1-score   support\n",
            "\n",
            "           0       0.48      0.52      0.50       958\n",
            "           1       0.55      0.53      0.54       111\n",
            "           2       0.46      0.34      0.39      1024\n",
            "           3       0.78      0.78      0.78      1774\n",
            "           4       0.44      0.46      0.45      1247\n",
            "           5       0.76      0.72      0.74       831\n",
            "           6       0.49      0.55      0.52      1233\n",
            "\n",
            "   micro avg       0.58      0.58      0.58      7178\n",
            "   macro avg       0.57      0.56      0.56      7178\n",
            "weighted avg       0.58      0.58      0.58      7178\n",
            "\n"
          ],
          "name": "stdout"
        }
      ]
    },
    {
      "metadata": {
        "id": "UJFk74f4IMQX",
        "colab_type": "text"
      },
      "cell_type": "markdown",
      "source": [
        "**VGG16 model with batch size of 64.**"
      ]
    },
    {
      "metadata": {
        "id": "pj6zeBJ5g6wc",
        "colab_type": "code",
        "colab": {}
      },
      "cell_type": "code",
      "source": [
        "vgg16_64 = vgg('vgg16', False, False)"
      ],
      "execution_count": 0,
      "outputs": []
    },
    {
      "metadata": {
        "id": "gGhL3S5d7gom",
        "colab_type": "code",
        "outputId": "dba2fc05-d733-48e2-d447-f88cd627e0d4",
        "colab": {
          "base_uri": "https://localhost:8080/",
          "height": 1224
        }
      },
      "cell_type": "code",
      "source": [
        "vgg16_64.compile(loss='categorical_crossentropy', optimizer='sgd', metrics=['accuracy'])\n",
        "history_16_64 = vgg16_64.fit(X_train, y_train, batch_size=64, epochs=35, validation_data=(X_val, y_val))"
      ],
      "execution_count": 0,
      "outputs": [
        {
          "output_type": "stream",
          "text": [
            "Train on 25838 samples, validate on 2871 samples\n",
            "Epoch 1/35\n",
            "25838/25838 [==============================] - 57s 2ms/step - loss: 1.8036 - acc: 0.2579 - val_loss: 1.7688 - val_acc: 0.2672\n",
            "Epoch 2/35\n",
            "25838/25838 [==============================] - 56s 2ms/step - loss: 1.7153 - acc: 0.3161 - val_loss: 1.6959 - val_acc: 0.3149\n",
            "Epoch 3/35\n",
            "25838/25838 [==============================] - 56s 2ms/step - loss: 1.6067 - acc: 0.3736 - val_loss: 1.5837 - val_acc: 0.3870\n",
            "Epoch 4/35\n",
            "25838/25838 [==============================] - 56s 2ms/step - loss: 1.5202 - acc: 0.4143 - val_loss: 1.5142 - val_acc: 0.3981\n",
            "Epoch 5/35\n",
            "25838/25838 [==============================] - 56s 2ms/step - loss: 1.4537 - acc: 0.4424 - val_loss: 1.4392 - val_acc: 0.4525\n",
            "Epoch 6/35\n",
            "25838/25838 [==============================] - 56s 2ms/step - loss: 1.3970 - acc: 0.4635 - val_loss: 1.4925 - val_acc: 0.4350\n",
            "Epoch 7/35\n",
            "25838/25838 [==============================] - 56s 2ms/step - loss: 1.3323 - acc: 0.4923 - val_loss: 1.4350 - val_acc: 0.4521\n",
            "Epoch 8/35\n",
            "25838/25838 [==============================] - 56s 2ms/step - loss: 1.2677 - acc: 0.5183 - val_loss: 1.3562 - val_acc: 0.4807\n",
            "Epoch 9/35\n",
            "25838/25838 [==============================] - 56s 2ms/step - loss: 1.2004 - acc: 0.5458 - val_loss: 1.3113 - val_acc: 0.4939\n",
            "Epoch 10/35\n",
            "25838/25838 [==============================] - 56s 2ms/step - loss: 1.1212 - acc: 0.5775 - val_loss: 1.3745 - val_acc: 0.4925\n",
            "Epoch 11/35\n",
            "25838/25838 [==============================] - 56s 2ms/step - loss: 1.0378 - acc: 0.6086 - val_loss: 1.2995 - val_acc: 0.5308\n",
            "Epoch 12/35\n",
            "25838/25838 [==============================] - 56s 2ms/step - loss: 0.9567 - acc: 0.6438 - val_loss: 1.3418 - val_acc: 0.5120\n",
            "Epoch 13/35\n",
            "25838/25838 [==============================] - 56s 2ms/step - loss: 0.8581 - acc: 0.6809 - val_loss: 1.5588 - val_acc: 0.4949\n",
            "Epoch 14/35\n",
            "25838/25838 [==============================] - 56s 2ms/step - loss: 0.7628 - acc: 0.7165 - val_loss: 1.4985 - val_acc: 0.5047\n",
            "Epoch 15/35\n",
            "25838/25838 [==============================] - 56s 2ms/step - loss: 0.6612 - acc: 0.7566 - val_loss: 1.5100 - val_acc: 0.5322\n",
            "Epoch 16/35\n",
            "25838/25838 [==============================] - 56s 2ms/step - loss: 0.5619 - acc: 0.7948 - val_loss: 1.5975 - val_acc: 0.5294\n",
            "Epoch 17/35\n",
            "25838/25838 [==============================] - 56s 2ms/step - loss: 0.4883 - acc: 0.8220 - val_loss: 1.7042 - val_acc: 0.5103\n",
            "Epoch 18/35\n",
            "25838/25838 [==============================] - 56s 2ms/step - loss: 0.3987 - acc: 0.8561 - val_loss: 1.9606 - val_acc: 0.5183\n",
            "Epoch 19/35\n",
            "25838/25838 [==============================] - 56s 2ms/step - loss: 0.3431 - acc: 0.8796 - val_loss: 2.0036 - val_acc: 0.5374\n",
            "Epoch 20/35\n",
            "25838/25838 [==============================] - 56s 2ms/step - loss: 0.2787 - acc: 0.9042 - val_loss: 2.0842 - val_acc: 0.5169\n",
            "Epoch 21/35\n",
            "25838/25838 [==============================] - 56s 2ms/step - loss: 0.2301 - acc: 0.9222 - val_loss: 2.3438 - val_acc: 0.5343\n",
            "Epoch 22/35\n",
            "25838/25838 [==============================] - 56s 2ms/step - loss: 0.1911 - acc: 0.9369 - val_loss: 2.1446 - val_acc: 0.5347\n",
            "Epoch 23/35\n",
            "25838/25838 [==============================] - 56s 2ms/step - loss: 0.1686 - acc: 0.9455 - val_loss: 2.2733 - val_acc: 0.5385\n",
            "Epoch 24/35\n",
            "25838/25838 [==============================] - 56s 2ms/step - loss: 0.1362 - acc: 0.9568 - val_loss: 2.5456 - val_acc: 0.5287\n",
            "Epoch 25/35\n",
            "25838/25838 [==============================] - 56s 2ms/step - loss: 0.1301 - acc: 0.9577 - val_loss: 2.3748 - val_acc: 0.5531\n",
            "Epoch 26/35\n",
            "25838/25838 [==============================] - 56s 2ms/step - loss: 0.1116 - acc: 0.9651 - val_loss: 2.4718 - val_acc: 0.5583\n",
            "Epoch 27/35\n",
            "25838/25838 [==============================] - 56s 2ms/step - loss: 0.0846 - acc: 0.9745 - val_loss: 2.7433 - val_acc: 0.5350\n",
            "Epoch 28/35\n",
            "25838/25838 [==============================] - 56s 2ms/step - loss: 0.0846 - acc: 0.9745 - val_loss: 2.7592 - val_acc: 0.5399\n",
            "Epoch 29/35\n",
            "25838/25838 [==============================] - 56s 2ms/step - loss: 0.0579 - acc: 0.9828 - val_loss: 2.8686 - val_acc: 0.5420\n",
            "Epoch 30/35\n",
            "25838/25838 [==============================] - 56s 2ms/step - loss: 0.0558 - acc: 0.9835 - val_loss: 2.8061 - val_acc: 0.5556\n",
            "Epoch 31/35\n",
            "25838/25838 [==============================] - 56s 2ms/step - loss: 0.0535 - acc: 0.9838 - val_loss: 2.7954 - val_acc: 0.5294\n",
            "Epoch 32/35\n",
            "25838/25838 [==============================] - 56s 2ms/step - loss: 0.0544 - acc: 0.9830 - val_loss: 3.0235 - val_acc: 0.5430\n",
            "Epoch 33/35\n",
            "25838/25838 [==============================] - 56s 2ms/step - loss: 0.0448 - acc: 0.9856 - val_loss: 3.1625 - val_acc: 0.5524\n",
            "Epoch 34/35\n",
            "25838/25838 [==============================] - 56s 2ms/step - loss: 0.0448 - acc: 0.9854 - val_loss: 2.8470 - val_acc: 0.5538\n",
            "Epoch 35/35\n",
            "25838/25838 [==============================] - 55s 2ms/step - loss: 0.0386 - acc: 0.9887 - val_loss: 3.3815 - val_acc: 0.5503\n"
          ],
          "name": "stdout"
        }
      ]
    },
    {
      "metadata": {
        "id": "1y2z9P4x7grl",
        "colab_type": "code",
        "outputId": "6fb978f0-fd60-4102-f583-d4fd55da7390",
        "colab": {
          "base_uri": "https://localhost:8080/",
          "height": 51
        }
      },
      "cell_type": "code",
      "source": [
        "vgg16_64.evaluate(X_test, y_test)"
      ],
      "execution_count": 0,
      "outputs": [
        {
          "output_type": "stream",
          "text": [
            "7178/7178 [==============================] - 6s 836us/step\n"
          ],
          "name": "stdout"
        },
        {
          "output_type": "execute_result",
          "data": {
            "text/plain": [
              "[3.248024438077874, 0.5560044580995289]"
            ]
          },
          "metadata": {
            "tags": []
          },
          "execution_count": 39
        }
      ]
    },
    {
      "metadata": {
        "id": "DeQ4-_SBIv90",
        "colab_type": "text"
      },
      "cell_type": "markdown",
      "source": [
        "**Confusion matrix for VGG16 model with batch size of 64.**"
      ]
    },
    {
      "metadata": {
        "id": "UV6wxH44Ir0i",
        "colab_type": "code",
        "outputId": "db581811-d491-4335-c845-393abadb5aa7",
        "colab": {
          "base_uri": "https://localhost:8080/",
          "height": 136
        }
      },
      "cell_type": "code",
      "source": [
        "from sklearn.metrics import confusion_matrix\n",
        "\n",
        "vgg16_64_preds = vgg16_64.predict(X_test)\n",
        "confusion_matrix(y_test.argmax(axis=1), vgg16_64_preds.argmax(axis=1))"
      ],
      "execution_count": 0,
      "outputs": [
        {
          "output_type": "execute_result",
          "data": {
            "text/plain": [
              "array([[ 378,   17,   80,  186,  159,   33,  105],\n",
              "       [  19,   61,    6,    9,    8,    0,    8],\n",
              "       [  93,   10,  371,  171,  171,   90,  118],\n",
              "       [  41,    3,   35, 1522,   73,   26,   74],\n",
              "       [ 121,    4,  130,  261,  530,   29,  172],\n",
              "       [  22,    2,   54,   99,   37,  576,   41],\n",
              "       [  93,    2,  104,  253,  195,   33,  553]])"
            ]
          },
          "metadata": {
            "tags": []
          },
          "execution_count": 40
        }
      ]
    },
    {
      "metadata": {
        "id": "NrWOYyIWi2Bt",
        "colab_type": "code",
        "outputId": "2488199c-b502-4bd3-eb0a-a30a793bb356",
        "colab": {
          "base_uri": "https://localhost:8080/",
          "height": 255
        }
      },
      "cell_type": "code",
      "source": [
        "from sklearn.metrics import classification_report\n",
        "\n",
        "print(classification_report(y_test.argmax(axis=1), vgg16_64_preds.argmax(axis=1)))"
      ],
      "execution_count": 0,
      "outputs": [
        {
          "output_type": "stream",
          "text": [
            "              precision    recall  f1-score   support\n",
            "\n",
            "           0       0.49      0.39      0.44       958\n",
            "           1       0.62      0.55      0.58       111\n",
            "           2       0.48      0.36      0.41      1024\n",
            "           3       0.61      0.86      0.71      1774\n",
            "           4       0.45      0.43      0.44      1247\n",
            "           5       0.73      0.69      0.71       831\n",
            "           6       0.52      0.45      0.48      1233\n",
            "\n",
            "   micro avg       0.56      0.56      0.56      7178\n",
            "   macro avg       0.56      0.53      0.54      7178\n",
            "weighted avg       0.55      0.56      0.54      7178\n",
            "\n"
          ],
          "name": "stdout"
        }
      ]
    },
    {
      "metadata": {
        "id": "xpXDbvShI1XU",
        "colab_type": "text"
      },
      "cell_type": "markdown",
      "source": [
        "**VGG16 model with batch size of 128.**"
      ]
    },
    {
      "metadata": {
        "id": "07lpIvJgg-JH",
        "colab_type": "code",
        "colab": {}
      },
      "cell_type": "code",
      "source": [
        "vgg16_128 = vgg('vgg16', False, False)"
      ],
      "execution_count": 0,
      "outputs": []
    },
    {
      "metadata": {
        "id": "diq-6BRg7guj",
        "colab_type": "code",
        "outputId": "f3b6cec3-91bb-4852-d897-26cad1bdc74d",
        "colab": {
          "base_uri": "https://localhost:8080/",
          "height": 1224
        }
      },
      "cell_type": "code",
      "source": [
        "vgg16_128.compile(loss='categorical_crossentropy', optimizer='sgd', metrics=['accuracy'])\n",
        "history_16_128 = vgg16_128.fit(X_train, y_train, batch_size=128, epochs=35, validation_data=(X_val, y_val))"
      ],
      "execution_count": 0,
      "outputs": [
        {
          "output_type": "stream",
          "text": [
            "Train on 25838 samples, validate on 2871 samples\n",
            "Epoch 1/35\n",
            "25838/25838 [==============================] - 47s 2ms/step - loss: 1.8120 - acc: 0.2495 - val_loss: 1.8021 - val_acc: 0.2574\n",
            "Epoch 2/35\n",
            "25838/25838 [==============================] - 45s 2ms/step - loss: 1.7702 - acc: 0.2789 - val_loss: 1.7152 - val_acc: 0.3184\n",
            "Epoch 3/35\n",
            "25838/25838 [==============================] - 45s 2ms/step - loss: 1.6978 - acc: 0.3304 - val_loss: 1.6352 - val_acc: 0.3720\n",
            "Epoch 4/35\n",
            "25838/25838 [==============================] - 45s 2ms/step - loss: 1.6181 - acc: 0.3708 - val_loss: 1.5579 - val_acc: 0.4030\n",
            "Epoch 5/35\n",
            "25838/25838 [==============================] - 45s 2ms/step - loss: 1.5529 - acc: 0.4008 - val_loss: 1.5160 - val_acc: 0.4201\n",
            "Epoch 6/35\n",
            "25838/25838 [==============================] - 45s 2ms/step - loss: 1.4996 - acc: 0.4243 - val_loss: 1.4672 - val_acc: 0.4441\n",
            "Epoch 7/35\n",
            "25838/25838 [==============================] - 45s 2ms/step - loss: 1.4534 - acc: 0.4423 - val_loss: 1.5051 - val_acc: 0.4194\n",
            "Epoch 8/35\n",
            "25838/25838 [==============================] - 45s 2ms/step - loss: 1.4018 - acc: 0.4609 - val_loss: 1.4240 - val_acc: 0.4559\n",
            "Epoch 9/35\n",
            "25838/25838 [==============================] - 45s 2ms/step - loss: 1.3585 - acc: 0.4827 - val_loss: 1.4356 - val_acc: 0.4455\n",
            "Epoch 10/35\n",
            "25838/25838 [==============================] - 45s 2ms/step - loss: 1.3083 - acc: 0.5004 - val_loss: 1.3869 - val_acc: 0.4692\n",
            "Epoch 11/35\n",
            "25838/25838 [==============================] - 45s 2ms/step - loss: 1.2594 - acc: 0.5235 - val_loss: 1.5336 - val_acc: 0.4427\n",
            "Epoch 12/35\n",
            "25838/25838 [==============================] - 45s 2ms/step - loss: 1.2047 - acc: 0.5460 - val_loss: 1.3965 - val_acc: 0.4779\n",
            "Epoch 13/35\n",
            "25838/25838 [==============================] - 45s 2ms/step - loss: 1.1508 - acc: 0.5674 - val_loss: 1.3769 - val_acc: 0.4772\n",
            "Epoch 14/35\n",
            "25838/25838 [==============================] - 45s 2ms/step - loss: 1.0819 - acc: 0.5934 - val_loss: 1.4137 - val_acc: 0.4855\n",
            "Epoch 15/35\n",
            "25838/25838 [==============================] - 45s 2ms/step - loss: 1.0253 - acc: 0.6208 - val_loss: 1.3985 - val_acc: 0.4880\n",
            "Epoch 16/35\n",
            "25838/25838 [==============================] - 45s 2ms/step - loss: 0.9438 - acc: 0.6480 - val_loss: 1.5576 - val_acc: 0.4685\n",
            "Epoch 17/35\n",
            "25838/25838 [==============================] - 45s 2ms/step - loss: 0.8666 - acc: 0.6827 - val_loss: 1.6281 - val_acc: 0.4594\n",
            "Epoch 18/35\n",
            "25838/25838 [==============================] - 45s 2ms/step - loss: 0.7778 - acc: 0.7127 - val_loss: 1.5436 - val_acc: 0.5127\n",
            "Epoch 19/35\n",
            "25838/25838 [==============================] - 45s 2ms/step - loss: 0.6960 - acc: 0.7451 - val_loss: 1.5868 - val_acc: 0.5280\n",
            "Epoch 20/35\n",
            "25838/25838 [==============================] - 45s 2ms/step - loss: 0.6013 - acc: 0.7818 - val_loss: 1.7712 - val_acc: 0.4848\n",
            "Epoch 21/35\n",
            "25838/25838 [==============================] - 45s 2ms/step - loss: 0.5287 - acc: 0.8114 - val_loss: 1.7586 - val_acc: 0.4894\n",
            "Epoch 22/35\n",
            "25838/25838 [==============================] - 45s 2ms/step - loss: 0.4462 - acc: 0.8414 - val_loss: 1.7812 - val_acc: 0.5103\n",
            "Epoch 23/35\n",
            "25838/25838 [==============================] - 45s 2ms/step - loss: 0.3594 - acc: 0.8721 - val_loss: 2.1678 - val_acc: 0.5179\n",
            "Epoch 24/35\n",
            "25838/25838 [==============================] - 45s 2ms/step - loss: 0.3189 - acc: 0.8884 - val_loss: 2.1263 - val_acc: 0.5193\n",
            "Epoch 25/35\n",
            "25838/25838 [==============================] - 45s 2ms/step - loss: 0.2609 - acc: 0.9119 - val_loss: 2.3163 - val_acc: 0.5430\n",
            "Epoch 26/35\n",
            "25838/25838 [==============================] - 45s 2ms/step - loss: 0.2142 - acc: 0.9289 - val_loss: 2.4580 - val_acc: 0.5284\n",
            "Epoch 27/35\n",
            "25838/25838 [==============================] - 45s 2ms/step - loss: 0.1936 - acc: 0.9349 - val_loss: 2.1187 - val_acc: 0.5322\n",
            "Epoch 28/35\n",
            "25838/25838 [==============================] - 45s 2ms/step - loss: 0.1734 - acc: 0.9435 - val_loss: 2.4188 - val_acc: 0.5273\n",
            "Epoch 29/35\n",
            "25838/25838 [==============================] - 45s 2ms/step - loss: 0.1211 - acc: 0.9604 - val_loss: 2.6607 - val_acc: 0.5239\n",
            "Epoch 30/35\n",
            "25838/25838 [==============================] - 45s 2ms/step - loss: 0.1250 - acc: 0.9615 - val_loss: 3.1220 - val_acc: 0.5246\n",
            "Epoch 31/35\n",
            "25838/25838 [==============================] - 45s 2ms/step - loss: 0.0892 - acc: 0.9743 - val_loss: 2.6956 - val_acc: 0.5308\n",
            "Epoch 32/35\n",
            "25838/25838 [==============================] - 45s 2ms/step - loss: 0.0776 - acc: 0.9772 - val_loss: 2.9233 - val_acc: 0.5204\n",
            "Epoch 33/35\n",
            "25838/25838 [==============================] - 45s 2ms/step - loss: 0.0651 - acc: 0.9820 - val_loss: 2.9217 - val_acc: 0.5263\n",
            "Epoch 34/35\n",
            "25838/25838 [==============================] - 45s 2ms/step - loss: 0.0538 - acc: 0.9846 - val_loss: 3.3522 - val_acc: 0.5263\n",
            "Epoch 35/35\n",
            "25838/25838 [==============================] - 45s 2ms/step - loss: 0.0548 - acc: 0.9849 - val_loss: 3.0474 - val_acc: 0.5322\n"
          ],
          "name": "stdout"
        }
      ]
    },
    {
      "metadata": {
        "id": "2sPizMHa7p6Y",
        "colab_type": "code",
        "outputId": "f0cecfbf-c40a-4e6e-de1b-9fab318b6719",
        "colab": {
          "base_uri": "https://localhost:8080/",
          "height": 51
        }
      },
      "cell_type": "code",
      "source": [
        "vgg16_128.evaluate(X_test, y_test)"
      ],
      "execution_count": 0,
      "outputs": [
        {
          "output_type": "stream",
          "text": [
            "7178/7178 [==============================] - 6s 837us/step\n"
          ],
          "name": "stdout"
        },
        {
          "output_type": "execute_result",
          "data": {
            "text/plain": [
              "[2.8384924290338973, 0.5468096963274476]"
            ]
          },
          "metadata": {
            "tags": []
          },
          "execution_count": 44
        }
      ]
    },
    {
      "metadata": {
        "id": "1AQbaSnaJDM2",
        "colab_type": "text"
      },
      "cell_type": "markdown",
      "source": [
        "**Confusion matrix for VGG16 model with batch size of 64.**"
      ]
    },
    {
      "metadata": {
        "id": "my2Le3yFJDX5",
        "colab_type": "code",
        "outputId": "838adbab-a892-46a9-c0e1-783b0e1d4c91",
        "colab": {
          "base_uri": "https://localhost:8080/",
          "height": 136
        }
      },
      "cell_type": "code",
      "source": [
        "from sklearn.metrics import confusion_matrix\n",
        "\n",
        "vgg16_128_preds = vgg16_128.predict(X_test)\n",
        "confusion_matrix(y_test.argmax(axis=1), vgg16_128_preds.argmax(axis=1))"
      ],
      "execution_count": 0,
      "outputs": [
        {
          "output_type": "execute_result",
          "data": {
            "text/plain": [
              "array([[ 439,    8,  100,  117,  177,   30,   87],\n",
              "       [  23,   49,   12,    6,   11,    0,   10],\n",
              "       [ 118,    4,  380,   99,  217,   85,  121],\n",
              "       [  75,    2,   49, 1380,  131,   48,   89],\n",
              "       [ 151,    4,  128,  169,  566,   41,  188],\n",
              "       [  48,    2,   65,   56,   41,  577,   42],\n",
              "       [ 122,    4,   72,  188,  277,   36,  534]])"
            ]
          },
          "metadata": {
            "tags": []
          },
          "execution_count": 45
        }
      ]
    },
    {
      "metadata": {
        "id": "DubsSTQui5aN",
        "colab_type": "code",
        "outputId": "91058d56-548e-4658-f6ff-2049ea6dae69",
        "colab": {
          "base_uri": "https://localhost:8080/",
          "height": 255
        }
      },
      "cell_type": "code",
      "source": [
        "from sklearn.metrics import classification_report\n",
        "\n",
        "print(classification_report(y_test.argmax(axis=1), vgg16_128_preds.argmax(axis=1)))"
      ],
      "execution_count": 0,
      "outputs": [
        {
          "output_type": "stream",
          "text": [
            "              precision    recall  f1-score   support\n",
            "\n",
            "           0       0.45      0.46      0.45       958\n",
            "           1       0.67      0.44      0.53       111\n",
            "           2       0.47      0.37      0.42      1024\n",
            "           3       0.68      0.78      0.73      1774\n",
            "           4       0.40      0.45      0.42      1247\n",
            "           5       0.71      0.69      0.70       831\n",
            "           6       0.50      0.43      0.46      1233\n",
            "\n",
            "   micro avg       0.55      0.55      0.55      7178\n",
            "   macro avg       0.55      0.52      0.53      7178\n",
            "weighted avg       0.54      0.55      0.54      7178\n",
            "\n"
          ],
          "name": "stdout"
        }
      ]
    },
    {
      "metadata": {
        "id": "nv-sdc5xJQ4V",
        "colab_type": "text"
      },
      "cell_type": "markdown",
      "source": [
        "# Loss and Accuracy Plots for VGG16 Models"
      ]
    },
    {
      "metadata": {
        "id": "vVRuqgdPCryS",
        "colab_type": "code",
        "outputId": "e1673b44-432a-4e7f-c7f0-6024b6932e57",
        "colab": {
          "base_uri": "https://localhost:8080/",
          "height": 549
        }
      },
      "cell_type": "code",
      "source": [
        "model_16_histories = [history_16_32, history_16_64, history_16_128]\n",
        "plot(model_16_histories, labels, \"loss\")\n",
        "plot(model_16_histories, labels, \"accuracy\")"
      ],
      "execution_count": 0,
      "outputs": [
        {
          "output_type": "display_data",
          "data": {
            "image/png": "[encoded data removed]",
            "text/plain": [
              "<Figure size 432x288 with 1 Axes>"
            ]
          },
          "metadata": {
            "tags": []
          }
        },
        {
          "output_type": "display_data",
          "data": {
            "image/png": "[encoded data removed]",
            "text/plain": [
              "<Figure size 432x288 with 1 Axes>"
            ]
          },
          "metadata": {
            "tags": []
          }
        }
      ]
    },
    {
      "metadata": {
        "id": "ZzFTOC108hvm",
        "colab_type": "code",
        "colab": {}
      },
      "cell_type": "code",
      "source": [
        "auth.authenticate_user()\n",
        "gauth = GoogleAuth()\n",
        "gauth.credentials = GoogleCredentials.get_application_default()            \n",
        "drive = GoogleDrive(gauth)"
      ],
      "execution_count": 0,
      "outputs": []
    },
    {
      "metadata": {
        "id": "HdYA4wHR2PXl",
        "colab_type": "code",
        "colab": {}
      },
      "cell_type": "code",
      "source": [
        "# Save keras model.\n",
        "vgg16_32.save('vgg16_32.h5')\n",
        "model_file = drive.CreateFile({'VGG16_32' : 'vgg16_32.h5'})                       \n",
        "model_file.SetContentFile('vgg16_32.h5')                       \n",
        "model_file.Upload()"
      ],
      "execution_count": 0,
      "outputs": []
    },
    {
      "metadata": {
        "id": "5STWxGKM2wMP",
        "colab_type": "code",
        "colab": {}
      },
      "cell_type": "code",
      "source": [
        "# Save keras model.\n",
        "vgg16_64.save('vgg16_64.h5')\n",
        "model_file = drive.CreateFile({'VGG16_64' : 'vgg16_64.h5'})                       \n",
        "model_file.SetContentFile('vgg16_64.h5')                       \n",
        "model_file.Upload()"
      ],
      "execution_count": 0,
      "outputs": []
    },
    {
      "metadata": {
        "id": "82h3oZ9f2Qou",
        "colab_type": "code",
        "colab": {}
      },
      "cell_type": "code",
      "source": [
        "# Save keras model.\n",
        "vgg16_128.save('vgg16_128.h5')\n",
        "model_file = drive.CreateFile({'VGG16_128' : 'vgg16_128.h5'})                       \n",
        "model_file.SetContentFile('vgg16_128.h5')                       \n",
        "model_file.Upload()"
      ],
      "execution_count": 0,
      "outputs": []
    },
    {
      "metadata": {
        "id": "Dr8p_yAEJVjT",
        "colab_type": "text"
      },
      "cell_type": "markdown",
      "source": [
        "# VGG with Dropout After Each Block"
      ]
    },
    {
      "metadata": {
        "id": "S6R3-fOS2f3G",
        "colab_type": "code",
        "outputId": "749d1a8c-a735-4d9f-ce94-890986e9757a",
        "colab": {
          "base_uri": "https://localhost:8080/",
          "height": 88
        }
      },
      "cell_type": "code",
      "source": [
        "vgg11_64_more_drop = vgg('vgg11', True, True)"
      ],
      "execution_count": 0,
      "outputs": [
        {
          "output_type": "stream",
          "text": [
            "WARNING:tensorflow:From /usr/local/lib/python3.6/dist-packages/keras/backend/tensorflow_backend.py:3445: calling dropout (from tensorflow.python.ops.nn_ops) with keep_prob is deprecated and will be removed in a future version.\n",
            "Instructions for updating:\n",
            "Please use `rate` instead of `keep_prob`. Rate should be set to `rate = 1 - keep_prob`.\n"
          ],
          "name": "stdout"
        }
      ]
    },
    {
      "metadata": {
        "id": "AUTUEr5u2f6Y",
        "colab_type": "code",
        "outputId": "1dfe2034-2c71-40a1-fc08-eebccade8d1c",
        "colab": {
          "base_uri": "https://localhost:8080/",
          "height": 1224
        }
      },
      "cell_type": "code",
      "source": [
        "vgg11_64_more_drop.compile(loss='categorical_crossentropy', optimizer='sgd', metrics=['accuracy'])\n",
        "history_11_64_more_drop = vgg11_64_more_drop.fit(X_train, y_train, batch_size=64, epochs=35, validation_data=(X_val, y_val))"
      ],
      "execution_count": 0,
      "outputs": [
        {
          "output_type": "stream",
          "text": [
            "Train on 25838 samples, validate on 2871 samples\n",
            "Epoch 1/35\n",
            "25838/25838 [==============================] - 35s 1ms/step - loss: 2.0091 - acc: 0.2290 - val_loss: 1.8739 - val_acc: 0.2400\n",
            "Epoch 2/35\n",
            "25838/25838 [==============================] - 34s 1ms/step - loss: 1.8173 - acc: 0.2526 - val_loss: 1.8636 - val_acc: 0.2400\n",
            "Epoch 3/35\n",
            "25838/25838 [==============================] - 34s 1ms/step - loss: 1.8152 - acc: 0.2524 - val_loss: 1.8525 - val_acc: 0.2400\n",
            "Epoch 4/35\n",
            "25838/25838 [==============================] - 34s 1ms/step - loss: 1.8115 - acc: 0.2530 - val_loss: 1.8458 - val_acc: 0.2400\n",
            "Epoch 5/35\n",
            "25838/25838 [==============================] - 34s 1ms/step - loss: 1.8091 - acc: 0.2527 - val_loss: 1.8444 - val_acc: 0.2400\n",
            "Epoch 6/35\n",
            "25838/25838 [==============================] - 34s 1ms/step - loss: 1.8082 - acc: 0.2532 - val_loss: 1.8407 - val_acc: 0.2400\n",
            "Epoch 7/35\n",
            "25838/25838 [==============================] - 34s 1ms/step - loss: 1.8056 - acc: 0.2530 - val_loss: 1.8361 - val_acc: 0.2400\n",
            "Epoch 8/35\n",
            "25838/25838 [==============================] - 34s 1ms/step - loss: 1.8016 - acc: 0.2529 - val_loss: 1.8362 - val_acc: 0.2400\n",
            "Epoch 9/35\n",
            "25838/25838 [==============================] - 34s 1ms/step - loss: 1.7950 - acc: 0.2542 - val_loss: 1.8275 - val_acc: 0.2400\n",
            "Epoch 10/35\n",
            "25838/25838 [==============================] - 34s 1ms/step - loss: 1.7849 - acc: 0.2580 - val_loss: 1.8221 - val_acc: 0.2400\n",
            "Epoch 11/35\n",
            "25838/25838 [==============================] - 34s 1ms/step - loss: 1.7724 - acc: 0.2612 - val_loss: 1.8077 - val_acc: 0.2396\n",
            "Epoch 12/35\n",
            "25838/25838 [==============================] - 34s 1ms/step - loss: 1.7640 - acc: 0.2681 - val_loss: 1.8021 - val_acc: 0.2393\n",
            "Epoch 13/35\n",
            "25838/25838 [==============================] - 34s 1ms/step - loss: 1.7555 - acc: 0.2715 - val_loss: 1.7833 - val_acc: 0.2435\n",
            "Epoch 14/35\n",
            "25838/25838 [==============================] - 34s 1ms/step - loss: 1.7457 - acc: 0.2775 - val_loss: 1.7633 - val_acc: 0.2567\n",
            "Epoch 15/35\n",
            "25838/25838 [==============================] - 34s 1ms/step - loss: 1.7401 - acc: 0.2826 - val_loss: 1.7771 - val_acc: 0.2463\n",
            "Epoch 16/35\n",
            "25838/25838 [==============================] - 34s 1ms/step - loss: 1.7332 - acc: 0.2862 - val_loss: 1.7583 - val_acc: 0.2598\n",
            "Epoch 17/35\n",
            "25838/25838 [==============================] - 34s 1ms/step - loss: 1.7281 - acc: 0.2876 - val_loss: 1.7506 - val_acc: 0.2679\n",
            "Epoch 18/35\n",
            "25838/25838 [==============================] - 34s 1ms/step - loss: 1.7212 - acc: 0.2917 - val_loss: 1.7338 - val_acc: 0.2710\n",
            "Epoch 19/35\n",
            "25838/25838 [==============================] - 34s 1ms/step - loss: 1.7174 - acc: 0.2940 - val_loss: 1.7484 - val_acc: 0.2640\n",
            "Epoch 20/35\n",
            "25838/25838 [==============================] - 34s 1ms/step - loss: 1.7093 - acc: 0.3011 - val_loss: 1.7277 - val_acc: 0.2766\n",
            "Epoch 21/35\n",
            "25838/25838 [==============================] - 34s 1ms/step - loss: 1.6987 - acc: 0.3060 - val_loss: 1.7144 - val_acc: 0.2825\n",
            "Epoch 22/35\n",
            "25838/25838 [==============================] - 34s 1ms/step - loss: 1.6909 - acc: 0.3171 - val_loss: 1.7375 - val_acc: 0.2692\n",
            "Epoch 23/35\n",
            "25838/25838 [==============================] - 34s 1ms/step - loss: 1.6792 - acc: 0.3237 - val_loss: 1.6924 - val_acc: 0.3072\n",
            "Epoch 24/35\n",
            "25838/25838 [==============================] - 34s 1ms/step - loss: 1.6592 - acc: 0.3412 - val_loss: 1.6741 - val_acc: 0.3281\n",
            "Epoch 25/35\n",
            "25838/25838 [==============================] - 34s 1ms/step - loss: 1.6409 - acc: 0.3465 - val_loss: 1.6515 - val_acc: 0.3480\n",
            "Epoch 26/35\n",
            "25838/25838 [==============================] - 34s 1ms/step - loss: 1.6261 - acc: 0.3607 - val_loss: 1.6108 - val_acc: 0.3716\n",
            "Epoch 27/35\n",
            "25838/25838 [==============================] - 34s 1ms/step - loss: 1.6107 - acc: 0.3683 - val_loss: 1.5886 - val_acc: 0.3845\n",
            "Epoch 28/35\n",
            "25838/25838 [==============================] - 34s 1ms/step - loss: 1.5923 - acc: 0.3764 - val_loss: 1.6379 - val_acc: 0.3570\n",
            "Epoch 29/35\n",
            "25838/25838 [==============================] - 34s 1ms/step - loss: 1.5830 - acc: 0.3810 - val_loss: 1.5889 - val_acc: 0.3727\n",
            "Epoch 30/35\n",
            "25838/25838 [==============================] - 34s 1ms/step - loss: 1.5744 - acc: 0.3838 - val_loss: 1.5473 - val_acc: 0.3922\n",
            "Epoch 31/35\n",
            "25838/25838 [==============================] - 34s 1ms/step - loss: 1.5654 - acc: 0.3875 - val_loss: 1.5812 - val_acc: 0.3720\n",
            "Epoch 32/35\n",
            "25838/25838 [==============================] - 34s 1ms/step - loss: 1.5497 - acc: 0.3949 - val_loss: 1.5908 - val_acc: 0.3859\n",
            "Epoch 33/35\n",
            "25838/25838 [==============================] - 34s 1ms/step - loss: 1.5354 - acc: 0.4026 - val_loss: 1.5610 - val_acc: 0.3842\n",
            "Epoch 34/35\n",
            "25838/25838 [==============================] - 34s 1ms/step - loss: 1.5295 - acc: 0.4057 - val_loss: 1.5318 - val_acc: 0.4047\n",
            "Epoch 35/35\n",
            "25838/25838 [==============================] - 34s 1ms/step - loss: 1.5166 - acc: 0.4106 - val_loss: 1.5598 - val_acc: 0.3800\n"
          ],
          "name": "stdout"
        }
      ]
    },
    {
      "metadata": {
        "id": "gfPYbDIB2f0p",
        "colab_type": "code",
        "outputId": "e9cbc35f-dbc7-4cf9-9396-05dcefaeb194",
        "colab": {
          "base_uri": "https://localhost:8080/",
          "height": 51
        }
      },
      "cell_type": "code",
      "source": [
        "vgg11_64_more_drop.evaluate(X_test, y_test)"
      ],
      "execution_count": 0,
      "outputs": [
        {
          "output_type": "stream",
          "text": [
            "7178/7178 [==============================] - 4s 496us/step\n"
          ],
          "name": "stdout"
        },
        {
          "output_type": "execute_result",
          "data": {
            "text/plain": [
              "[1.5582064397821986, 0.38074672612415844]"
            ]
          },
          "metadata": {
            "tags": []
          },
          "execution_count": 50
        }
      ]
    },
    {
      "metadata": {
        "id": "IWOQ6i8gJtbp",
        "colab_type": "code",
        "outputId": "102f5874-4fb0-4311-cc14-e78b544b3ca7",
        "colab": {
          "base_uri": "https://localhost:8080/",
          "height": 136
        }
      },
      "cell_type": "code",
      "source": [
        "from sklearn.metrics import confusion_matrix\n",
        "\n",
        "vgg11_64_preds_all_drop = vgg11_64_more_drop.predict(X_test)\n",
        "confusion_matrix(y_test.argmax(axis=1), vgg11_64_preds_all_drop.argmax(axis=1))"
      ],
      "execution_count": 0,
      "outputs": [
        {
          "output_type": "execute_result",
          "data": {
            "text/plain": [
              "array([[   8,    0,    4,  507,  336,    7,   96],\n",
              "       [   1,    0,    0,   64,   39,    0,    7],\n",
              "       [   6,    0,   10,  536,  329,   34,  109],\n",
              "       [   2,    0,    1, 1671,   74,    3,   23],\n",
              "       [   1,    0,    1,  650,  469,    1,  125],\n",
              "       [  15,    0,   39,  252,  151,  285,   89],\n",
              "       [   1,    0,    2,  550,  388,    2,  290]])"
            ]
          },
          "metadata": {
            "tags": []
          },
          "execution_count": 51
        }
      ]
    },
    {
      "metadata": {
        "id": "QVbvv709i8z4",
        "colab_type": "code",
        "outputId": "fbf0ef82-8f54-45de-8774-dc40cbb90c08",
        "colab": {
          "base_uri": "https://localhost:8080/",
          "height": 309
        }
      },
      "cell_type": "code",
      "source": [
        "from sklearn.metrics import classification_report\n",
        "\n",
        "print(classification_report(y_test.argmax(axis=1), vgg11_64_preds_all_drop.argmax(axis=1)))"
      ],
      "execution_count": 0,
      "outputs": [
        {
          "output_type": "stream",
          "text": [
            "              precision    recall  f1-score   support\n",
            "\n",
            "           0       0.24      0.01      0.02       958\n",
            "           1       0.00      0.00      0.00       111\n",
            "           2       0.18      0.01      0.02      1024\n",
            "           3       0.40      0.94      0.56      1774\n",
            "           4       0.26      0.38      0.31      1247\n",
            "           5       0.86      0.34      0.49       831\n",
            "           6       0.39      0.24      0.29      1233\n",
            "\n",
            "   micro avg       0.38      0.38      0.38      7178\n",
            "   macro avg       0.33      0.27      0.24      7178\n",
            "weighted avg       0.37      0.38      0.30      7178\n",
            "\n"
          ],
          "name": "stdout"
        },
        {
          "output_type": "stream",
          "text": [
            "/usr/local/lib/python3.6/dist-packages/sklearn/metrics/classification.py:1143: UndefinedMetricWarning: Precision and F-score are ill-defined and being set to 0.0 in labels with no predicted samples.\n",
            "  'precision', 'predicted', average, warn_for)\n"
          ],
          "name": "stderr"
        }
      ]
    },
    {
      "metadata": {
        "id": "Tog9v9jTjKP-",
        "colab_type": "code",
        "outputId": "42e38f6f-4bfb-4064-b0f8-d92fc416f8e9",
        "colab": {
          "base_uri": "https://localhost:8080/",
          "height": 549
        }
      },
      "cell_type": "code",
      "source": [
        "plot([history_11_64_more_drop], ['Model with All Drop'], \"loss\")\n",
        "plot([history_11_64_more_drop], ['Model with All Drop'], \"accuracy\")"
      ],
      "execution_count": 0,
      "outputs": [
        {
          "output_type": "display_data",
          "data": {
            "image/png": "[encoded data removed]",
            "text/plain": [
              "<Figure size 432x288 with 1 Axes>"
            ]
          },
          "metadata": {
            "tags": []
          }
        },
        {
          "output_type": "display_data",
          "data": {
            "image/png": "[encoded data removed]",
            "text/plain": [
              "<Figure size 432x288 with 1 Axes>"
            ]
          },
          "metadata": {
            "tags": []
          }
        }
      ]
    },
    {
      "metadata": {
        "id": "TkaEY-tZJ2Xh",
        "colab_type": "text"
      },
      "cell_type": "markdown",
      "source": [
        "# VGG with Dropout Every Other Block"
      ]
    },
    {
      "metadata": {
        "id": "UX28LIahJ7s8",
        "colab_type": "code",
        "colab": {}
      },
      "cell_type": "code",
      "source": [
        "vgg11_64_less_drop = vgg('vgg11', True, False)"
      ],
      "execution_count": 0,
      "outputs": []
    },
    {
      "metadata": {
        "id": "YgDEudMJJ7pU",
        "colab_type": "code",
        "outputId": "b062c933-781d-4618-f5cc-3e4416628e07",
        "colab": {
          "base_uri": "https://localhost:8080/",
          "height": 1734
        }
      },
      "cell_type": "code",
      "source": [
        "vgg11_64_less_drop.compile(loss='categorical_crossentropy', optimizer='sgd', metrics=['accuracy'])\n",
        "history_11_64_less_drop = vgg11_64_less_drop.fit(X_train, y_train, batch_size=64, epochs=50, validation_data=(X_val, y_val))"
      ],
      "execution_count": 0,
      "outputs": [
        {
          "output_type": "stream",
          "text": [
            "Train on 25838 samples, validate on 2871 samples\n",
            "Epoch 1/50\n",
            "25838/25838 [==============================] - 35s 1ms/step - loss: 1.8951 - acc: 0.2409 - val_loss: 1.8445 - val_acc: 0.2400\n",
            "Epoch 2/50\n",
            "25838/25838 [==============================] - 33s 1ms/step - loss: 1.8159 - acc: 0.2526 - val_loss: 1.8371 - val_acc: 0.2400\n",
            "Epoch 3/50\n",
            "25838/25838 [==============================] - 33s 1ms/step - loss: 1.8120 - acc: 0.2526 - val_loss: 1.8277 - val_acc: 0.2400\n",
            "Epoch 4/50\n",
            "25838/25838 [==============================] - 33s 1ms/step - loss: 1.8091 - acc: 0.2526 - val_loss: 1.8246 - val_acc: 0.2400\n",
            "Epoch 5/50\n",
            "25838/25838 [==============================] - 33s 1ms/step - loss: 1.8034 - acc: 0.2524 - val_loss: 1.8125 - val_acc: 0.2421\n",
            "Epoch 6/50\n",
            "25838/25838 [==============================] - 33s 1ms/step - loss: 1.7899 - acc: 0.2546 - val_loss: 1.7953 - val_acc: 0.2421\n",
            "Epoch 7/50\n",
            "25838/25838 [==============================] - 33s 1ms/step - loss: 1.7639 - acc: 0.2652 - val_loss: 1.7576 - val_acc: 0.2679\n",
            "Epoch 8/50\n",
            "25838/25838 [==============================] - 33s 1ms/step - loss: 1.7401 - acc: 0.2782 - val_loss: 1.7354 - val_acc: 0.2936\n",
            "Epoch 9/50\n",
            "25838/25838 [==============================] - 33s 1ms/step - loss: 1.7209 - acc: 0.2975 - val_loss: 1.7213 - val_acc: 0.3149\n",
            "Epoch 10/50\n",
            "25838/25838 [==============================] - 33s 1ms/step - loss: 1.6832 - acc: 0.3229 - val_loss: 1.6308 - val_acc: 0.3556\n",
            "Epoch 11/50\n",
            "25838/25838 [==============================] - 33s 1ms/step - loss: 1.6378 - acc: 0.3489 - val_loss: 1.5894 - val_acc: 0.3838\n",
            "Epoch 12/50\n",
            "25838/25838 [==============================] - 33s 1ms/step - loss: 1.6029 - acc: 0.3698 - val_loss: 1.5711 - val_acc: 0.4072\n",
            "Epoch 13/50\n",
            "25838/25838 [==============================] - 33s 1ms/step - loss: 1.5728 - acc: 0.3844 - val_loss: 1.5261 - val_acc: 0.4145\n",
            "Epoch 14/50\n",
            "25838/25838 [==============================] - 33s 1ms/step - loss: 1.5462 - acc: 0.3980 - val_loss: 1.5204 - val_acc: 0.4016\n",
            "Epoch 15/50\n",
            "25838/25838 [==============================] - 33s 1ms/step - loss: 1.5220 - acc: 0.4121 - val_loss: 1.4595 - val_acc: 0.4357\n",
            "Epoch 16/50\n",
            "25838/25838 [==============================] - 33s 1ms/step - loss: 1.4936 - acc: 0.4227 - val_loss: 1.4147 - val_acc: 0.4518\n",
            "Epoch 17/50\n",
            "25838/25838 [==============================] - 33s 1ms/step - loss: 1.4682 - acc: 0.4334 - val_loss: 1.4762 - val_acc: 0.4298\n",
            "Epoch 18/50\n",
            "25838/25838 [==============================] - 33s 1ms/step - loss: 1.4428 - acc: 0.4438 - val_loss: 1.3863 - val_acc: 0.4667\n",
            "Epoch 19/50\n",
            "25838/25838 [==============================] - 33s 1ms/step - loss: 1.4196 - acc: 0.4548 - val_loss: 1.3471 - val_acc: 0.4779\n",
            "Epoch 20/50\n",
            "25838/25838 [==============================] - 33s 1ms/step - loss: 1.3957 - acc: 0.4663 - val_loss: 1.3773 - val_acc: 0.4817\n",
            "Epoch 21/50\n",
            "25838/25838 [==============================] - 33s 1ms/step - loss: 1.3744 - acc: 0.4740 - val_loss: 1.3052 - val_acc: 0.5005\n",
            "Epoch 22/50\n",
            "25838/25838 [==============================] - 33s 1ms/step - loss: 1.3557 - acc: 0.4823 - val_loss: 1.2813 - val_acc: 0.5099\n",
            "Epoch 23/50\n",
            "25838/25838 [==============================] - 33s 1ms/step - loss: 1.3317 - acc: 0.4927 - val_loss: 1.2747 - val_acc: 0.5249\n",
            "Epoch 24/50\n",
            "25838/25838 [==============================] - 33s 1ms/step - loss: 1.3186 - acc: 0.4952 - val_loss: 1.3420 - val_acc: 0.4835\n",
            "Epoch 25/50\n",
            "25838/25838 [==============================] - 33s 1ms/step - loss: 1.2945 - acc: 0.5075 - val_loss: 1.2711 - val_acc: 0.5141\n",
            "Epoch 26/50\n",
            "25838/25838 [==============================] - 33s 1ms/step - loss: 1.2846 - acc: 0.5099 - val_loss: 1.2665 - val_acc: 0.5204\n",
            "Epoch 27/50\n",
            "25838/25838 [==============================] - 33s 1ms/step - loss: 1.2658 - acc: 0.5211 - val_loss: 1.2328 - val_acc: 0.5343\n",
            "Epoch 28/50\n",
            "25838/25838 [==============================] - 33s 1ms/step - loss: 1.2493 - acc: 0.5267 - val_loss: 1.2521 - val_acc: 0.5169\n",
            "Epoch 29/50\n",
            "25838/25838 [==============================] - 33s 1ms/step - loss: 1.2336 - acc: 0.5348 - val_loss: 1.2550 - val_acc: 0.5092\n",
            "Epoch 30/50\n",
            "25838/25838 [==============================] - 33s 1ms/step - loss: 1.2198 - acc: 0.5395 - val_loss: 1.2170 - val_acc: 0.5385\n",
            "Epoch 31/50\n",
            "25838/25838 [==============================] - 33s 1ms/step - loss: 1.2025 - acc: 0.5459 - val_loss: 1.2204 - val_acc: 0.5367\n",
            "Epoch 32/50\n",
            "25838/25838 [==============================] - 33s 1ms/step - loss: 1.1871 - acc: 0.5513 - val_loss: 1.1770 - val_acc: 0.5601\n",
            "Epoch 33/50\n",
            "25838/25838 [==============================] - 33s 1ms/step - loss: 1.1775 - acc: 0.5583 - val_loss: 1.2158 - val_acc: 0.5266\n",
            "Epoch 34/50\n",
            "25838/25838 [==============================] - 33s 1ms/step - loss: 1.1577 - acc: 0.5640 - val_loss: 1.1911 - val_acc: 0.5552\n",
            "Epoch 35/50\n",
            "25838/25838 [==============================] - 33s 1ms/step - loss: 1.1418 - acc: 0.5686 - val_loss: 1.1506 - val_acc: 0.5751\n",
            "Epoch 36/50\n",
            "25838/25838 [==============================] - 34s 1ms/step - loss: 1.1337 - acc: 0.5737 - val_loss: 1.1337 - val_acc: 0.5719\n",
            "Epoch 37/50\n",
            "25838/25838 [==============================] - 34s 1ms/step - loss: 1.1112 - acc: 0.5796 - val_loss: 1.1495 - val_acc: 0.5653\n",
            "Epoch 38/50\n",
            "25838/25838 [==============================] - 33s 1ms/step - loss: 1.0987 - acc: 0.5858 - val_loss: 1.1344 - val_acc: 0.5740\n",
            "Epoch 39/50\n",
            "25838/25838 [==============================] - 34s 1ms/step - loss: 1.0818 - acc: 0.5930 - val_loss: 1.1535 - val_acc: 0.5674\n",
            "Epoch 40/50\n",
            "25838/25838 [==============================] - 33s 1ms/step - loss: 1.0760 - acc: 0.5949 - val_loss: 1.1384 - val_acc: 0.5719\n",
            "Epoch 41/50\n",
            "25838/25838 [==============================] - 33s 1ms/step - loss: 1.0517 - acc: 0.6053 - val_loss: 1.1949 - val_acc: 0.5402\n",
            "Epoch 42/50\n",
            "25838/25838 [==============================] - 33s 1ms/step - loss: 1.0362 - acc: 0.6108 - val_loss: 1.1200 - val_acc: 0.5792\n",
            "Epoch 43/50\n",
            "25838/25838 [==============================] - 33s 1ms/step - loss: 1.0261 - acc: 0.6127 - val_loss: 1.1173 - val_acc: 0.5848\n",
            "Epoch 44/50\n",
            "25838/25838 [==============================] - 33s 1ms/step - loss: 1.0122 - acc: 0.6208 - val_loss: 1.1260 - val_acc: 0.5775\n",
            "Epoch 45/50\n",
            "25838/25838 [==============================] - 34s 1ms/step - loss: 0.9995 - acc: 0.6253 - val_loss: 1.1306 - val_acc: 0.5838\n",
            "Epoch 46/50\n",
            "25838/25838 [==============================] - 34s 1ms/step - loss: 0.9848 - acc: 0.6300 - val_loss: 1.0971 - val_acc: 0.5946\n",
            "Epoch 47/50\n",
            "25838/25838 [==============================] - 34s 1ms/step - loss: 0.9668 - acc: 0.6386 - val_loss: 1.1199 - val_acc: 0.5900\n",
            "Epoch 48/50\n",
            "25838/25838 [==============================] - 33s 1ms/step - loss: 0.9481 - acc: 0.6422 - val_loss: 1.1498 - val_acc: 0.5775\n",
            "Epoch 49/50\n",
            "25838/25838 [==============================] - 33s 1ms/step - loss: 0.9298 - acc: 0.6541 - val_loss: 1.1041 - val_acc: 0.5886\n",
            "Epoch 50/50\n",
            "25838/25838 [==============================] - 34s 1ms/step - loss: 0.9188 - acc: 0.6568 - val_loss: 1.1275 - val_acc: 0.5956\n"
          ],
          "name": "stdout"
        }
      ]
    },
    {
      "metadata": {
        "id": "O4oNaaqjJ7mA",
        "colab_type": "code",
        "outputId": "2254323c-baef-45ed-8863-8823880c79e4",
        "colab": {
          "base_uri": "https://localhost:8080/",
          "height": 51
        }
      },
      "cell_type": "code",
      "source": [
        "vgg11_64_less_drop.evaluate(X_test, y_test)"
      ],
      "execution_count": 0,
      "outputs": [
        {
          "output_type": "stream",
          "text": [
            "7178/7178 [==============================] - 4s 493us/step\n"
          ],
          "name": "stdout"
        },
        {
          "output_type": "execute_result",
          "data": {
            "text/plain": [
              "[1.1331292657209127, 0.5865143494050993]"
            ]
          },
          "metadata": {
            "tags": []
          },
          "execution_count": 56
        }
      ]
    },
    {
      "metadata": {
        "id": "bW3xoF6ZJ7iQ",
        "colab_type": "code",
        "outputId": "197579e8-d565-452e-88a5-d75aa9ec6363",
        "colab": {
          "base_uri": "https://localhost:8080/",
          "height": 136
        }
      },
      "cell_type": "code",
      "source": [
        "from sklearn.metrics import confusion_matrix\n",
        "\n",
        "vgg11_64_preds_some_drop = vgg11_64_less_drop.predict(X_test)\n",
        "confusion_matrix(y_test.argmax(axis=1), vgg11_64_preds_some_drop.argmax(axis=1))"
      ],
      "execution_count": 0,
      "outputs": [
        {
          "output_type": "execute_result",
          "data": {
            "text/plain": [
              "array([[ 447,    6,   35,   78,  240,   11,  141],\n",
              "       [  27,   34,    2,    9,   30,    0,    9],\n",
              "       [ 102,    4,  194,   89,  394,   70,  171],\n",
              "       [  39,    0,   12, 1516,   98,   15,   94],\n",
              "       [  99,    1,   34,  115,  760,    9,  229],\n",
              "       [  28,    1,   53,   71,   59,  532,   87],\n",
              "       [  67,    1,   11,  126,  294,    7,  727]])"
            ]
          },
          "metadata": {
            "tags": []
          },
          "execution_count": 57
        }
      ]
    },
    {
      "metadata": {
        "id": "Hp0FbnjOi_os",
        "colab_type": "code",
        "outputId": "df5cbe76-5ddd-4a8a-83db-c6e2f99c5808",
        "colab": {
          "base_uri": "https://localhost:8080/",
          "height": 255
        }
      },
      "cell_type": "code",
      "source": [
        "from sklearn.metrics import classification_report\n",
        "\n",
        "print(classification_report(y_test.argmax(axis=1), vgg11_64_preds_some_drop.argmax(axis=1)))"
      ],
      "execution_count": 0,
      "outputs": [
        {
          "output_type": "stream",
          "text": [
            "              precision    recall  f1-score   support\n",
            "\n",
            "           0       0.55      0.47      0.51       958\n",
            "           1       0.72      0.31      0.43       111\n",
            "           2       0.57      0.19      0.28      1024\n",
            "           3       0.76      0.85      0.80      1774\n",
            "           4       0.41      0.61      0.49      1247\n",
            "           5       0.83      0.64      0.72       831\n",
            "           6       0.50      0.59      0.54      1233\n",
            "\n",
            "   micro avg       0.59      0.59      0.59      7178\n",
            "   macro avg       0.62      0.52      0.54      7178\n",
            "weighted avg       0.60      0.59      0.57      7178\n",
            "\n"
          ],
          "name": "stdout"
        }
      ]
    },
    {
      "metadata": {
        "id": "LGmKId3XjkIx",
        "colab_type": "code",
        "outputId": "86582087-f552-4481-dbb6-b185d06d432e",
        "colab": {
          "base_uri": "https://localhost:8080/",
          "height": 549
        }
      },
      "cell_type": "code",
      "source": [
        "plot([history_11_64_less_drop], ['Model with Less Drop'], \"loss\")\n",
        "plot([history_11_64_less_drop], ['Model with Less Drop'], \"accuracy\")"
      ],
      "execution_count": 0,
      "outputs": [
        {
          "output_type": "display_data",
          "data": {
            "image/png": "[encoded data removed]",
            "text/plain": [
              "<Figure size 432x288 with 1 Axes>"
            ]
          },
          "metadata": {
            "tags": []
          }
        },
        {
          "output_type": "display_data",
          "data": {
            "image/png": "[encoded data removed]",
            "text/plain": [
              "<Figure size 432x288 with 1 Axes>"
            ]
          },
          "metadata": {
            "tags": []
          }
        }
      ]
    },
    {
      "metadata": {
        "id": "JMSmHKMGOaqx",
        "colab_type": "text"
      },
      "cell_type": "markdown",
      "source": [
        "# Resnet50 Implementation"
      ]
    },
    {
      "metadata": {
        "id": "JjgN_z-VZcLs",
        "colab_type": "code",
        "colab": {}
      },
      "cell_type": "code",
      "source": [
        "from keras.layers import Input, ZeroPadding2D, MaxPooling2D, Flatten, BatchNormalization, AveragePooling2D, Activation, Dense, Add, Conv2D\n",
        "from keras.initializers import glorot_uniform\n",
        "from keras import backend as K\n",
        "from keras.models import Model"
      ],
      "execution_count": 0,
      "outputs": []
    },
    {
      "metadata": {
        "id": "dXJ3yO4TXeb5",
        "colab_type": "text"
      },
      "cell_type": "markdown",
      "source": [
        "**The identity block passes the raw input forward and adds it to what has currently be fed through the network**"
      ]
    },
    {
      "metadata": {
        "id": "0K8XpxkBOdTw",
        "colab_type": "code",
        "colab": {}
      },
      "cell_type": "code",
      "source": [
        "def identity_block(X, f, filters):\n",
        "  F1, F2, F3 = filters\n",
        "  \n",
        "  X_original = X\n",
        "  \n",
        "  X = Conv2D(filters = F1, kernel_size = (1, 1), strides = (1, 1), kernel_initializer = glorot_uniform(seed=1234))(X)\n",
        "  X = BatchNormalization(axis=3)(X)\n",
        "  X = Activation('relu')(X)\n",
        "  \n",
        "  X = Conv2D(filters = F2, kernel_size = (f, f), strides = (1, 1), padding = \"same\", kernel_initializer = glorot_uniform(seed=1234))(X)\n",
        "  X = BatchNormalization(axis=3)(X)\n",
        "  X = Activation('relu')(X)\n",
        "  \n",
        "  X = Conv2D(filters = F3, kernel_size = (1, 1), strides = (1, 1), kernel_initializer = glorot_uniform(seed=1234))(X)\n",
        "  X = BatchNormalization(axis=3)(X)\n",
        "  \n",
        "  X = Add()([X, X_original])\n",
        "  X = Activation('relu')(X)\n",
        "  \n",
        "  return X"
      ],
      "execution_count": 0,
      "outputs": []
    },
    {
      "metadata": {
        "id": "rfUTVgxoXtPE",
        "colab_type": "text"
      },
      "cell_type": "markdown",
      "source": [
        "**The convolutional block is located at the beginning of each module and transforms the dimension of the raw data to allow addition into the network due to the changed filter size**"
      ]
    },
    {
      "metadata": {
        "id": "l5brLldoR132",
        "colab_type": "code",
        "colab": {}
      },
      "cell_type": "code",
      "source": [
        "def conv_block(X, f, filters, stride):\n",
        "  F1, F2, F3 = filters\n",
        "  \n",
        "  X_original = X\n",
        "\n",
        "  X = Conv2D(filters = F1, kernel_size = (1, 1), strides = (stride, stride), kernel_initializer = glorot_uniform(seed=1234))(X)\n",
        "  X = BatchNormalization(axis=3)(X)\n",
        "  X = Activation('relu')(X)\n",
        "\n",
        "  X = Conv2D(filters = F2, kernel_size = (f, f), strides = (1, 1), padding = \"same\", kernel_initializer = glorot_uniform(seed=1234))(X)\n",
        "  X = BatchNormalization(axis=3)(X)\n",
        "  X = Activation('relu')(X)\n",
        "\n",
        "  X = Conv2D(filters = F3, kernel_size = (1, 1), strides = (1, 1), kernel_initializer = glorot_uniform(seed=1234))(X)\n",
        "  X = BatchNormalization(axis=3)(X)\n",
        "  \n",
        "  X_original = Conv2D(filters = F3, kernel_size = (1, 1), strides = (stride, stride), kernel_initializer = glorot_uniform(seed=1234))(X)\n",
        "  X = BatchNormalization(axis=3)(X_original)\n",
        "  \n",
        "  X = Add()([X, X_original])\n",
        "  \n",
        "  X = Activation('relu')(X)\n",
        "  \n",
        "  return X"
      ],
      "execution_count": 0,
      "outputs": []
    },
    {
      "metadata": {
        "id": "KZ4I80WoUd-f",
        "colab_type": "code",
        "colab": {}
      },
      "cell_type": "code",
      "source": [
        "def resnet_50(input_shape=(48,48,1), output_size=7):\n",
        "  model_input = Input(input_shape)\n",
        "  X = ZeroPadding2D((3, 3))(model_input)\n",
        "  X = Conv2D(filters = 64, kernel_size = (7, 7), strides = (2, 2), kernel_initializer = glorot_uniform(seed=1234))(X)\n",
        "  X = BatchNormalization(axis=3)(X)\n",
        "  X = Activation('relu')(X)\n",
        "  X = MaxPooling2D((3,3), strides = (2, 2))(X)\n",
        "  \n",
        "  X = conv_block(X, 3, [64, 64, 256], 1)\n",
        "  for i in range(2):\n",
        "    X = identity_block(X, 3, [64, 64, 256])\n",
        "    \n",
        "  X = conv_block(X, 3, [128, 128, 512], 2)\n",
        "  for i in range(3):\n",
        "    X = identity_block(X, 3, [128, 128, 512])\n",
        "    \n",
        "  X = conv_block(X, 3, [256, 256, 1024], 2)\n",
        "  for i in range(5):\n",
        "     X = identity_block(X, 3, [256, 256, 1024])\n",
        "    \n",
        "  X = conv_block(X, 3, [512, 512, 2048], 2)\n",
        "  for i in range(2):\n",
        "      X = identity_block(X, 3, [512, 512, 2048])\n",
        "  \n",
        "  X = AveragePooling2D((1,1))(X)\n",
        "  X = Flatten()(X)\n",
        "  X = Dense(output_size, activation='softmax', kernel_initializer = glorot_uniform(seed=1234))(X)\n",
        "  \n",
        "  model = Model(inputs=model_input, outputs=X)\n",
        "  \n",
        "  return model"
      ],
      "execution_count": 0,
      "outputs": []
    },
    {
      "metadata": {
        "id": "S8a-07KgLJMD",
        "colab_type": "text"
      },
      "cell_type": "markdown",
      "source": [
        "# ResNet50 with Adam Optimizer"
      ]
    },
    {
      "metadata": {
        "id": "mfa-cLr7YXPO",
        "colab_type": "code",
        "colab": {}
      },
      "cell_type": "code",
      "source": [
        "# Adam was trained with the last two Conv blocks commented out. It wasn't improving on the whole network\n",
        "resnet50_model_adam = resnet_50()\n",
        "resnet50_model_adam.compile(loss='categorical_crossentropy', optimizer='adam', metrics=['accuracy'])"
      ],
      "execution_count": 0,
      "outputs": []
    },
    {
      "metadata": {
        "id": "_0wgQdwvbxlI",
        "colab_type": "code",
        "outputId": "6e4d1e5a-d3de-4167-a307-144127d47280",
        "colab": {
          "base_uri": "https://localhost:8080/",
          "height": 6426
        }
      },
      "cell_type": "code",
      "source": [
        "resnet50_model_adam.summary()"
      ],
      "execution_count": 0,
      "outputs": [
        {
          "output_type": "stream",
          "text": [
            "__________________________________________________________________________________________________\n",
            "Layer (type)                    Output Shape         Param #     Connected to                     \n",
            "==================================================================================================\n",
            "input_1 (InputLayer)            (None, 48, 48, 1)    0                                            \n",
            "__________________________________________________________________________________________________\n",
            "zero_padding2d_1 (ZeroPadding2D (None, 54, 54, 1)    0           input_1[0][0]                    \n",
            "__________________________________________________________________________________________________\n",
            "conv2d_22 (Conv2D)              (None, 24, 24, 64)   3200        zero_padding2d_1[0][0]           \n",
            "__________________________________________________________________________________________________\n",
            "batch_normalization_1 (BatchNor (None, 24, 24, 64)   256         conv2d_22[0][0]                  \n",
            "__________________________________________________________________________________________________\n",
            "activation_1 (Activation)       (None, 24, 24, 64)   0           batch_normalization_1[0][0]      \n",
            "__________________________________________________________________________________________________\n",
            "max_pooling2d_11 (MaxPooling2D) (None, 11, 11, 64)   0           activation_1[0][0]               \n",
            "__________________________________________________________________________________________________\n",
            "conv2d_23 (Conv2D)              (None, 11, 11, 64)   4160        max_pooling2d_11[0][0]           \n",
            "__________________________________________________________________________________________________\n",
            "batch_normalization_2 (BatchNor (None, 11, 11, 64)   256         conv2d_23[0][0]                  \n",
            "__________________________________________________________________________________________________\n",
            "activation_2 (Activation)       (None, 11, 11, 64)   0           batch_normalization_2[0][0]      \n",
            "__________________________________________________________________________________________________\n",
            "conv2d_24 (Conv2D)              (None, 11, 11, 64)   36928       activation_2[0][0]               \n",
            "__________________________________________________________________________________________________\n",
            "batch_normalization_3 (BatchNor (None, 11, 11, 64)   256         conv2d_24[0][0]                  \n",
            "__________________________________________________________________________________________________\n",
            "activation_3 (Activation)       (None, 11, 11, 64)   0           batch_normalization_3[0][0]      \n",
            "__________________________________________________________________________________________________\n",
            "conv2d_25 (Conv2D)              (None, 11, 11, 256)  16640       activation_3[0][0]               \n",
            "__________________________________________________________________________________________________\n",
            "batch_normalization_4 (BatchNor (None, 11, 11, 256)  1024        conv2d_25[0][0]                  \n",
            "__________________________________________________________________________________________________\n",
            "conv2d_26 (Conv2D)              (None, 11, 11, 256)  65792       batch_normalization_4[0][0]      \n",
            "__________________________________________________________________________________________________\n",
            "batch_normalization_5 (BatchNor (None, 11, 11, 256)  1024        conv2d_26[0][0]                  \n",
            "__________________________________________________________________________________________________\n",
            "add_1 (Add)                     (None, 11, 11, 256)  0           batch_normalization_5[0][0]      \n",
            "                                                                 conv2d_26[0][0]                  \n",
            "__________________________________________________________________________________________________\n",
            "activation_4 (Activation)       (None, 11, 11, 256)  0           add_1[0][0]                      \n",
            "__________________________________________________________________________________________________\n",
            "conv2d_27 (Conv2D)              (None, 11, 11, 64)   16448       activation_4[0][0]               \n",
            "__________________________________________________________________________________________________\n",
            "batch_normalization_6 (BatchNor (None, 11, 11, 64)   256         conv2d_27[0][0]                  \n",
            "__________________________________________________________________________________________________\n",
            "activation_5 (Activation)       (None, 11, 11, 64)   0           batch_normalization_6[0][0]      \n",
            "__________________________________________________________________________________________________\n",
            "conv2d_28 (Conv2D)              (None, 11, 11, 64)   36928       activation_5[0][0]               \n",
            "__________________________________________________________________________________________________\n",
            "batch_normalization_7 (BatchNor (None, 11, 11, 64)   256         conv2d_28[0][0]                  \n",
            "__________________________________________________________________________________________________\n",
            "activation_6 (Activation)       (None, 11, 11, 64)   0           batch_normalization_7[0][0]      \n",
            "__________________________________________________________________________________________________\n",
            "conv2d_29 (Conv2D)              (None, 11, 11, 256)  16640       activation_6[0][0]               \n",
            "__________________________________________________________________________________________________\n",
            "batch_normalization_8 (BatchNor (None, 11, 11, 256)  1024        conv2d_29[0][0]                  \n",
            "__________________________________________________________________________________________________\n",
            "add_2 (Add)                     (None, 11, 11, 256)  0           batch_normalization_8[0][0]      \n",
            "                                                                 activation_4[0][0]               \n",
            "__________________________________________________________________________________________________\n",
            "activation_7 (Activation)       (None, 11, 11, 256)  0           add_2[0][0]                      \n",
            "__________________________________________________________________________________________________\n",
            "conv2d_30 (Conv2D)              (None, 11, 11, 64)   16448       activation_7[0][0]               \n",
            "__________________________________________________________________________________________________\n",
            "batch_normalization_9 (BatchNor (None, 11, 11, 64)   256         conv2d_30[0][0]                  \n",
            "__________________________________________________________________________________________________\n",
            "activation_8 (Activation)       (None, 11, 11, 64)   0           batch_normalization_9[0][0]      \n",
            "__________________________________________________________________________________________________\n",
            "conv2d_31 (Conv2D)              (None, 11, 11, 64)   36928       activation_8[0][0]               \n",
            "__________________________________________________________________________________________________\n",
            "batch_normalization_10 (BatchNo (None, 11, 11, 64)   256         conv2d_31[0][0]                  \n",
            "__________________________________________________________________________________________________\n",
            "activation_9 (Activation)       (None, 11, 11, 64)   0           batch_normalization_10[0][0]     \n",
            "__________________________________________________________________________________________________\n",
            "conv2d_32 (Conv2D)              (None, 11, 11, 256)  16640       activation_9[0][0]               \n",
            "__________________________________________________________________________________________________\n",
            "batch_normalization_11 (BatchNo (None, 11, 11, 256)  1024        conv2d_32[0][0]                  \n",
            "__________________________________________________________________________________________________\n",
            "add_3 (Add)                     (None, 11, 11, 256)  0           batch_normalization_11[0][0]     \n",
            "                                                                 activation_7[0][0]               \n",
            "__________________________________________________________________________________________________\n",
            "activation_10 (Activation)      (None, 11, 11, 256)  0           add_3[0][0]                      \n",
            "__________________________________________________________________________________________________\n",
            "conv2d_33 (Conv2D)              (None, 6, 6, 128)    32896       activation_10[0][0]              \n",
            "__________________________________________________________________________________________________\n",
            "batch_normalization_12 (BatchNo (None, 6, 6, 128)    512         conv2d_33[0][0]                  \n",
            "__________________________________________________________________________________________________\n",
            "activation_11 (Activation)      (None, 6, 6, 128)    0           batch_normalization_12[0][0]     \n",
            "__________________________________________________________________________________________________\n",
            "conv2d_34 (Conv2D)              (None, 6, 6, 128)    147584      activation_11[0][0]              \n",
            "__________________________________________________________________________________________________\n",
            "batch_normalization_13 (BatchNo (None, 6, 6, 128)    512         conv2d_34[0][0]                  \n",
            "__________________________________________________________________________________________________\n",
            "activation_12 (Activation)      (None, 6, 6, 128)    0           batch_normalization_13[0][0]     \n",
            "__________________________________________________________________________________________________\n",
            "conv2d_35 (Conv2D)              (None, 6, 6, 512)    66048       activation_12[0][0]              \n",
            "__________________________________________________________________________________________________\n",
            "batch_normalization_14 (BatchNo (None, 6, 6, 512)    2048        conv2d_35[0][0]                  \n",
            "__________________________________________________________________________________________________\n",
            "conv2d_36 (Conv2D)              (None, 3, 3, 512)    262656      batch_normalization_14[0][0]     \n",
            "__________________________________________________________________________________________________\n",
            "batch_normalization_15 (BatchNo (None, 3, 3, 512)    2048        conv2d_36[0][0]                  \n",
            "__________________________________________________________________________________________________\n",
            "add_4 (Add)                     (None, 3, 3, 512)    0           batch_normalization_15[0][0]     \n",
            "                                                                 conv2d_36[0][0]                  \n",
            "__________________________________________________________________________________________________\n",
            "activation_13 (Activation)      (None, 3, 3, 512)    0           add_4[0][0]                      \n",
            "__________________________________________________________________________________________________\n",
            "conv2d_37 (Conv2D)              (None, 3, 3, 128)    65664       activation_13[0][0]              \n",
            "__________________________________________________________________________________________________\n",
            "batch_normalization_16 (BatchNo (None, 3, 3, 128)    512         conv2d_37[0][0]                  \n",
            "__________________________________________________________________________________________________\n",
            "activation_14 (Activation)      (None, 3, 3, 128)    0           batch_normalization_16[0][0]     \n",
            "__________________________________________________________________________________________________\n",
            "conv2d_38 (Conv2D)              (None, 3, 3, 128)    147584      activation_14[0][0]              \n",
            "__________________________________________________________________________________________________\n",
            "batch_normalization_17 (BatchNo (None, 3, 3, 128)    512         conv2d_38[0][0]                  \n",
            "__________________________________________________________________________________________________\n",
            "activation_15 (Activation)      (None, 3, 3, 128)    0           batch_normalization_17[0][0]     \n",
            "__________________________________________________________________________________________________\n",
            "conv2d_39 (Conv2D)              (None, 3, 3, 512)    66048       activation_15[0][0]              \n",
            "__________________________________________________________________________________________________\n",
            "batch_normalization_18 (BatchNo (None, 3, 3, 512)    2048        conv2d_39[0][0]                  \n",
            "__________________________________________________________________________________________________\n",
            "add_5 (Add)                     (None, 3, 3, 512)    0           batch_normalization_18[0][0]     \n",
            "                                                                 activation_13[0][0]              \n",
            "__________________________________________________________________________________________________\n",
            "activation_16 (Activation)      (None, 3, 3, 512)    0           add_5[0][0]                      \n",
            "__________________________________________________________________________________________________\n",
            "conv2d_40 (Conv2D)              (None, 3, 3, 128)    65664       activation_16[0][0]              \n",
            "__________________________________________________________________________________________________\n",
            "batch_normalization_19 (BatchNo (None, 3, 3, 128)    512         conv2d_40[0][0]                  \n",
            "__________________________________________________________________________________________________\n",
            "activation_17 (Activation)      (None, 3, 3, 128)    0           batch_normalization_19[0][0]     \n",
            "__________________________________________________________________________________________________\n",
            "conv2d_41 (Conv2D)              (None, 3, 3, 128)    147584      activation_17[0][0]              \n",
            "__________________________________________________________________________________________________\n",
            "batch_normalization_20 (BatchNo (None, 3, 3, 128)    512         conv2d_41[0][0]                  \n",
            "__________________________________________________________________________________________________\n",
            "activation_18 (Activation)      (None, 3, 3, 128)    0           batch_normalization_20[0][0]     \n",
            "__________________________________________________________________________________________________\n",
            "conv2d_42 (Conv2D)              (None, 3, 3, 512)    66048       activation_18[0][0]              \n",
            "__________________________________________________________________________________________________\n",
            "batch_normalization_21 (BatchNo (None, 3, 3, 512)    2048        conv2d_42[0][0]                  \n",
            "__________________________________________________________________________________________________\n",
            "add_6 (Add)                     (None, 3, 3, 512)    0           batch_normalization_21[0][0]     \n",
            "                                                                 activation_16[0][0]              \n",
            "__________________________________________________________________________________________________\n",
            "activation_19 (Activation)      (None, 3, 3, 512)    0           add_6[0][0]                      \n",
            "__________________________________________________________________________________________________\n",
            "conv2d_43 (Conv2D)              (None, 3, 3, 128)    65664       activation_19[0][0]              \n",
            "__________________________________________________________________________________________________\n",
            "batch_normalization_22 (BatchNo (None, 3, 3, 128)    512         conv2d_43[0][0]                  \n",
            "__________________________________________________________________________________________________\n",
            "activation_20 (Activation)      (None, 3, 3, 128)    0           batch_normalization_22[0][0]     \n",
            "__________________________________________________________________________________________________\n",
            "conv2d_44 (Conv2D)              (None, 3, 3, 128)    147584      activation_20[0][0]              \n",
            "__________________________________________________________________________________________________\n",
            "batch_normalization_23 (BatchNo (None, 3, 3, 128)    512         conv2d_44[0][0]                  \n",
            "__________________________________________________________________________________________________\n",
            "activation_21 (Activation)      (None, 3, 3, 128)    0           batch_normalization_23[0][0]     \n",
            "__________________________________________________________________________________________________\n",
            "conv2d_45 (Conv2D)              (None, 3, 3, 512)    66048       activation_21[0][0]              \n",
            "__________________________________________________________________________________________________\n",
            "batch_normalization_24 (BatchNo (None, 3, 3, 512)    2048        conv2d_45[0][0]                  \n",
            "__________________________________________________________________________________________________\n",
            "add_7 (Add)                     (None, 3, 3, 512)    0           batch_normalization_24[0][0]     \n",
            "                                                                 activation_19[0][0]              \n",
            "__________________________________________________________________________________________________\n",
            "activation_22 (Activation)      (None, 3, 3, 512)    0           add_7[0][0]                      \n",
            "__________________________________________________________________________________________________\n",
            "conv2d_46 (Conv2D)              (None, 2, 2, 256)    131328      activation_22[0][0]              \n",
            "__________________________________________________________________________________________________\n",
            "batch_normalization_25 (BatchNo (None, 2, 2, 256)    1024        conv2d_46[0][0]                  \n",
            "__________________________________________________________________________________________________\n",
            "activation_23 (Activation)      (None, 2, 2, 256)    0           batch_normalization_25[0][0]     \n",
            "__________________________________________________________________________________________________\n",
            "conv2d_47 (Conv2D)              (None, 2, 2, 256)    590080      activation_23[0][0]              \n",
            "__________________________________________________________________________________________________\n",
            "batch_normalization_26 (BatchNo (None, 2, 2, 256)    1024        conv2d_47[0][0]                  \n",
            "__________________________________________________________________________________________________\n",
            "activation_24 (Activation)      (None, 2, 2, 256)    0           batch_normalization_26[0][0]     \n",
            "__________________________________________________________________________________________________\n",
            "conv2d_48 (Conv2D)              (None, 2, 2, 1024)   263168      activation_24[0][0]              \n",
            "__________________________________________________________________________________________________\n",
            "batch_normalization_27 (BatchNo (None, 2, 2, 1024)   4096        conv2d_48[0][0]                  \n",
            "__________________________________________________________________________________________________\n",
            "conv2d_49 (Conv2D)              (None, 1, 1, 1024)   1049600     batch_normalization_27[0][0]     \n",
            "__________________________________________________________________________________________________\n",
            "batch_normalization_28 (BatchNo (None, 1, 1, 1024)   4096        conv2d_49[0][0]                  \n",
            "__________________________________________________________________________________________________\n",
            "add_8 (Add)                     (None, 1, 1, 1024)   0           batch_normalization_28[0][0]     \n",
            "                                                                 conv2d_49[0][0]                  \n",
            "__________________________________________________________________________________________________\n",
            "activation_25 (Activation)      (None, 1, 1, 1024)   0           add_8[0][0]                      \n",
            "__________________________________________________________________________________________________\n",
            "conv2d_50 (Conv2D)              (None, 1, 1, 256)    262400      activation_25[0][0]              \n",
            "__________________________________________________________________________________________________\n",
            "batch_normalization_29 (BatchNo (None, 1, 1, 256)    1024        conv2d_50[0][0]                  \n",
            "__________________________________________________________________________________________________\n",
            "activation_26 (Activation)      (None, 1, 1, 256)    0           batch_normalization_29[0][0]     \n",
            "__________________________________________________________________________________________________\n",
            "conv2d_51 (Conv2D)              (None, 1, 1, 256)    590080      activation_26[0][0]              \n",
            "__________________________________________________________________________________________________\n",
            "batch_normalization_30 (BatchNo (None, 1, 1, 256)    1024        conv2d_51[0][0]                  \n",
            "__________________________________________________________________________________________________\n",
            "activation_27 (Activation)      (None, 1, 1, 256)    0           batch_normalization_30[0][0]     \n",
            "__________________________________________________________________________________________________\n",
            "conv2d_52 (Conv2D)              (None, 1, 1, 1024)   263168      activation_27[0][0]              \n",
            "__________________________________________________________________________________________________\n",
            "batch_normalization_31 (BatchNo (None, 1, 1, 1024)   4096        conv2d_52[0][0]                  \n",
            "__________________________________________________________________________________________________\n",
            "add_9 (Add)                     (None, 1, 1, 1024)   0           batch_normalization_31[0][0]     \n",
            "                                                                 activation_25[0][0]              \n",
            "__________________________________________________________________________________________________\n",
            "activation_28 (Activation)      (None, 1, 1, 1024)   0           add_9[0][0]                      \n",
            "__________________________________________________________________________________________________\n",
            "conv2d_53 (Conv2D)              (None, 1, 1, 256)    262400      activation_28[0][0]              \n",
            "__________________________________________________________________________________________________\n",
            "batch_normalization_32 (BatchNo (None, 1, 1, 256)    1024        conv2d_53[0][0]                  \n",
            "__________________________________________________________________________________________________\n",
            "activation_29 (Activation)      (None, 1, 1, 256)    0           batch_normalization_32[0][0]     \n",
            "__________________________________________________________________________________________________\n",
            "conv2d_54 (Conv2D)              (None, 1, 1, 256)    590080      activation_29[0][0]              \n",
            "__________________________________________________________________________________________________\n",
            "batch_normalization_33 (BatchNo (None, 1, 1, 256)    1024        conv2d_54[0][0]                  \n",
            "__________________________________________________________________________________________________\n",
            "activation_30 (Activation)      (None, 1, 1, 256)    0           batch_normalization_33[0][0]     \n",
            "__________________________________________________________________________________________________\n",
            "conv2d_55 (Conv2D)              (None, 1, 1, 1024)   263168      activation_30[0][0]              \n",
            "__________________________________________________________________________________________________\n",
            "batch_normalization_34 (BatchNo (None, 1, 1, 1024)   4096        conv2d_55[0][0]                  \n",
            "__________________________________________________________________________________________________\n",
            "add_10 (Add)                    (None, 1, 1, 1024)   0           batch_normalization_34[0][0]     \n",
            "                                                                 activation_28[0][0]              \n",
            "__________________________________________________________________________________________________\n",
            "activation_31 (Activation)      (None, 1, 1, 1024)   0           add_10[0][0]                     \n",
            "__________________________________________________________________________________________________\n",
            "conv2d_56 (Conv2D)              (None, 1, 1, 256)    262400      activation_31[0][0]              \n",
            "__________________________________________________________________________________________________\n",
            "batch_normalization_35 (BatchNo (None, 1, 1, 256)    1024        conv2d_56[0][0]                  \n",
            "__________________________________________________________________________________________________\n",
            "activation_32 (Activation)      (None, 1, 1, 256)    0           batch_normalization_35[0][0]     \n",
            "__________________________________________________________________________________________________\n",
            "conv2d_57 (Conv2D)              (None, 1, 1, 256)    590080      activation_32[0][0]              \n",
            "__________________________________________________________________________________________________\n",
            "batch_normalization_36 (BatchNo (None, 1, 1, 256)    1024        conv2d_57[0][0]                  \n",
            "__________________________________________________________________________________________________\n",
            "activation_33 (Activation)      (None, 1, 1, 256)    0           batch_normalization_36[0][0]     \n",
            "__________________________________________________________________________________________________\n",
            "conv2d_58 (Conv2D)              (None, 1, 1, 1024)   263168      activation_33[0][0]              \n",
            "__________________________________________________________________________________________________\n",
            "batch_normalization_37 (BatchNo (None, 1, 1, 1024)   4096        conv2d_58[0][0]                  \n",
            "__________________________________________________________________________________________________\n",
            "add_11 (Add)                    (None, 1, 1, 1024)   0           batch_normalization_37[0][0]     \n",
            "                                                                 activation_31[0][0]              \n",
            "__________________________________________________________________________________________________\n",
            "activation_34 (Activation)      (None, 1, 1, 1024)   0           add_11[0][0]                     \n",
            "__________________________________________________________________________________________________\n",
            "conv2d_59 (Conv2D)              (None, 1, 1, 256)    262400      activation_34[0][0]              \n",
            "__________________________________________________________________________________________________\n",
            "batch_normalization_38 (BatchNo (None, 1, 1, 256)    1024        conv2d_59[0][0]                  \n",
            "__________________________________________________________________________________________________\n",
            "activation_35 (Activation)      (None, 1, 1, 256)    0           batch_normalization_38[0][0]     \n",
            "__________________________________________________________________________________________________\n",
            "conv2d_60 (Conv2D)              (None, 1, 1, 256)    590080      activation_35[0][0]              \n",
            "__________________________________________________________________________________________________\n",
            "batch_normalization_39 (BatchNo (None, 1, 1, 256)    1024        conv2d_60[0][0]                  \n",
            "__________________________________________________________________________________________________\n",
            "activation_36 (Activation)      (None, 1, 1, 256)    0           batch_normalization_39[0][0]     \n",
            "__________________________________________________________________________________________________\n",
            "conv2d_61 (Conv2D)              (None, 1, 1, 1024)   263168      activation_36[0][0]              \n",
            "__________________________________________________________________________________________________\n",
            "batch_normalization_40 (BatchNo (None, 1, 1, 1024)   4096        conv2d_61[0][0]                  \n",
            "__________________________________________________________________________________________________\n",
            "add_12 (Add)                    (None, 1, 1, 1024)   0           batch_normalization_40[0][0]     \n",
            "                                                                 activation_34[0][0]              \n",
            "__________________________________________________________________________________________________\n",
            "activation_37 (Activation)      (None, 1, 1, 1024)   0           add_12[0][0]                     \n",
            "__________________________________________________________________________________________________\n",
            "conv2d_62 (Conv2D)              (None, 1, 1, 256)    262400      activation_37[0][0]              \n",
            "__________________________________________________________________________________________________\n",
            "batch_normalization_41 (BatchNo (None, 1, 1, 256)    1024        conv2d_62[0][0]                  \n",
            "__________________________________________________________________________________________________\n",
            "activation_38 (Activation)      (None, 1, 1, 256)    0           batch_normalization_41[0][0]     \n",
            "__________________________________________________________________________________________________\n",
            "conv2d_63 (Conv2D)              (None, 1, 1, 256)    590080      activation_38[0][0]              \n",
            "__________________________________________________________________________________________________\n",
            "batch_normalization_42 (BatchNo (None, 1, 1, 256)    1024        conv2d_63[0][0]                  \n",
            "__________________________________________________________________________________________________\n",
            "activation_39 (Activation)      (None, 1, 1, 256)    0           batch_normalization_42[0][0]     \n",
            "__________________________________________________________________________________________________\n",
            "conv2d_64 (Conv2D)              (None, 1, 1, 1024)   263168      activation_39[0][0]              \n",
            "__________________________________________________________________________________________________\n",
            "batch_normalization_43 (BatchNo (None, 1, 1, 1024)   4096        conv2d_64[0][0]                  \n",
            "__________________________________________________________________________________________________\n",
            "add_13 (Add)                    (None, 1, 1, 1024)   0           batch_normalization_43[0][0]     \n",
            "                                                                 activation_37[0][0]              \n",
            "__________________________________________________________________________________________________\n",
            "activation_40 (Activation)      (None, 1, 1, 1024)   0           add_13[0][0]                     \n",
            "__________________________________________________________________________________________________\n",
            "conv2d_65 (Conv2D)              (None, 1, 1, 512)    524800      activation_40[0][0]              \n",
            "__________________________________________________________________________________________________\n",
            "batch_normalization_44 (BatchNo (None, 1, 1, 512)    2048        conv2d_65[0][0]                  \n",
            "__________________________________________________________________________________________________\n",
            "activation_41 (Activation)      (None, 1, 1, 512)    0           batch_normalization_44[0][0]     \n",
            "__________________________________________________________________________________________________\n",
            "conv2d_66 (Conv2D)              (None, 1, 1, 512)    2359808     activation_41[0][0]              \n",
            "__________________________________________________________________________________________________\n",
            "batch_normalization_45 (BatchNo (None, 1, 1, 512)    2048        conv2d_66[0][0]                  \n",
            "__________________________________________________________________________________________________\n",
            "activation_42 (Activation)      (None, 1, 1, 512)    0           batch_normalization_45[0][0]     \n",
            "__________________________________________________________________________________________________\n",
            "conv2d_67 (Conv2D)              (None, 1, 1, 2048)   1050624     activation_42[0][0]              \n",
            "__________________________________________________________________________________________________\n",
            "batch_normalization_46 (BatchNo (None, 1, 1, 2048)   8192        conv2d_67[0][0]                  \n",
            "__________________________________________________________________________________________________\n",
            "conv2d_68 (Conv2D)              (None, 1, 1, 2048)   4196352     batch_normalization_46[0][0]     \n",
            "__________________________________________________________________________________________________\n",
            "batch_normalization_47 (BatchNo (None, 1, 1, 2048)   8192        conv2d_68[0][0]                  \n",
            "__________________________________________________________________________________________________\n",
            "add_14 (Add)                    (None, 1, 1, 2048)   0           batch_normalization_47[0][0]     \n",
            "                                                                 conv2d_68[0][0]                  \n",
            "__________________________________________________________________________________________________\n",
            "activation_43 (Activation)      (None, 1, 1, 2048)   0           add_14[0][0]                     \n",
            "__________________________________________________________________________________________________\n",
            "conv2d_69 (Conv2D)              (None, 1, 1, 512)    1049088     activation_43[0][0]              \n",
            "__________________________________________________________________________________________________\n",
            "batch_normalization_48 (BatchNo (None, 1, 1, 512)    2048        conv2d_69[0][0]                  \n",
            "__________________________________________________________________________________________________\n",
            "activation_44 (Activation)      (None, 1, 1, 512)    0           batch_normalization_48[0][0]     \n",
            "__________________________________________________________________________________________________\n",
            "conv2d_70 (Conv2D)              (None, 1, 1, 512)    2359808     activation_44[0][0]              \n",
            "__________________________________________________________________________________________________\n",
            "batch_normalization_49 (BatchNo (None, 1, 1, 512)    2048        conv2d_70[0][0]                  \n",
            "__________________________________________________________________________________________________\n",
            "activation_45 (Activation)      (None, 1, 1, 512)    0           batch_normalization_49[0][0]     \n",
            "__________________________________________________________________________________________________\n",
            "conv2d_71 (Conv2D)              (None, 1, 1, 2048)   1050624     activation_45[0][0]              \n",
            "__________________________________________________________________________________________________\n",
            "batch_normalization_50 (BatchNo (None, 1, 1, 2048)   8192        conv2d_71[0][0]                  \n",
            "__________________________________________________________________________________________________\n",
            "add_15 (Add)                    (None, 1, 1, 2048)   0           batch_normalization_50[0][0]     \n",
            "                                                                 activation_43[0][0]              \n",
            "__________________________________________________________________________________________________\n",
            "activation_46 (Activation)      (None, 1, 1, 2048)   0           add_15[0][0]                     \n",
            "__________________________________________________________________________________________________\n",
            "conv2d_72 (Conv2D)              (None, 1, 1, 512)    1049088     activation_46[0][0]              \n",
            "__________________________________________________________________________________________________\n",
            "batch_normalization_51 (BatchNo (None, 1, 1, 512)    2048        conv2d_72[0][0]                  \n",
            "__________________________________________________________________________________________________\n",
            "activation_47 (Activation)      (None, 1, 1, 512)    0           batch_normalization_51[0][0]     \n",
            "__________________________________________________________________________________________________\n",
            "conv2d_73 (Conv2D)              (None, 1, 1, 512)    2359808     activation_47[0][0]              \n",
            "__________________________________________________________________________________________________\n",
            "batch_normalization_52 (BatchNo (None, 1, 1, 512)    2048        conv2d_73[0][0]                  \n",
            "__________________________________________________________________________________________________\n",
            "activation_48 (Activation)      (None, 1, 1, 512)    0           batch_normalization_52[0][0]     \n",
            "__________________________________________________________________________________________________\n",
            "conv2d_74 (Conv2D)              (None, 1, 1, 2048)   1050624     activation_48[0][0]              \n",
            "__________________________________________________________________________________________________\n",
            "batch_normalization_53 (BatchNo (None, 1, 1, 2048)   8192        conv2d_74[0][0]                  \n",
            "__________________________________________________________________________________________________\n",
            "add_16 (Add)                    (None, 1, 1, 2048)   0           batch_normalization_53[0][0]     \n",
            "                                                                 activation_46[0][0]              \n",
            "__________________________________________________________________________________________________\n",
            "activation_49 (Activation)      (None, 1, 1, 2048)   0           add_16[0][0]                     \n",
            "__________________________________________________________________________________________________\n",
            "average_pooling2d_1 (AveragePoo (None, 1, 1, 2048)   0           activation_49[0][0]              \n",
            "__________________________________________________________________________________________________\n",
            "flatten_3 (Flatten)             (None, 2048)         0           average_pooling2d_1[0][0]        \n",
            "__________________________________________________________________________________________________\n",
            "dense_7 (Dense)                 (None, 7)            14343       flatten_3[0][0]                  \n",
            "==================================================================================================\n",
            "Total params: 26,397,447\n",
            "Trainable params: 26,344,327\n",
            "Non-trainable params: 53,120\n",
            "__________________________________________________________________________________________________\n"
          ],
          "name": "stdout"
        }
      ]
    },
    {
      "metadata": {
        "id": "1jqI6CGOjl6m",
        "colab_type": "code",
        "outputId": "3dda918c-e668-43fb-f41e-27473831059b",
        "colab": {
          "base_uri": "https://localhost:8080/",
          "height": 884
        }
      },
      "cell_type": "code",
      "source": [
        "history_resnet50_adam = resnet50_model_adam.fit(X_train, y_train, batch_size=32, epochs=25, validation_data=(X_val, y_val))"
      ],
      "execution_count": 0,
      "outputs": [
        {
          "output_type": "stream",
          "text": [
            "Train on 25838 samples, validate on 2871 samples\n",
            "Epoch 1/25\n",
            "25838/25838 [==============================] - 196s 8ms/step - loss: 2.6933 - acc: 0.2066 - val_loss: 11.8010 - val_acc: 0.1163\n",
            "Epoch 2/25\n",
            "25838/25838 [==============================] - 181s 7ms/step - loss: 2.3565 - acc: 0.2287 - val_loss: 8.2652 - val_acc: 0.1891\n",
            "Epoch 3/25\n",
            "25838/25838 [==============================] - 180s 7ms/step - loss: 2.4916 - acc: 0.2302 - val_loss: 4.2147 - val_acc: 0.2400\n",
            "Epoch 4/25\n",
            "25838/25838 [==============================] - 181s 7ms/step - loss: 2.3860 - acc: 0.2390 - val_loss: 1.8078 - val_acc: 0.2480\n",
            "Epoch 5/25\n",
            "25838/25838 [==============================] - 183s 7ms/step - loss: 2.1846 - acc: 0.2496 - val_loss: 2.0566 - val_acc: 0.2483\n",
            "Epoch 6/25\n",
            "25838/25838 [==============================] - 184s 7ms/step - loss: 2.3327 - acc: 0.2441 - val_loss: 2.0470 - val_acc: 0.2452\n",
            "Epoch 7/25\n",
            "25838/25838 [==============================] - 184s 7ms/step - loss: 2.1668 - acc: 0.2523 - val_loss: 1.9297 - val_acc: 0.2532\n",
            "Epoch 8/25\n",
            "25838/25838 [==============================] - 184s 7ms/step - loss: 2.1872 - acc: 0.2502 - val_loss: 1.8530 - val_acc: 0.2410\n",
            "Epoch 9/25\n",
            "25838/25838 [==============================] - 184s 7ms/step - loss: 2.2582 - acc: 0.2470 - val_loss: 2.3681 - val_acc: 0.2337\n",
            "Epoch 10/25\n",
            "25838/25838 [==============================] - 183s 7ms/step - loss: 2.1511 - acc: 0.2498 - val_loss: 1.8824 - val_acc: 0.2417\n",
            "Epoch 11/25\n",
            "25838/25838 [==============================] - 184s 7ms/step - loss: 2.3132 - acc: 0.2431 - val_loss: 2.4192 - val_acc: 0.2379\n",
            "Epoch 12/25\n",
            "25838/25838 [==============================] - 184s 7ms/step - loss: 1.9728 - acc: 0.2434 - val_loss: 1.8618 - val_acc: 0.2400\n",
            "Epoch 13/25\n",
            "25838/25838 [==============================] - 183s 7ms/step - loss: 1.8183 - acc: 0.2477 - val_loss: 1.8300 - val_acc: 0.2445\n",
            "Epoch 14/25\n",
            "25838/25838 [==============================] - 183s 7ms/step - loss: 1.8152 - acc: 0.2455 - val_loss: 1.8165 - val_acc: 0.2424\n",
            "Epoch 15/25\n",
            "25838/25838 [==============================] - 184s 7ms/step - loss: 1.8117 - acc: 0.2495 - val_loss: 1.8337 - val_acc: 0.2400\n",
            "Epoch 16/25\n",
            "25838/25838 [==============================] - 183s 7ms/step - loss: 1.8101 - acc: 0.2501 - val_loss: 1.8138 - val_acc: 0.2400\n",
            "Epoch 17/25\n",
            "25838/25838 [==============================] - 183s 7ms/step - loss: 1.8097 - acc: 0.2489 - val_loss: 1.8163 - val_acc: 0.2428\n",
            "Epoch 18/25\n",
            "25838/25838 [==============================] - 183s 7ms/step - loss: 1.8039 - acc: 0.2508 - val_loss: 1.8312 - val_acc: 0.2400\n",
            "Epoch 19/25\n",
            "25838/25838 [==============================] - 182s 7ms/step - loss: 1.8025 - acc: 0.2495 - val_loss: 1.8041 - val_acc: 0.2410\n",
            "Epoch 20/25\n",
            "25838/25838 [==============================] - 182s 7ms/step - loss: 1.8052 - acc: 0.2465 - val_loss: 1.7995 - val_acc: 0.2369\n",
            "Epoch 21/25\n",
            "25838/25838 [==============================] - 183s 7ms/step - loss: 1.7986 - acc: 0.2505 - val_loss: 1.8065 - val_acc: 0.2442\n",
            "Epoch 22/25\n",
            "25838/25838 [==============================] - 182s 7ms/step - loss: 1.7921 - acc: 0.2490 - val_loss: 1.8110 - val_acc: 0.2400\n",
            "Epoch 23/25\n",
            "25838/25838 [==============================] - 183s 7ms/step - loss: 1.7768 - acc: 0.2599 - val_loss: 1.7860 - val_acc: 0.2456\n",
            "Epoch 24/25\n",
            "25838/25838 [==============================] - 183s 7ms/step - loss: 1.7529 - acc: 0.2744 - val_loss: 1.7659 - val_acc: 0.2574\n",
            "Epoch 25/25\n",
            "25838/25838 [==============================] - 183s 7ms/step - loss: 1.7280 - acc: 0.2966 - val_loss: 1.7764 - val_acc: 0.2536\n"
          ],
          "name": "stdout"
        }
      ]
    },
    {
      "metadata": {
        "id": "Ik9VqSLzOzI6",
        "colab_type": "code",
        "outputId": "35699fd2-bee4-488e-d383-381cc02e1ebb",
        "colab": {
          "base_uri": "https://localhost:8080/",
          "height": 51
        }
      },
      "cell_type": "code",
      "source": [
        "resnet50_model_adam.evaluate(X_test, y_test)"
      ],
      "execution_count": 0,
      "outputs": [
        {
          "output_type": "stream",
          "text": [
            "7178/7178 [==============================] - 8s 1ms/step\n"
          ],
          "name": "stdout"
        },
        {
          "output_type": "execute_result",
          "data": {
            "text/plain": [
              "[1.7710626713244422, 0.2543884090275843]"
            ]
          },
          "metadata": {
            "tags": []
          },
          "execution_count": 66
        }
      ]
    },
    {
      "metadata": {
        "colab_type": "code",
        "outputId": "b3f6798f-4c2d-49f4-b938-863e5dd7251d",
        "id": "7bPFz5zlj0QT",
        "colab": {
          "base_uri": "https://localhost:8080/",
          "height": 136
        }
      },
      "cell_type": "code",
      "source": [
        "from sklearn.metrics import confusion_matrix\n",
        "\n",
        "resnet50_preds_adam = resnet50_model_adam.predict(X_test)\n",
        "confusion_matrix(y_test.argmax(axis=1), resnet50_preds_adam.argmax(axis=1))"
      ],
      "execution_count": 0,
      "outputs": [
        {
          "output_type": "execute_result",
          "data": {
            "text/plain": [
              "array([[  0,   0,  34,  53, 462, 230, 179],\n",
              "       [  0,   0,   3,   9,  54,  18,  27],\n",
              "       [  0,   0,  34,  52, 451, 342, 145],\n",
              "       [  0,   0,  30, 472, 527, 147, 598],\n",
              "       [  0,   0,  37,  34, 614, 348, 214],\n",
              "       [  0,   0,  14,  18, 246, 470,  83],\n",
              "       [  0,   0,  35,  39, 717, 206, 236]])"
            ]
          },
          "metadata": {
            "tags": []
          },
          "execution_count": 67
        }
      ]
    },
    {
      "metadata": {
        "colab_type": "code",
        "id": "SrilMGTWj0QY",
        "outputId": "2712ea91-dfab-46ab-fefc-ea5e242355d8",
        "colab": {
          "base_uri": "https://localhost:8080/",
          "height": 309
        }
      },
      "cell_type": "code",
      "source": [
        "from sklearn.metrics import classification_report\n",
        "\n",
        "print(classification_report(y_test.argmax(axis=1), resnet50_preds_adam.argmax(axis=1)))"
      ],
      "execution_count": 0,
      "outputs": [
        {
          "output_type": "stream",
          "text": [
            "              precision    recall  f1-score   support\n",
            "\n",
            "           0       0.00      0.00      0.00       958\n",
            "           1       0.00      0.00      0.00       111\n",
            "           2       0.18      0.03      0.06      1024\n",
            "           3       0.70      0.27      0.39      1774\n",
            "           4       0.20      0.49      0.28      1247\n",
            "           5       0.27      0.57      0.36       831\n",
            "           6       0.16      0.19      0.17      1233\n",
            "\n",
            "   micro avg       0.25      0.25      0.25      7178\n",
            "   macro avg       0.22      0.22      0.18      7178\n",
            "weighted avg       0.29      0.25      0.22      7178\n",
            "\n"
          ],
          "name": "stdout"
        },
        {
          "output_type": "stream",
          "text": [
            "/usr/local/lib/python3.6/dist-packages/sklearn/metrics/classification.py:1143: UndefinedMetricWarning: Precision and F-score are ill-defined and being set to 0.0 in labels with no predicted samples.\n",
            "  'precision', 'predicted', average, warn_for)\n"
          ],
          "name": "stderr"
        }
      ]
    },
    {
      "metadata": {
        "id": "Fdwq1DnwLMwQ",
        "colab_type": "text"
      },
      "cell_type": "markdown",
      "source": [
        "# ResNet50 with RMSProp Optimizer"
      ]
    },
    {
      "metadata": {
        "id": "lC2JbkTrCuDl",
        "colab_type": "code",
        "colab": {}
      },
      "cell_type": "code",
      "source": [
        "resnet50_model_rms = resnet_50()\n",
        "resnet50_model_rms.compile(loss='categorical_crossentropy', optimizer='rmsprop', metrics=['accuracy'])"
      ],
      "execution_count": 0,
      "outputs": []
    },
    {
      "metadata": {
        "id": "NWT0KA8NCuRI",
        "colab_type": "code",
        "outputId": "14bff3b2-6cb1-4c17-8977-e3d5a8c653fc",
        "colab": {
          "base_uri": "https://localhost:8080/",
          "height": 884
        }
      },
      "cell_type": "code",
      "source": [
        "history_resnet50_rms = resnet50_model_rms.fit(X_train, y_train, batch_size=32, epochs=25, validation_data=(X_val, y_val))"
      ],
      "execution_count": 0,
      "outputs": [
        {
          "output_type": "stream",
          "text": [
            "Train on 25838 samples, validate on 2871 samples\n",
            "Epoch 1/25\n",
            "25838/25838 [==============================] - 182s 7ms/step - loss: 3.1949 - acc: 0.2011 - val_loss: 9.9366 - val_acc: 0.1891\n",
            "Epoch 2/25\n",
            "25838/25838 [==============================] - 165s 6ms/step - loss: 3.1036 - acc: 0.2258 - val_loss: 11.8921 - val_acc: 0.1668\n",
            "Epoch 3/25\n",
            "25838/25838 [==============================] - 165s 6ms/step - loss: 3.1373 - acc: 0.2359 - val_loss: 2.1974 - val_acc: 0.1376\n",
            "Epoch 4/25\n",
            "25838/25838 [==============================] - 165s 6ms/step - loss: 2.3905 - acc: 0.2496 - val_loss: 2.7848 - val_acc: 0.1930\n",
            "Epoch 5/25\n",
            "25838/25838 [==============================] - 165s 6ms/step - loss: 2.4011 - acc: 0.2470 - val_loss: 6.9386 - val_acc: 0.2076\n",
            "Epoch 6/25\n",
            "25838/25838 [==============================] - 165s 6ms/step - loss: 2.3791 - acc: 0.2470 - val_loss: 3.2366 - val_acc: 0.2302\n",
            "Epoch 7/25\n",
            "25838/25838 [==============================] - 165s 6ms/step - loss: 2.4058 - acc: 0.2421 - val_loss: 2.9974 - val_acc: 0.1414\n",
            "Epoch 8/25\n",
            "25838/25838 [==============================] - 165s 6ms/step - loss: 2.5022 - acc: 0.2448 - val_loss: 1.8927 - val_acc: 0.1937\n",
            "Epoch 9/25\n",
            "25838/25838 [==============================] - 165s 6ms/step - loss: 2.1795 - acc: 0.2170 - val_loss: 2.1521 - val_acc: 0.1940\n",
            "Epoch 10/25\n",
            "25838/25838 [==============================] - 165s 6ms/step - loss: 1.9564 - acc: 0.2267 - val_loss: 1.8432 - val_acc: 0.2132\n",
            "Epoch 11/25\n",
            "25838/25838 [==============================] - 165s 6ms/step - loss: 1.8215 - acc: 0.2436 - val_loss: 1.8640 - val_acc: 0.2264\n",
            "Epoch 12/25\n",
            "25838/25838 [==============================] - 165s 6ms/step - loss: 1.8124 - acc: 0.2461 - val_loss: 1.8200 - val_acc: 0.2400\n",
            "Epoch 13/25\n",
            "25838/25838 [==============================] - 165s 6ms/step - loss: 1.8210 - acc: 0.2480 - val_loss: 1.8234 - val_acc: 0.2400\n",
            "Epoch 14/25\n",
            "25838/25838 [==============================] - 164s 6ms/step - loss: 1.8178 - acc: 0.2504 - val_loss: 1.8152 - val_acc: 0.2396\n",
            "Epoch 15/25\n",
            "25838/25838 [==============================] - 164s 6ms/step - loss: 1.8158 - acc: 0.2522 - val_loss: 1.8213 - val_acc: 0.2400\n",
            "Epoch 16/25\n",
            "25838/25838 [==============================] - 164s 6ms/step - loss: 1.8135 - acc: 0.2528 - val_loss: 13.0079 - val_acc: 0.1930\n",
            "Epoch 17/25\n",
            "25838/25838 [==============================] - 164s 6ms/step - loss: 1.8098 - acc: 0.2526 - val_loss: 13.0079 - val_acc: 0.1930\n",
            "Epoch 18/25\n",
            "25838/25838 [==============================] - 164s 6ms/step - loss: 1.8099 - acc: 0.2526 - val_loss: 13.0079 - val_acc: 0.1930\n",
            "Epoch 19/25\n",
            "25838/25838 [==============================] - 163s 6ms/step - loss: 1.8096 - acc: 0.2526 - val_loss: 13.0079 - val_acc: 0.1930\n",
            "Epoch 20/25\n",
            "25838/25838 [==============================] - 164s 6ms/step - loss: 1.8097 - acc: 0.2526 - val_loss: 13.0079 - val_acc: 0.1930\n",
            "Epoch 21/25\n",
            "25838/25838 [==============================] - 163s 6ms/step - loss: 1.8098 - acc: 0.2526 - val_loss: 13.0079 - val_acc: 0.1930\n",
            "Epoch 22/25\n",
            "25838/25838 [==============================] - 163s 6ms/step - loss: 1.8098 - acc: 0.2526 - val_loss: 13.0079 - val_acc: 0.1930\n",
            "Epoch 23/25\n",
            "25838/25838 [==============================] - 162s 6ms/step - loss: 1.8098 - acc: 0.2526 - val_loss: 13.0079 - val_acc: 0.1930\n",
            "Epoch 24/25\n",
            "25838/25838 [==============================] - 162s 6ms/step - loss: 1.8098 - acc: 0.2526 - val_loss: 13.0079 - val_acc: 0.1930\n",
            "Epoch 25/25\n",
            "25838/25838 [==============================] - 162s 6ms/step - loss: 1.8098 - acc: 0.2526 - val_loss: 13.0079 - val_acc: 0.1930\n"
          ],
          "name": "stdout"
        }
      ]
    },
    {
      "metadata": {
        "id": "bP1Nu7-4CucJ",
        "colab_type": "code",
        "outputId": "bc5e3dbf-0e74-4988-c690-59f4e88281fe",
        "colab": {
          "base_uri": "https://localhost:8080/",
          "height": 51
        }
      },
      "cell_type": "code",
      "source": [
        "resnet50_model_rms.evaluate(X_test, y_test)"
      ],
      "execution_count": 0,
      "outputs": [
        {
          "output_type": "stream",
          "text": [
            "7178/7178 [==============================] - 8s 1ms/step\n"
          ],
          "name": "stdout"
        },
        {
          "output_type": "execute_result",
          "data": {
            "text/plain": [
              "[13.349411758482374, 0.17177486765530822]"
            ]
          },
          "metadata": {
            "tags": []
          },
          "execution_count": 71
        }
      ]
    },
    {
      "metadata": {
        "colab_type": "code",
        "outputId": "d8568eb3-3aa5-49f3-fae9-6391d2e13276",
        "id": "PkA0xiQ2kXyv",
        "colab": {
          "base_uri": "https://localhost:8080/",
          "height": 136
        }
      },
      "cell_type": "code",
      "source": [
        "from sklearn.metrics import confusion_matrix\n",
        "\n",
        "resnet50_preds_rms = resnet50_model_rms.predict(X_test)\n",
        "confusion_matrix(y_test.argmax(axis=1), resnet50_preds_rms.argmax(axis=1))"
      ],
      "execution_count": 0,
      "outputs": [
        {
          "output_type": "execute_result",
          "data": {
            "text/plain": [
              "array([[   0,    0,    0,    0,    0,    0,  958],\n",
              "       [   0,    0,    0,    0,    0,    0,  111],\n",
              "       [   0,    0,    0,    0,    0,    0, 1024],\n",
              "       [   0,    0,    0,    0,    0,    0, 1774],\n",
              "       [   0,    0,    0,    0,    0,    0, 1247],\n",
              "       [   0,    0,    0,    0,    0,    0,  831],\n",
              "       [   0,    0,    0,    0,    0,    0, 1233]])"
            ]
          },
          "metadata": {
            "tags": []
          },
          "execution_count": 72
        }
      ]
    },
    {
      "metadata": {
        "colab_type": "code",
        "id": "iYcbIWvkkXyz",
        "outputId": "37f0d55c-891c-4e0e-c87e-0178beec6a6a",
        "colab": {
          "base_uri": "https://localhost:8080/",
          "height": 309
        }
      },
      "cell_type": "code",
      "source": [
        "from sklearn.metrics import classification_report\n",
        "\n",
        "print(classification_report(y_test.argmax(axis=1), resnet50_preds_rms.argmax(axis=1)))"
      ],
      "execution_count": 0,
      "outputs": [
        {
          "output_type": "stream",
          "text": [
            "              precision    recall  f1-score   support\n",
            "\n",
            "           0       0.00      0.00      0.00       958\n",
            "           1       0.00      0.00      0.00       111\n",
            "           2       0.00      0.00      0.00      1024\n",
            "           3       0.00      0.00      0.00      1774\n",
            "           4       0.00      0.00      0.00      1247\n",
            "           5       0.00      0.00      0.00       831\n",
            "           6       0.17      1.00      0.29      1233\n",
            "\n",
            "   micro avg       0.17      0.17      0.17      7178\n",
            "   macro avg       0.02      0.14      0.04      7178\n",
            "weighted avg       0.03      0.17      0.05      7178\n",
            "\n"
          ],
          "name": "stdout"
        },
        {
          "output_type": "stream",
          "text": [
            "/usr/local/lib/python3.6/dist-packages/sklearn/metrics/classification.py:1143: UndefinedMetricWarning: Precision and F-score are ill-defined and being set to 0.0 in labels with no predicted samples.\n",
            "  'precision', 'predicted', average, warn_for)\n"
          ],
          "name": "stderr"
        }
      ]
    },
    {
      "metadata": {
        "id": "HJhXox6APWRX",
        "colab_type": "code",
        "outputId": "661f2291-9529-451d-a275-25211f796490",
        "colab": {
          "base_uri": "https://localhost:8080/",
          "height": 549
        }
      },
      "cell_type": "code",
      "source": [
        "import matplotlib.pyplot as plt\n",
        "\n",
        "resnet_adam_histories = [history_resnet50_adam, history_resnet50_rms]\n",
        "labels = [\"Adam\", \"RMS\"]\n",
        "plot(resnet_adam_histories, labels, \"loss\")\n",
        "plot(resnet_adam_histories, labels, \"accuracy\")"
      ],
      "execution_count": 0,
      "outputs": [
        {
          "output_type": "display_data",
          "data": {
            "image/png": "[encoded data removed]",
            "text/plain": [
              "<Figure size 432x288 with 1 Axes>"
            ]
          },
          "metadata": {
            "tags": []
          }
        },
        {
          "output_type": "display_data",
          "data": {
            "image/png": "[encoded data removed]",
            "text/plain": [
              "<Figure size 432x288 with 1 Axes>"
            ]
          },
          "metadata": {
            "tags": []
          }
        }
      ]
    },
    {
      "metadata": {
        "id": "qAg4awrkB5pC",
        "colab_type": "text"
      },
      "cell_type": "markdown",
      "source": [
        "# Resnet 18 Implementation"
      ]
    },
    {
      "metadata": {
        "colab_type": "code",
        "id": "c5uPzEznB8hI",
        "colab": {}
      },
      "cell_type": "code",
      "source": [
        "from keras.layers import Input, ZeroPadding2D, MaxPooling2D, Flatten, BatchNormalization, AveragePooling2D, Activation, Dense, Add, Conv2D\n",
        "from keras.initializers import glorot_uniform\n",
        "from keras import backend as K\n",
        "from keras.models import Model"
      ],
      "execution_count": 0,
      "outputs": []
    },
    {
      "metadata": {
        "colab_type": "code",
        "id": "7o-xWT3dB8hL",
        "colab": {}
      },
      "cell_type": "code",
      "source": [
        "def identity_block_18(X, f, filters):\n",
        "  F1, F2 = filters\n",
        "  \n",
        "  X_original = X\n",
        "  \n",
        "  X = Conv2D(filters = F1, kernel_size = (1, 1), strides = (1, 1), kernel_initializer = glorot_uniform(seed=1234))(X)\n",
        "  X = BatchNormalization(axis=3)(X)\n",
        "  X = Activation('relu')(X)\n",
        "  \n",
        "  X = Conv2D(filters = F2, kernel_size = (1, 1), strides = (1, 1), kernel_initializer = glorot_uniform(seed=1234))(X)\n",
        "  X = BatchNormalization(axis=3)(X)\n",
        "  \n",
        "  X = Add()([X, X_original])\n",
        "  X = Activation('relu')(X)\n",
        "  \n",
        "  return X"
      ],
      "execution_count": 0,
      "outputs": []
    },
    {
      "metadata": {
        "colab_type": "code",
        "id": "EUXM9YPpB8hO",
        "colab": {}
      },
      "cell_type": "code",
      "source": [
        "def conv_block_18(X, f, filters, stride):\n",
        "  F1, F2 = filters\n",
        "  \n",
        "  X_original = X\n",
        "\n",
        "  X = Conv2D(filters = F1, kernel_size = (1, 1), strides = (stride, stride), kernel_initializer = glorot_uniform(seed=1234))(X)\n",
        "  X = BatchNormalization(axis=3)(X)\n",
        "  X = Activation('relu')(X)\n",
        "\n",
        "  X = Conv2D(filters = F2, kernel_size = (1, 1), strides = (1, 1), kernel_initializer = glorot_uniform(seed=1234))(X)\n",
        "  X = BatchNormalization(axis=3)(X)\n",
        "  \n",
        "  X_original = Conv2D(filters = F2, kernel_size = (1, 1), strides = (stride, stride), kernel_initializer = glorot_uniform(seed=1234))(X)\n",
        "  X = BatchNormalization(axis=3)(X_original)\n",
        "  \n",
        "  X = Add()([X, X_original])\n",
        "  \n",
        "  X = Activation('relu')(X)\n",
        "  \n",
        "  return X"
      ],
      "execution_count": 0,
      "outputs": []
    },
    {
      "metadata": {
        "colab_type": "code",
        "id": "jz5dm-anB8hR",
        "colab": {}
      },
      "cell_type": "code",
      "source": [
        "def resnet_18(input_shape=(48,48,1), output_size=7):\n",
        "  model_input = Input(input_shape)\n",
        "  X = ZeroPadding2D((3, 3))(model_input)\n",
        "  X = Conv2D(filters = 64, kernel_size = (7, 7), strides = (2, 2), kernel_initializer = glorot_uniform(seed=1234))(X)\n",
        "  X = BatchNormalization(axis=3)(X)\n",
        "  X = Activation('relu')(X)\n",
        "  X = MaxPooling2D((3,3), strides = (2, 2))(X)\n",
        "  \n",
        "  X = conv_block_18(X, 3, [64, 64], 1)\n",
        "  for i in range(1):\n",
        "    X = identity_block_18(X, 3, [64, 64])\n",
        "    \n",
        "  X = conv_block_18(X, 3, [128, 128], 2)\n",
        "  for i in range(1):\n",
        "    X = identity_block_18(X, 3, [128, 128])\n",
        "    \n",
        "  X = conv_block_18(X, 3, [128, 128], 2)\n",
        "  for i in range(1):\n",
        "     X = identity_block_18(X, 3, [128, 128])\n",
        "    \n",
        "  X = conv_block_18(X, 3, [128, 128], 2)\n",
        "  for i in range(1):\n",
        "      X = identity_block_18(X, 3, [128, 128])\n",
        "  \n",
        "  X = AveragePooling2D((1,1))(X)\n",
        "  X = Flatten()(X)\n",
        "  X = Dense(output_size, activation='softmax', kernel_initializer = glorot_uniform(seed=1234))(X)\n",
        "  \n",
        "  model = Model(inputs=model_input, outputs=X)\n",
        "  \n",
        "  return model"
      ],
      "execution_count": 0,
      "outputs": []
    },
    {
      "metadata": {
        "colab_type": "code",
        "id": "MgjR2xHRDruO",
        "colab": {}
      },
      "cell_type": "code",
      "source": [
        "resnet18_model_adam = resnet_18()\n",
        "resnet18_model_adam.compile(loss='categorical_crossentropy', optimizer='adam', metrics=['accuracy'])"
      ],
      "execution_count": 0,
      "outputs": []
    },
    {
      "metadata": {
        "id": "fQ2HaYJnc2e5",
        "colab_type": "code",
        "outputId": "d740ca59-0915-4796-9e94-ed19aa36a634",
        "colab": {
          "base_uri": "https://localhost:8080/",
          "height": 2633
        }
      },
      "cell_type": "code",
      "source": [
        "resnet18_model_adam.summary()"
      ],
      "execution_count": 0,
      "outputs": [
        {
          "output_type": "stream",
          "text": [
            "__________________________________________________________________________________________________\n",
            "Layer (type)                    Output Shape         Param #     Connected to                     \n",
            "==================================================================================================\n",
            "input_2 (InputLayer)            (None, 48, 48, 1)    0                                            \n",
            "__________________________________________________________________________________________________\n",
            "zero_padding2d_2 (ZeroPadding2D (None, 54, 54, 1)    0           input_2[0][0]                    \n",
            "__________________________________________________________________________________________________\n",
            "conv2d_75 (Conv2D)              (None, 24, 24, 64)   3200        zero_padding2d_2[0][0]           \n",
            "__________________________________________________________________________________________________\n",
            "batch_normalization_54 (BatchNo (None, 24, 24, 64)   256         conv2d_75[0][0]                  \n",
            "__________________________________________________________________________________________________\n",
            "activation_50 (Activation)      (None, 24, 24, 64)   0           batch_normalization_54[0][0]     \n",
            "__________________________________________________________________________________________________\n",
            "max_pooling2d_12 (MaxPooling2D) (None, 11, 11, 64)   0           activation_50[0][0]              \n",
            "__________________________________________________________________________________________________\n",
            "conv2d_76 (Conv2D)              (None, 11, 11, 64)   4160        max_pooling2d_12[0][0]           \n",
            "__________________________________________________________________________________________________\n",
            "batch_normalization_55 (BatchNo (None, 11, 11, 64)   256         conv2d_76[0][0]                  \n",
            "__________________________________________________________________________________________________\n",
            "activation_51 (Activation)      (None, 11, 11, 64)   0           batch_normalization_55[0][0]     \n",
            "__________________________________________________________________________________________________\n",
            "conv2d_77 (Conv2D)              (None, 11, 11, 64)   4160        activation_51[0][0]              \n",
            "__________________________________________________________________________________________________\n",
            "batch_normalization_56 (BatchNo (None, 11, 11, 64)   256         conv2d_77[0][0]                  \n",
            "__________________________________________________________________________________________________\n",
            "conv2d_78 (Conv2D)              (None, 11, 11, 64)   4160        batch_normalization_56[0][0]     \n",
            "__________________________________________________________________________________________________\n",
            "batch_normalization_57 (BatchNo (None, 11, 11, 64)   256         conv2d_78[0][0]                  \n",
            "__________________________________________________________________________________________________\n",
            "add_17 (Add)                    (None, 11, 11, 64)   0           batch_normalization_57[0][0]     \n",
            "                                                                 conv2d_78[0][0]                  \n",
            "__________________________________________________________________________________________________\n",
            "activation_52 (Activation)      (None, 11, 11, 64)   0           add_17[0][0]                     \n",
            "__________________________________________________________________________________________________\n",
            "conv2d_79 (Conv2D)              (None, 11, 11, 64)   4160        activation_52[0][0]              \n",
            "__________________________________________________________________________________________________\n",
            "batch_normalization_58 (BatchNo (None, 11, 11, 64)   256         conv2d_79[0][0]                  \n",
            "__________________________________________________________________________________________________\n",
            "activation_53 (Activation)      (None, 11, 11, 64)   0           batch_normalization_58[0][0]     \n",
            "__________________________________________________________________________________________________\n",
            "conv2d_80 (Conv2D)              (None, 11, 11, 64)   4160        activation_53[0][0]              \n",
            "__________________________________________________________________________________________________\n",
            "batch_normalization_59 (BatchNo (None, 11, 11, 64)   256         conv2d_80[0][0]                  \n",
            "__________________________________________________________________________________________________\n",
            "add_18 (Add)                    (None, 11, 11, 64)   0           batch_normalization_59[0][0]     \n",
            "                                                                 activation_52[0][0]              \n",
            "__________________________________________________________________________________________________\n",
            "activation_54 (Activation)      (None, 11, 11, 64)   0           add_18[0][0]                     \n",
            "__________________________________________________________________________________________________\n",
            "conv2d_81 (Conv2D)              (None, 6, 6, 128)    8320        activation_54[0][0]              \n",
            "__________________________________________________________________________________________________\n",
            "batch_normalization_60 (BatchNo (None, 6, 6, 128)    512         conv2d_81[0][0]                  \n",
            "__________________________________________________________________________________________________\n",
            "activation_55 (Activation)      (None, 6, 6, 128)    0           batch_normalization_60[0][0]     \n",
            "__________________________________________________________________________________________________\n",
            "conv2d_82 (Conv2D)              (None, 6, 6, 128)    16512       activation_55[0][0]              \n",
            "__________________________________________________________________________________________________\n",
            "batch_normalization_61 (BatchNo (None, 6, 6, 128)    512         conv2d_82[0][0]                  \n",
            "__________________________________________________________________________________________________\n",
            "conv2d_83 (Conv2D)              (None, 3, 3, 128)    16512       batch_normalization_61[0][0]     \n",
            "__________________________________________________________________________________________________\n",
            "batch_normalization_62 (BatchNo (None, 3, 3, 128)    512         conv2d_83[0][0]                  \n",
            "__________________________________________________________________________________________________\n",
            "add_19 (Add)                    (None, 3, 3, 128)    0           batch_normalization_62[0][0]     \n",
            "                                                                 conv2d_83[0][0]                  \n",
            "__________________________________________________________________________________________________\n",
            "activation_56 (Activation)      (None, 3, 3, 128)    0           add_19[0][0]                     \n",
            "__________________________________________________________________________________________________\n",
            "conv2d_84 (Conv2D)              (None, 3, 3, 128)    16512       activation_56[0][0]              \n",
            "__________________________________________________________________________________________________\n",
            "batch_normalization_63 (BatchNo (None, 3, 3, 128)    512         conv2d_84[0][0]                  \n",
            "__________________________________________________________________________________________________\n",
            "activation_57 (Activation)      (None, 3, 3, 128)    0           batch_normalization_63[0][0]     \n",
            "__________________________________________________________________________________________________\n",
            "conv2d_85 (Conv2D)              (None, 3, 3, 128)    16512       activation_57[0][0]              \n",
            "__________________________________________________________________________________________________\n",
            "batch_normalization_64 (BatchNo (None, 3, 3, 128)    512         conv2d_85[0][0]                  \n",
            "__________________________________________________________________________________________________\n",
            "add_20 (Add)                    (None, 3, 3, 128)    0           batch_normalization_64[0][0]     \n",
            "                                                                 activation_56[0][0]              \n",
            "__________________________________________________________________________________________________\n",
            "activation_58 (Activation)      (None, 3, 3, 128)    0           add_20[0][0]                     \n",
            "__________________________________________________________________________________________________\n",
            "conv2d_86 (Conv2D)              (None, 2, 2, 128)    16512       activation_58[0][0]              \n",
            "__________________________________________________________________________________________________\n",
            "batch_normalization_65 (BatchNo (None, 2, 2, 128)    512         conv2d_86[0][0]                  \n",
            "__________________________________________________________________________________________________\n",
            "activation_59 (Activation)      (None, 2, 2, 128)    0           batch_normalization_65[0][0]     \n",
            "__________________________________________________________________________________________________\n",
            "conv2d_87 (Conv2D)              (None, 2, 2, 128)    16512       activation_59[0][0]              \n",
            "__________________________________________________________________________________________________\n",
            "batch_normalization_66 (BatchNo (None, 2, 2, 128)    512         conv2d_87[0][0]                  \n",
            "__________________________________________________________________________________________________\n",
            "conv2d_88 (Conv2D)              (None, 1, 1, 128)    16512       batch_normalization_66[0][0]     \n",
            "__________________________________________________________________________________________________\n",
            "batch_normalization_67 (BatchNo (None, 1, 1, 128)    512         conv2d_88[0][0]                  \n",
            "__________________________________________________________________________________________________\n",
            "add_21 (Add)                    (None, 1, 1, 128)    0           batch_normalization_67[0][0]     \n",
            "                                                                 conv2d_88[0][0]                  \n",
            "__________________________________________________________________________________________________\n",
            "activation_60 (Activation)      (None, 1, 1, 128)    0           add_21[0][0]                     \n",
            "__________________________________________________________________________________________________\n",
            "conv2d_89 (Conv2D)              (None, 1, 1, 128)    16512       activation_60[0][0]              \n",
            "__________________________________________________________________________________________________\n",
            "batch_normalization_68 (BatchNo (None, 1, 1, 128)    512         conv2d_89[0][0]                  \n",
            "__________________________________________________________________________________________________\n",
            "activation_61 (Activation)      (None, 1, 1, 128)    0           batch_normalization_68[0][0]     \n",
            "__________________________________________________________________________________________________\n",
            "conv2d_90 (Conv2D)              (None, 1, 1, 128)    16512       activation_61[0][0]              \n",
            "__________________________________________________________________________________________________\n",
            "batch_normalization_69 (BatchNo (None, 1, 1, 128)    512         conv2d_90[0][0]                  \n",
            "__________________________________________________________________________________________________\n",
            "add_22 (Add)                    (None, 1, 1, 128)    0           batch_normalization_69[0][0]     \n",
            "                                                                 activation_60[0][0]              \n",
            "__________________________________________________________________________________________________\n",
            "activation_62 (Activation)      (None, 1, 1, 128)    0           add_22[0][0]                     \n",
            "__________________________________________________________________________________________________\n",
            "conv2d_91 (Conv2D)              (None, 1, 1, 128)    16512       activation_62[0][0]              \n",
            "__________________________________________________________________________________________________\n",
            "batch_normalization_70 (BatchNo (None, 1, 1, 128)    512         conv2d_91[0][0]                  \n",
            "__________________________________________________________________________________________________\n",
            "activation_63 (Activation)      (None, 1, 1, 128)    0           batch_normalization_70[0][0]     \n",
            "__________________________________________________________________________________________________\n",
            "conv2d_92 (Conv2D)              (None, 1, 1, 128)    16512       activation_63[0][0]              \n",
            "__________________________________________________________________________________________________\n",
            "batch_normalization_71 (BatchNo (None, 1, 1, 128)    512         conv2d_92[0][0]                  \n",
            "__________________________________________________________________________________________________\n",
            "conv2d_93 (Conv2D)              (None, 1, 1, 128)    16512       batch_normalization_71[0][0]     \n",
            "__________________________________________________________________________________________________\n",
            "batch_normalization_72 (BatchNo (None, 1, 1, 128)    512         conv2d_93[0][0]                  \n",
            "__________________________________________________________________________________________________\n",
            "add_23 (Add)                    (None, 1, 1, 128)    0           batch_normalization_72[0][0]     \n",
            "                                                                 conv2d_93[0][0]                  \n",
            "__________________________________________________________________________________________________\n",
            "activation_64 (Activation)      (None, 1, 1, 128)    0           add_23[0][0]                     \n",
            "__________________________________________________________________________________________________\n",
            "conv2d_94 (Conv2D)              (None, 1, 1, 128)    16512       activation_64[0][0]              \n",
            "__________________________________________________________________________________________________\n",
            "batch_normalization_73 (BatchNo (None, 1, 1, 128)    512         conv2d_94[0][0]                  \n",
            "__________________________________________________________________________________________________\n",
            "activation_65 (Activation)      (None, 1, 1, 128)    0           batch_normalization_73[0][0]     \n",
            "__________________________________________________________________________________________________\n",
            "conv2d_95 (Conv2D)              (None, 1, 1, 128)    16512       activation_65[0][0]              \n",
            "__________________________________________________________________________________________________\n",
            "batch_normalization_74 (BatchNo (None, 1, 1, 128)    512         conv2d_95[0][0]                  \n",
            "__________________________________________________________________________________________________\n",
            "add_24 (Add)                    (None, 1, 1, 128)    0           batch_normalization_74[0][0]     \n",
            "                                                                 activation_64[0][0]              \n",
            "__________________________________________________________________________________________________\n",
            "activation_66 (Activation)      (None, 1, 1, 128)    0           add_24[0][0]                     \n",
            "__________________________________________________________________________________________________\n",
            "average_pooling2d_2 (AveragePoo (None, 1, 1, 128)    0           activation_66[0][0]              \n",
            "__________________________________________________________________________________________________\n",
            "flatten_4 (Flatten)             (None, 128)          0           average_pooling2d_2[0][0]        \n",
            "__________________________________________________________________________________________________\n",
            "dense_8 (Dense)                 (None, 7)            903         flatten_4[0][0]                  \n",
            "==================================================================================================\n",
            "Total params: 273,607\n",
            "Trainable params: 268,999\n",
            "Non-trainable params: 4,608\n",
            "__________________________________________________________________________________________________\n"
          ],
          "name": "stdout"
        }
      ]
    },
    {
      "metadata": {
        "colab_type": "code",
        "id": "IWjfLyUtDruR",
        "outputId": "a4c25a43-080a-4ca9-b268-2045e6d8165f",
        "colab": {
          "base_uri": "https://localhost:8080/",
          "height": 884
        }
      },
      "cell_type": "code",
      "source": [
        "history_resnet18_adam = resnet18_model_adam.fit(X_train, y_train, batch_size=32, epochs=25, validation_data=(X_val, y_val))"
      ],
      "execution_count": 0,
      "outputs": [
        {
          "output_type": "stream",
          "text": [
            "Train on 25838 samples, validate on 2871 samples\n",
            "Epoch 1/25\n",
            "25838/25838 [==============================] - 27s 1ms/step - loss: 1.9283 - acc: 0.2231 - val_loss: 1.8520 - val_acc: 0.2330\n",
            "Epoch 2/25\n",
            "25838/25838 [==============================] - 17s 656us/step - loss: 1.8488 - acc: 0.2393 - val_loss: 1.9090 - val_acc: 0.2295\n",
            "Epoch 3/25\n",
            "25838/25838 [==============================] - 17s 654us/step - loss: 1.8487 - acc: 0.2419 - val_loss: 1.9117 - val_acc: 0.2355\n",
            "Epoch 4/25\n",
            "25838/25838 [==============================] - 17s 653us/step - loss: 1.8435 - acc: 0.2427 - val_loss: 1.9272 - val_acc: 0.1895\n",
            "Epoch 5/25\n",
            "25838/25838 [==============================] - 17s 652us/step - loss: 1.8381 - acc: 0.2419 - val_loss: 2.2031 - val_acc: 0.2372\n",
            "Epoch 6/25\n",
            "25838/25838 [==============================] - 17s 650us/step - loss: 1.8449 - acc: 0.2410 - val_loss: 1.8177 - val_acc: 0.2344\n",
            "Epoch 7/25\n",
            "25838/25838 [==============================] - 17s 647us/step - loss: 1.8356 - acc: 0.2428 - val_loss: 2.2747 - val_acc: 0.2487\n",
            "Epoch 8/25\n",
            "25838/25838 [==============================] - 17s 648us/step - loss: 1.8339 - acc: 0.2480 - val_loss: 1.8334 - val_acc: 0.2365\n",
            "Epoch 9/25\n",
            "25838/25838 [==============================] - 17s 651us/step - loss: 1.8244 - acc: 0.2472 - val_loss: 1.8648 - val_acc: 0.2407\n",
            "Epoch 10/25\n",
            "25838/25838 [==============================] - 17s 652us/step - loss: 1.8226 - acc: 0.2466 - val_loss: 2.3972 - val_acc: 0.2194\n",
            "Epoch 11/25\n",
            "25838/25838 [==============================] - 17s 651us/step - loss: 1.8222 - acc: 0.2468 - val_loss: 1.8236 - val_acc: 0.2407\n",
            "Epoch 12/25\n",
            "25838/25838 [==============================] - 17s 649us/step - loss: 1.8182 - acc: 0.2459 - val_loss: 1.9385 - val_acc: 0.2208\n",
            "Epoch 13/25\n",
            "25838/25838 [==============================] - 17s 650us/step - loss: 1.8158 - acc: 0.2482 - val_loss: 1.8215 - val_acc: 0.2417\n",
            "Epoch 14/25\n",
            "25838/25838 [==============================] - 17s 650us/step - loss: 1.8094 - acc: 0.2503 - val_loss: 1.8060 - val_acc: 0.2348\n",
            "Epoch 15/25\n",
            "25838/25838 [==============================] - 17s 652us/step - loss: 1.8078 - acc: 0.2499 - val_loss: 1.8677 - val_acc: 0.2341\n",
            "Epoch 16/25\n",
            "25838/25838 [==============================] - 17s 649us/step - loss: 1.8088 - acc: 0.2527 - val_loss: 1.9031 - val_acc: 0.2459\n",
            "Epoch 17/25\n",
            "25838/25838 [==============================] - 17s 651us/step - loss: 1.8067 - acc: 0.2533 - val_loss: 1.8148 - val_acc: 0.2515\n",
            "Epoch 18/25\n",
            "25838/25838 [==============================] - 17s 649us/step - loss: 1.8055 - acc: 0.2530 - val_loss: 1.8349 - val_acc: 0.2344\n",
            "Epoch 19/25\n",
            "25838/25838 [==============================] - 17s 650us/step - loss: 1.8034 - acc: 0.2539 - val_loss: 1.8145 - val_acc: 0.2414\n",
            "Epoch 20/25\n",
            "25838/25838 [==============================] - 17s 649us/step - loss: 1.8042 - acc: 0.2513 - val_loss: 1.8774 - val_acc: 0.2400\n",
            "Epoch 21/25\n",
            "25838/25838 [==============================] - 17s 653us/step - loss: 1.8001 - acc: 0.2547 - val_loss: 1.8106 - val_acc: 0.2362\n",
            "Epoch 22/25\n",
            "25838/25838 [==============================] - 17s 652us/step - loss: 1.8009 - acc: 0.2530 - val_loss: 1.8819 - val_acc: 0.2337\n",
            "Epoch 23/25\n",
            "25838/25838 [==============================] - 17s 648us/step - loss: 1.8004 - acc: 0.2528 - val_loss: 1.7982 - val_acc: 0.2351\n",
            "Epoch 24/25\n",
            "25838/25838 [==============================] - 17s 650us/step - loss: 1.7991 - acc: 0.2525 - val_loss: 1.8579 - val_acc: 0.2362\n",
            "Epoch 25/25\n",
            "25838/25838 [==============================] - 17s 650us/step - loss: 1.7978 - acc: 0.2534 - val_loss: 1.8110 - val_acc: 0.2410\n"
          ],
          "name": "stdout"
        }
      ]
    },
    {
      "metadata": {
        "id": "O6lqH3PmLwM_",
        "colab_type": "code",
        "outputId": "74ede1b8-b2ae-417a-baf5-840958d3e521",
        "colab": {
          "base_uri": "https://localhost:8080/",
          "height": 51
        }
      },
      "cell_type": "code",
      "source": [
        "resnet18_model_adam.evaluate(X_test, y_test)"
      ],
      "execution_count": 0,
      "outputs": [
        {
          "output_type": "stream",
          "text": [
            "7178/7178 [==============================] - 2s 246us/step\n"
          ],
          "name": "stdout"
        },
        {
          "output_type": "execute_result",
          "data": {
            "text/plain": [
              "[1.8120671747852812, 0.24993034273045545]"
            ]
          },
          "metadata": {
            "tags": []
          },
          "execution_count": 81
        }
      ]
    },
    {
      "metadata": {
        "colab_type": "code",
        "outputId": "6343ad2a-801e-423f-b1c2-6714ed41ac5d",
        "id": "SjHOiONlkpEo",
        "colab": {
          "base_uri": "https://localhost:8080/",
          "height": 136
        }
      },
      "cell_type": "code",
      "source": [
        "from sklearn.metrics import confusion_matrix\n",
        "\n",
        "resnet18_preds_adam = resnet18_model_adam.predict(X_test)\n",
        "confusion_matrix(y_test.argmax(axis=1), resnet18_preds_adam.argmax(axis=1))"
      ],
      "execution_count": 0,
      "outputs": [
        {
          "output_type": "execute_result",
          "data": {
            "text/plain": [
              "array([[   0,    0,    0,  897,    5,   56,    0],\n",
              "       [   0,    0,    0,  104,    0,    7,    0],\n",
              "       [   0,    0,    0,  939,    2,   83,    0],\n",
              "       [   0,    0,    0, 1673,    9,   92,    0],\n",
              "       [   0,    0,    0, 1209,    4,   34,    0],\n",
              "       [   0,    0,    0,  713,    1,  117,    0],\n",
              "       [   0,    0,    0, 1157,    8,   68,    0]])"
            ]
          },
          "metadata": {
            "tags": []
          },
          "execution_count": 82
        }
      ]
    },
    {
      "metadata": {
        "colab_type": "code",
        "id": "c5QwB2xVkpEq",
        "outputId": "e7bbd344-7acc-4267-b742-d1fadf5de766",
        "colab": {
          "base_uri": "https://localhost:8080/",
          "height": 309
        }
      },
      "cell_type": "code",
      "source": [
        "from sklearn.metrics import classification_report\n",
        "\n",
        "print(classification_report(y_test.argmax(axis=1), resnet18_preds_adam.argmax(axis=1)))"
      ],
      "execution_count": 0,
      "outputs": [
        {
          "output_type": "stream",
          "text": [
            "              precision    recall  f1-score   support\n",
            "\n",
            "           0       0.00      0.00      0.00       958\n",
            "           1       0.00      0.00      0.00       111\n",
            "           2       0.00      0.00      0.00      1024\n",
            "           3       0.25      0.94      0.40      1774\n",
            "           4       0.14      0.00      0.01      1247\n",
            "           5       0.26      0.14      0.18       831\n",
            "           6       0.00      0.00      0.00      1233\n",
            "\n",
            "   micro avg       0.25      0.25      0.25      7178\n",
            "   macro avg       0.09      0.16      0.08      7178\n",
            "weighted avg       0.12      0.25      0.12      7178\n",
            "\n"
          ],
          "name": "stdout"
        },
        {
          "output_type": "stream",
          "text": [
            "/usr/local/lib/python3.6/dist-packages/sklearn/metrics/classification.py:1143: UndefinedMetricWarning: Precision and F-score are ill-defined and being set to 0.0 in labels with no predicted samples.\n",
            "  'precision', 'predicted', average, warn_for)\n"
          ],
          "name": "stderr"
        }
      ]
    },
    {
      "metadata": {
        "id": "g09hOYK0L0Gb",
        "colab_type": "code",
        "colab": {}
      },
      "cell_type": "code",
      "source": [
        "resnet18_model_rms = resnet_18()\n",
        "resnet18_model_rms.compile(loss='categorical_crossentropy', optimizer='rmsprop', metrics=['accuracy'])"
      ],
      "execution_count": 0,
      "outputs": []
    },
    {
      "metadata": {
        "id": "IAW_gtUzL0Db",
        "colab_type": "code",
        "outputId": "7acbe4e7-6cfb-44b2-8173-e0c45eef4071",
        "colab": {
          "base_uri": "https://localhost:8080/",
          "height": 884
        }
      },
      "cell_type": "code",
      "source": [
        "history_resnet18_rms = resnet18_model_rms.fit(X_train, y_train, batch_size=32, epochs=25, validation_data=(X_val, y_val))"
      ],
      "execution_count": 0,
      "outputs": [
        {
          "output_type": "stream",
          "text": [
            "Train on 25838 samples, validate on 2871 samples\n",
            "Epoch 1/25\n",
            "25838/25838 [==============================] - 26s 1ms/step - loss: 1.9804 - acc: 0.2232 - val_loss: 1.8784 - val_acc: 0.2097\n",
            "Epoch 2/25\n",
            "25838/25838 [==============================] - 16s 626us/step - loss: 1.8773 - acc: 0.2396 - val_loss: 1.8713 - val_acc: 0.2400\n",
            "Epoch 3/25\n",
            "25838/25838 [==============================] - 16s 623us/step - loss: 1.8702 - acc: 0.2447 - val_loss: 2.4353 - val_acc: 0.2215\n",
            "Epoch 4/25\n",
            "25838/25838 [==============================] - 16s 622us/step - loss: 1.8690 - acc: 0.2385 - val_loss: 1.8156 - val_acc: 0.2389\n",
            "Epoch 5/25\n",
            "25838/25838 [==============================] - 16s 625us/step - loss: 1.8688 - acc: 0.2444 - val_loss: 1.9188 - val_acc: 0.2382\n",
            "Epoch 6/25\n",
            "25838/25838 [==============================] - 16s 622us/step - loss: 1.8632 - acc: 0.2470 - val_loss: 1.8201 - val_acc: 0.1982\n",
            "Epoch 7/25\n",
            "25838/25838 [==============================] - 16s 618us/step - loss: 1.8558 - acc: 0.2490 - val_loss: 1.9916 - val_acc: 0.2348\n",
            "Epoch 8/25\n",
            "25838/25838 [==============================] - 16s 619us/step - loss: 1.8513 - acc: 0.2468 - val_loss: 2.1330 - val_acc: 0.2389\n",
            "Epoch 9/25\n",
            "25838/25838 [==============================] - 16s 616us/step - loss: 1.8506 - acc: 0.2492 - val_loss: 1.8156 - val_acc: 0.2400\n",
            "Epoch 10/25\n",
            "25838/25838 [==============================] - 16s 615us/step - loss: 1.8466 - acc: 0.2508 - val_loss: 1.8968 - val_acc: 0.2428\n",
            "Epoch 11/25\n",
            "25838/25838 [==============================] - 16s 615us/step - loss: 1.8426 - acc: 0.2521 - val_loss: 2.0701 - val_acc: 0.2396\n",
            "Epoch 12/25\n",
            "25838/25838 [==============================] - 16s 617us/step - loss: 1.8428 - acc: 0.2500 - val_loss: 1.9349 - val_acc: 0.2389\n",
            "Epoch 13/25\n",
            "25838/25838 [==============================] - 16s 614us/step - loss: 1.8406 - acc: 0.2496 - val_loss: 1.8685 - val_acc: 0.2424\n",
            "Epoch 14/25\n",
            "25838/25838 [==============================] - 16s 609us/step - loss: 1.8346 - acc: 0.2504 - val_loss: 1.8808 - val_acc: 0.2396\n",
            "Epoch 15/25\n",
            "25838/25838 [==============================] - 16s 610us/step - loss: 1.8285 - acc: 0.2529 - val_loss: 1.9277 - val_acc: 0.2382\n",
            "Epoch 16/25\n",
            "25838/25838 [==============================] - 16s 608us/step - loss: 1.8281 - acc: 0.2499 - val_loss: 1.8164 - val_acc: 0.2428\n",
            "Epoch 17/25\n",
            "25838/25838 [==============================] - 16s 611us/step - loss: 1.8202 - acc: 0.2527 - val_loss: 1.8277 - val_acc: 0.2449\n",
            "Epoch 18/25\n",
            "25838/25838 [==============================] - 16s 611us/step - loss: 1.8188 - acc: 0.2509 - val_loss: 1.8272 - val_acc: 0.2400\n",
            "Epoch 19/25\n",
            "25838/25838 [==============================] - 16s 612us/step - loss: 1.8169 - acc: 0.2528 - val_loss: 1.8270 - val_acc: 0.2445\n",
            "Epoch 20/25\n",
            "25838/25838 [==============================] - 16s 610us/step - loss: 1.8161 - acc: 0.2524 - val_loss: 1.8416 - val_acc: 0.2365\n",
            "Epoch 21/25\n",
            "25838/25838 [==============================] - 16s 610us/step - loss: 1.8074 - acc: 0.2528 - val_loss: 1.8040 - val_acc: 0.2382\n",
            "Epoch 22/25\n",
            "25838/25838 [==============================] - 16s 611us/step - loss: 1.8105 - acc: 0.2530 - val_loss: 1.7977 - val_acc: 0.2396\n",
            "Epoch 23/25\n",
            "25838/25838 [==============================] - 16s 611us/step - loss: 1.8090 - acc: 0.2535 - val_loss: 1.8776 - val_acc: 0.2393\n",
            "Epoch 24/25\n",
            "25838/25838 [==============================] - 16s 611us/step - loss: 1.8026 - acc: 0.2533 - val_loss: 1.8061 - val_acc: 0.2417\n",
            "Epoch 25/25\n",
            "25838/25838 [==============================] - 16s 611us/step - loss: 1.8049 - acc: 0.2535 - val_loss: 1.8095 - val_acc: 0.2442\n"
          ],
          "name": "stdout"
        }
      ]
    },
    {
      "metadata": {
        "id": "TILySEfaL0Ac",
        "colab_type": "code",
        "outputId": "237ec45f-9d53-4bfd-d1be-03bac3435d7e",
        "colab": {
          "base_uri": "https://localhost:8080/",
          "height": 51
        }
      },
      "cell_type": "code",
      "source": [
        "resnet18_model_rms.evaluate(X_test, y_test)"
      ],
      "execution_count": 0,
      "outputs": [
        {
          "output_type": "stream",
          "text": [
            "7178/7178 [==============================] - 2s 247us/step\n"
          ],
          "name": "stdout"
        },
        {
          "output_type": "execute_result",
          "data": {
            "text/plain": [
              "[1.822060467805594, 0.25118417388119385]"
            ]
          },
          "metadata": {
            "tags": []
          },
          "execution_count": 86
        }
      ]
    },
    {
      "metadata": {
        "colab_type": "code",
        "outputId": "a05f0939-404e-4560-917b-247c24c4aa5e",
        "id": "ADvUWaGrkxI6",
        "colab": {
          "base_uri": "https://localhost:8080/",
          "height": 136
        }
      },
      "cell_type": "code",
      "source": [
        "from sklearn.metrics import confusion_matrix\n",
        "\n",
        "resnet18_preds_rms = resnet18_model_rms.predict(X_test)\n",
        "confusion_matrix(y_test.argmax(axis=1), resnet18_preds_rms.argmax(axis=1))"
      ],
      "execution_count": 0,
      "outputs": [
        {
          "output_type": "execute_result",
          "data": {
            "text/plain": [
              "array([[   0,    0,    0,  870,    3,   81,    4],\n",
              "       [   0,    0,    0,  107,    0,    3,    1],\n",
              "       [   0,    0,    0,  922,    1,   99,    2],\n",
              "       [   0,    0,    0, 1672,    4,   98,    0],\n",
              "       [   0,    0,    0, 1208,    1,   35,    3],\n",
              "       [   0,    0,    0,  701,    0,  129,    1],\n",
              "       [   0,    0,    0, 1161,    4,   67,    1]])"
            ]
          },
          "metadata": {
            "tags": []
          },
          "execution_count": 87
        }
      ]
    },
    {
      "metadata": {
        "colab_type": "code",
        "id": "dqCQEhkQkxI9",
        "outputId": "c8d326cb-661c-44a1-a77c-359ebf5a5a33",
        "colab": {
          "base_uri": "https://localhost:8080/",
          "height": 309
        }
      },
      "cell_type": "code",
      "source": [
        "from sklearn.metrics import classification_report\n",
        "\n",
        "print(classification_report(y_test.argmax(axis=1), resnet18_preds_rms.argmax(axis=1)))"
      ],
      "execution_count": 0,
      "outputs": [
        {
          "output_type": "stream",
          "text": [
            "              precision    recall  f1-score   support\n",
            "\n",
            "           0       0.00      0.00      0.00       958\n",
            "           1       0.00      0.00      0.00       111\n",
            "           2       0.00      0.00      0.00      1024\n",
            "           3       0.25      0.94      0.40      1774\n",
            "           4       0.08      0.00      0.00      1247\n",
            "           5       0.25      0.16      0.19       831\n",
            "           6       0.08      0.00      0.00      1233\n",
            "\n",
            "   micro avg       0.25      0.25      0.25      7178\n",
            "   macro avg       0.09      0.16      0.08      7178\n",
            "weighted avg       0.12      0.25      0.12      7178\n",
            "\n"
          ],
          "name": "stdout"
        },
        {
          "output_type": "stream",
          "text": [
            "/usr/local/lib/python3.6/dist-packages/sklearn/metrics/classification.py:1143: UndefinedMetricWarning: Precision and F-score are ill-defined and being set to 0.0 in labels with no predicted samples.\n",
            "  'precision', 'predicted', average, warn_for)\n"
          ],
          "name": "stderr"
        }
      ]
    },
    {
      "metadata": {
        "id": "BSuuSxlnNVnT",
        "colab_type": "code",
        "outputId": "892831f0-2f9a-4a71-b806-a46cf1b82e7d",
        "colab": {
          "base_uri": "https://localhost:8080/",
          "height": 549
        }
      },
      "cell_type": "code",
      "source": [
        "import matplotlib.pyplot as plt\n",
        "\n",
        "resnet_adam_histories = [history_resnet18_adam, history_resnet18_rms]\n",
        "labels = [\"Adam\", \"RMSProp\"]\n",
        "plot(resnet_adam_histories, labels, \"loss\")\n",
        "plot(resnet_adam_histories, labels, \"accuracy\")"
      ],
      "execution_count": 0,
      "outputs": [
        {
          "output_type": "display_data",
          "data": {
            "image/png": "[encoded data removed]",
            "text/plain": [
              "<Figure size 432x288 with 1 Axes>"
            ]
          },
          "metadata": {
            "tags": []
          }
        },
        {
          "output_type": "display_data",
          "data": {
            "image/png": "[encoded data removed]",
            "text/plain": [
              "<Figure size 432x288 with 1 Axes>"
            ]
          },
          "metadata": {
            "tags": []
          }
        }
      ]
    },
    {
      "metadata": {
        "id": "Gnp8NxO2MDa5",
        "colab_type": "text"
      },
      "cell_type": "markdown",
      "source": [
        "# Modified ResNet(10)"
      ]
    },
    {
      "metadata": {
        "id": "HwHZUS8nMCvS",
        "colab_type": "code",
        "colab": {}
      },
      "cell_type": "code",
      "source": [
        "def resnet_modified(input_shape=(48,48,1), output_size=7):\n",
        "  model_input = Input(input_shape)\n",
        "  X = ZeroPadding2D((3, 3))(model_input)\n",
        "  X = Conv2D(filters = 64, kernel_size = (7, 7), strides = (2, 2), kernel_initializer = glorot_uniform(seed=1234))(X)\n",
        "  X = BatchNormalization(axis=3)(X)\n",
        "  X = Activation('relu')(X)\n",
        "  X = MaxPooling2D((3,3), strides = (2, 2))(X)\n",
        "  \n",
        "  X = conv_block_18(X, 3, [64, 64], 1)\n",
        "  for i in range(1):\n",
        "    X = identity_block_18(X, 3, [64, 64])\n",
        "    \n",
        "  X = conv_block_18(X, 3, [128, 128], 2)\n",
        "  for i in range(1):\n",
        "    X = identity_block_18(X, 3, [128, 128])\n",
        "    \n",
        "  X = AveragePooling2D((1,1))(X)\n",
        "  X = Flatten()(X)\n",
        "  X = Dense(output_size, activation='softmax', kernel_initializer = glorot_uniform(seed=1234))(X)\n",
        "  \n",
        "  model = Model(inputs=model_input, outputs=X)\n",
        "  \n",
        "  return model"
      ],
      "execution_count": 0,
      "outputs": []
    },
    {
      "metadata": {
        "id": "lj7F6SPYYNBe",
        "colab_type": "text"
      },
      "cell_type": "markdown",
      "source": [
        "**Modified ResNet with adam optimizer and batch size of 32**"
      ]
    },
    {
      "metadata": {
        "colab_type": "code",
        "id": "wXDdD4BzNob8",
        "colab": {}
      },
      "cell_type": "code",
      "source": [
        "resnet_modified_adam_32 = resnet_modified()\n",
        "resnet_modified_adam_32.compile(loss='categorical_crossentropy', optimizer='adam', metrics=['accuracy'])"
      ],
      "execution_count": 0,
      "outputs": []
    },
    {
      "metadata": {
        "colab_type": "code",
        "id": "wdFyfnygNocA",
        "outputId": "8efc7223-830d-46f5-af36-f1c59e3fab14",
        "colab": {
          "base_uri": "https://localhost:8080/",
          "height": 1734
        }
      },
      "cell_type": "code",
      "source": [
        "history_resnet_modified_adam_32 = resnet_modified_adam_32.fit(X_train, y_train, batch_size=32, epochs=50, validation_data=(X_val, y_val))"
      ],
      "execution_count": 0,
      "outputs": [
        {
          "output_type": "stream",
          "text": [
            "Train on 25838 samples, validate on 2871 samples\n",
            "Epoch 1/50\n",
            "25838/25838 [==============================] - 32s 1ms/step - loss: 1.8655 - acc: 0.3063 - val_loss: 1.8763 - val_acc: 0.2501\n",
            "Epoch 2/50\n",
            "25838/25838 [==============================] - 22s 852us/step - loss: 1.6325 - acc: 0.3679 - val_loss: 1.6620 - val_acc: 0.3417\n",
            "Epoch 3/50\n",
            "25838/25838 [==============================] - 22s 855us/step - loss: 1.5525 - acc: 0.3937 - val_loss: 1.5725 - val_acc: 0.3929\n",
            "Epoch 4/50\n",
            "25838/25838 [==============================] - 22s 855us/step - loss: 1.5101 - acc: 0.4120 - val_loss: 1.8759 - val_acc: 0.2738\n",
            "Epoch 5/50\n",
            "25838/25838 [==============================] - 22s 854us/step - loss: 1.4778 - acc: 0.4287 - val_loss: 1.5453 - val_acc: 0.4037\n",
            "Epoch 6/50\n",
            "25838/25838 [==============================] - 22s 854us/step - loss: 1.4522 - acc: 0.4353 - val_loss: 1.5637 - val_acc: 0.4006\n",
            "Epoch 7/50\n",
            "25838/25838 [==============================] - 22s 852us/step - loss: 1.4288 - acc: 0.4457 - val_loss: 1.6137 - val_acc: 0.3671\n",
            "Epoch 8/50\n",
            "25838/25838 [==============================] - 22s 853us/step - loss: 1.4098 - acc: 0.4512 - val_loss: 1.7102 - val_acc: 0.3699\n",
            "Epoch 9/50\n",
            "25838/25838 [==============================] - 22s 856us/step - loss: 1.3896 - acc: 0.4666 - val_loss: 1.5290 - val_acc: 0.4047\n",
            "Epoch 10/50\n",
            "25838/25838 [==============================] - 22s 856us/step - loss: 1.3664 - acc: 0.4760 - val_loss: 1.6301 - val_acc: 0.3643\n",
            "Epoch 11/50\n",
            "25838/25838 [==============================] - 22s 855us/step - loss: 1.3469 - acc: 0.4800 - val_loss: 1.6050 - val_acc: 0.3706\n",
            "Epoch 12/50\n",
            "25838/25838 [==============================] - 22s 849us/step - loss: 1.3284 - acc: 0.4874 - val_loss: 1.5730 - val_acc: 0.4134\n",
            "Epoch 13/50\n",
            "25838/25838 [==============================] - 22s 854us/step - loss: 1.3081 - acc: 0.5018 - val_loss: 1.6030 - val_acc: 0.4117\n",
            "Epoch 14/50\n",
            "25838/25838 [==============================] - 22s 851us/step - loss: 1.2906 - acc: 0.5058 - val_loss: 1.6582 - val_acc: 0.4013\n",
            "Epoch 15/50\n",
            "25838/25838 [==============================] - 22s 852us/step - loss: 1.2719 - acc: 0.5119 - val_loss: 1.5304 - val_acc: 0.4096\n",
            "Epoch 16/50\n",
            "25838/25838 [==============================] - 22s 853us/step - loss: 1.2493 - acc: 0.5223 - val_loss: 1.5742 - val_acc: 0.4194\n",
            "Epoch 17/50\n",
            "25838/25838 [==============================] - 22s 856us/step - loss: 1.2303 - acc: 0.5312 - val_loss: 1.6870 - val_acc: 0.3999\n",
            "Epoch 18/50\n",
            "25838/25838 [==============================] - 22s 852us/step - loss: 1.2115 - acc: 0.5400 - val_loss: 1.5771 - val_acc: 0.4291\n",
            "Epoch 19/50\n",
            "25838/25838 [==============================] - 22s 851us/step - loss: 1.1938 - acc: 0.5463 - val_loss: 1.5398 - val_acc: 0.4096\n",
            "Epoch 20/50\n",
            "25838/25838 [==============================] - 22s 856us/step - loss: 1.1715 - acc: 0.5541 - val_loss: 1.6374 - val_acc: 0.4162\n",
            "Epoch 21/50\n",
            "25838/25838 [==============================] - 22s 852us/step - loss: 1.1556 - acc: 0.5610 - val_loss: 1.5884 - val_acc: 0.4204\n",
            "Epoch 22/50\n",
            "25838/25838 [==============================] - 22s 848us/step - loss: 1.1346 - acc: 0.5713 - val_loss: 1.5995 - val_acc: 0.4176\n",
            "Epoch 23/50\n",
            "25838/25838 [==============================] - 22s 853us/step - loss: 1.1170 - acc: 0.5765 - val_loss: 1.6043 - val_acc: 0.4232\n",
            "Epoch 24/50\n",
            "25838/25838 [==============================] - 22s 853us/step - loss: 1.0940 - acc: 0.5859 - val_loss: 1.6639 - val_acc: 0.4117\n",
            "Epoch 25/50\n",
            "25838/25838 [==============================] - 22s 852us/step - loss: 1.0773 - acc: 0.5938 - val_loss: 1.9816 - val_acc: 0.3758\n",
            "Epoch 26/50\n",
            "25838/25838 [==============================] - 22s 853us/step - loss: 1.0547 - acc: 0.6051 - val_loss: 1.6764 - val_acc: 0.4114\n",
            "Epoch 27/50\n",
            "25838/25838 [==============================] - 22s 850us/step - loss: 1.0397 - acc: 0.6071 - val_loss: 1.8122 - val_acc: 0.4256\n",
            "Epoch 28/50\n",
            "25838/25838 [==============================] - 22s 856us/step - loss: 1.0189 - acc: 0.6166 - val_loss: 1.6975 - val_acc: 0.4107\n",
            "Epoch 29/50\n",
            "25838/25838 [==============================] - 22s 853us/step - loss: 0.9976 - acc: 0.6270 - val_loss: 2.2338 - val_acc: 0.3946\n",
            "Epoch 30/50\n",
            "25838/25838 [==============================] - 22s 852us/step - loss: 0.9801 - acc: 0.6328 - val_loss: 1.6745 - val_acc: 0.4330\n",
            "Epoch 31/50\n",
            "25838/25838 [==============================] - 22s 856us/step - loss: 0.9598 - acc: 0.6403 - val_loss: 1.8012 - val_acc: 0.3985\n",
            "Epoch 32/50\n",
            "25838/25838 [==============================] - 22s 854us/step - loss: 0.9446 - acc: 0.6456 - val_loss: 1.7389 - val_acc: 0.4103\n",
            "Epoch 33/50\n",
            "25838/25838 [==============================] - 22s 854us/step - loss: 0.9196 - acc: 0.6596 - val_loss: 1.8142 - val_acc: 0.3981\n",
            "Epoch 34/50\n",
            "25838/25838 [==============================] - 22s 853us/step - loss: 0.8993 - acc: 0.6628 - val_loss: 2.0836 - val_acc: 0.4096\n",
            "Epoch 35/50\n",
            "25838/25838 [==============================] - 22s 852us/step - loss: 0.8813 - acc: 0.6720 - val_loss: 1.9079 - val_acc: 0.4162\n",
            "Epoch 36/50\n",
            "25838/25838 [==============================] - 22s 856us/step - loss: 0.8621 - acc: 0.6792 - val_loss: 1.9906 - val_acc: 0.4089\n",
            "Epoch 37/50\n",
            "25838/25838 [==============================] - 22s 854us/step - loss: 0.8404 - acc: 0.6863 - val_loss: 1.9131 - val_acc: 0.3908\n",
            "Epoch 38/50\n",
            "25838/25838 [==============================] - 22s 853us/step - loss: 0.8296 - acc: 0.6905 - val_loss: 1.7939 - val_acc: 0.4281\n",
            "Epoch 39/50\n",
            "25838/25838 [==============================] - 22s 852us/step - loss: 0.8137 - acc: 0.6960 - val_loss: 2.0824 - val_acc: 0.3967\n",
            "Epoch 40/50\n",
            "25838/25838 [==============================] - 22s 853us/step - loss: 0.8000 - acc: 0.7014 - val_loss: 1.9291 - val_acc: 0.4232\n",
            "Epoch 41/50\n",
            "25838/25838 [==============================] - 22s 854us/step - loss: 0.7716 - acc: 0.7114 - val_loss: 2.0772 - val_acc: 0.4068\n",
            "Epoch 42/50\n",
            "25838/25838 [==============================] - 22s 855us/step - loss: 0.7581 - acc: 0.7173 - val_loss: 2.1491 - val_acc: 0.4124\n",
            "Epoch 43/50\n",
            "25838/25838 [==============================] - 22s 857us/step - loss: 0.7395 - acc: 0.7252 - val_loss: 2.2408 - val_acc: 0.4037\n",
            "Epoch 44/50\n",
            "25838/25838 [==============================] - 22s 855us/step - loss: 0.7239 - acc: 0.7256 - val_loss: 2.0486 - val_acc: 0.4305\n",
            "Epoch 45/50\n",
            "25838/25838 [==============================] - 22s 853us/step - loss: 0.7122 - acc: 0.7348 - val_loss: 2.0055 - val_acc: 0.4316\n",
            "Epoch 46/50\n",
            "25838/25838 [==============================] - 22s 854us/step - loss: 0.6833 - acc: 0.7458 - val_loss: 2.1265 - val_acc: 0.4107\n",
            "Epoch 47/50\n",
            "25838/25838 [==============================] - 22s 854us/step - loss: 0.6783 - acc: 0.7485 - val_loss: 2.1527 - val_acc: 0.4089\n",
            "Epoch 48/50\n",
            "25838/25838 [==============================] - 22s 852us/step - loss: 0.6599 - acc: 0.7575 - val_loss: 2.1394 - val_acc: 0.4319\n",
            "Epoch 49/50\n",
            "25838/25838 [==============================] - 22s 851us/step - loss: 0.6490 - acc: 0.7568 - val_loss: 2.1766 - val_acc: 0.4037\n",
            "Epoch 50/50\n",
            "25838/25838 [==============================] - 22s 851us/step - loss: 0.6357 - acc: 0.7612 - val_loss: 2.2254 - val_acc: 0.4316\n"
          ],
          "name": "stdout"
        }
      ]
    },
    {
      "metadata": {
        "colab_type": "code",
        "id": "6xC9XT9Vm1Lb",
        "outputId": "425548b7-1e69-401c-8065-a71bf2a8efbb",
        "colab": {
          "base_uri": "https://localhost:8080/",
          "height": 51
        }
      },
      "cell_type": "code",
      "source": [
        "resnet_modified_adam_32.evaluate(X_test,y_test)"
      ],
      "execution_count": 0,
      "outputs": [
        {
          "output_type": "stream",
          "text": [
            "7178/7178 [==============================] - 2s 219us/step\n"
          ],
          "name": "stdout"
        },
        {
          "output_type": "execute_result",
          "data": {
            "text/plain": [
              "[2.2391051502073664, 0.43229311787673574]"
            ]
          },
          "metadata": {
            "tags": []
          },
          "execution_count": 93
        }
      ]
    },
    {
      "metadata": {
        "colab_type": "code",
        "outputId": "9bd7cfdf-611b-4302-bef5-34a7c56e6f40",
        "id": "o_fSyH3Rm1Lf",
        "colab": {
          "base_uri": "https://localhost:8080/",
          "height": 136
        }
      },
      "cell_type": "code",
      "source": [
        "from sklearn.metrics import confusion_matrix\n",
        "\n",
        "resnet_modified_adam_32_preds = resnet_modified_adam_32.predict(X_test)\n",
        "confusion_matrix(y_test.argmax(axis=1), resnet_modified_adam_32_preds.argmax(axis=1))"
      ],
      "execution_count": 0,
      "outputs": [
        {
          "output_type": "execute_result",
          "data": {
            "text/plain": [
              "array([[ 288,   15,  119,  174,  165,   37,  160],\n",
              "       [  19,   31,   13,   19,   16,    4,    9],\n",
              "       [ 141,   10,  260,  166,  158,  103,  186],\n",
              "       [ 128,   10,   77, 1147,  146,   50,  216],\n",
              "       [ 169,   13,  146,  246,  345,   46,  282],\n",
              "       [  60,    3,   81,   81,   55,  485,   66],\n",
              "       [ 160,   12,  101,  190,  188,   35,  547]])"
            ]
          },
          "metadata": {
            "tags": []
          },
          "execution_count": 94
        }
      ]
    },
    {
      "metadata": {
        "colab_type": "code",
        "id": "x_gLWaMrm1Li",
        "outputId": "55379ba6-e5e6-4db6-84c7-23be74c7ff9a",
        "colab": {
          "base_uri": "https://localhost:8080/",
          "height": 255
        }
      },
      "cell_type": "code",
      "source": [
        "from sklearn.metrics import classification_report\n",
        "\n",
        "print(classification_report(y_test.argmax(axis=1), resnet_modified_adam_32_preds.argmax(axis=1)))"
      ],
      "execution_count": 0,
      "outputs": [
        {
          "output_type": "stream",
          "text": [
            "              precision    recall  f1-score   support\n",
            "\n",
            "           0       0.30      0.30      0.30       958\n",
            "           1       0.33      0.28      0.30       111\n",
            "           2       0.33      0.25      0.29      1024\n",
            "           3       0.57      0.65      0.60      1774\n",
            "           4       0.32      0.28      0.30      1247\n",
            "           5       0.64      0.58      0.61       831\n",
            "           6       0.37      0.44      0.41      1233\n",
            "\n",
            "   micro avg       0.43      0.43      0.43      7178\n",
            "   macro avg       0.41      0.40      0.40      7178\n",
            "weighted avg       0.43      0.43      0.43      7178\n",
            "\n"
          ],
          "name": "stdout"
        }
      ]
    },
    {
      "metadata": {
        "id": "W2YXrXfSYVhM",
        "colab_type": "text"
      },
      "cell_type": "markdown",
      "source": [
        "**Modified ResNet with adam optimizer and batch size 64**"
      ]
    },
    {
      "metadata": {
        "colab_type": "code",
        "id": "G-tX1ZvaOCwZ",
        "colab": {}
      },
      "cell_type": "code",
      "source": [
        "resnet_modified_adam_64 = resnet_modified()\n",
        "resnet_modified_adam_64.compile(loss='categorical_crossentropy', optimizer='adam', metrics=['accuracy'])"
      ],
      "execution_count": 0,
      "outputs": []
    },
    {
      "metadata": {
        "colab_type": "code",
        "id": "x6MGe2R5OCwc",
        "outputId": "0f91bd6e-d6a8-4ed8-ec13-fa819db56bfd",
        "colab": {
          "base_uri": "https://localhost:8080/",
          "height": 1734
        }
      },
      "cell_type": "code",
      "source": [
        "history_resnet_modified_adam_64 = resnet_modified_adam_64.fit(X_train, y_train, batch_size=64, epochs=50, validation_data=(X_val, y_val))"
      ],
      "execution_count": 0,
      "outputs": [
        {
          "output_type": "stream",
          "text": [
            "Train on 25838 samples, validate on 2871 samples\n",
            "Epoch 1/50\n",
            "25838/25838 [==============================] - 22s 857us/step - loss: 1.8537 - acc: 0.3088 - val_loss: 1.8861 - val_acc: 0.2828\n",
            "Epoch 2/50\n",
            "25838/25838 [==============================] - 12s 451us/step - loss: 1.6364 - acc: 0.3708 - val_loss: 1.8019 - val_acc: 0.2884\n",
            "Epoch 3/50\n",
            "25838/25838 [==============================] - 12s 450us/step - loss: 1.5630 - acc: 0.3958 - val_loss: 1.7004 - val_acc: 0.3452\n",
            "Epoch 4/50\n",
            "25838/25838 [==============================] - 12s 447us/step - loss: 1.5087 - acc: 0.4190 - val_loss: 1.6257 - val_acc: 0.3800\n",
            "Epoch 5/50\n",
            "25838/25838 [==============================] - 12s 448us/step - loss: 1.4767 - acc: 0.4302 - val_loss: 1.5722 - val_acc: 0.3936\n",
            "Epoch 6/50\n",
            "25838/25838 [==============================] - 11s 443us/step - loss: 1.4498 - acc: 0.4404 - val_loss: 1.7191 - val_acc: 0.3023\n",
            "Epoch 7/50\n",
            "25838/25838 [==============================] - 11s 444us/step - loss: 1.4264 - acc: 0.4512 - val_loss: 1.7664 - val_acc: 0.3197\n",
            "Epoch 8/50\n",
            "25838/25838 [==============================] - 11s 444us/step - loss: 1.3994 - acc: 0.4639 - val_loss: 1.6584 - val_acc: 0.3612\n",
            "Epoch 9/50\n",
            "25838/25838 [==============================] - 11s 444us/step - loss: 1.3806 - acc: 0.4705 - val_loss: 1.7308 - val_acc: 0.3382\n",
            "Epoch 10/50\n",
            "25838/25838 [==============================] - 12s 446us/step - loss: 1.3618 - acc: 0.4786 - val_loss: 1.5701 - val_acc: 0.3960\n",
            "Epoch 11/50\n",
            "25838/25838 [==============================] - 11s 445us/step - loss: 1.3373 - acc: 0.4861 - val_loss: 1.8266 - val_acc: 0.3124\n",
            "Epoch 12/50\n",
            "25838/25838 [==============================] - 11s 442us/step - loss: 1.3165 - acc: 0.4954 - val_loss: 1.5526 - val_acc: 0.4117\n",
            "Epoch 13/50\n",
            "25838/25838 [==============================] - 11s 445us/step - loss: 1.2943 - acc: 0.5040 - val_loss: 1.6087 - val_acc: 0.3873\n",
            "Epoch 14/50\n",
            "25838/25838 [==============================] - 11s 445us/step - loss: 1.2743 - acc: 0.5117 - val_loss: 1.5900 - val_acc: 0.4093\n",
            "Epoch 15/50\n",
            "25838/25838 [==============================] - 11s 445us/step - loss: 1.2553 - acc: 0.5219 - val_loss: 1.7170 - val_acc: 0.3783\n",
            "Epoch 16/50\n",
            "25838/25838 [==============================] - 11s 441us/step - loss: 1.2318 - acc: 0.5299 - val_loss: 1.7011 - val_acc: 0.3744\n",
            "Epoch 17/50\n",
            "25838/25838 [==============================] - 11s 442us/step - loss: 1.2115 - acc: 0.5384 - val_loss: 1.7357 - val_acc: 0.3957\n",
            "Epoch 18/50\n",
            "25838/25838 [==============================] - 11s 444us/step - loss: 1.1877 - acc: 0.5515 - val_loss: 1.7545 - val_acc: 0.3619\n",
            "Epoch 19/50\n",
            "25838/25838 [==============================] - 11s 443us/step - loss: 1.1658 - acc: 0.5591 - val_loss: 1.8502 - val_acc: 0.3413\n",
            "Epoch 20/50\n",
            "25838/25838 [==============================] - 11s 442us/step - loss: 1.1463 - acc: 0.5658 - val_loss: 1.7655 - val_acc: 0.3814\n",
            "Epoch 21/50\n",
            "25838/25838 [==============================] - 11s 444us/step - loss: 1.1182 - acc: 0.5789 - val_loss: 1.6733 - val_acc: 0.4103\n",
            "Epoch 22/50\n",
            "25838/25838 [==============================] - 11s 441us/step - loss: 1.0944 - acc: 0.5878 - val_loss: 1.7033 - val_acc: 0.4215\n",
            "Epoch 23/50\n",
            "25838/25838 [==============================] - 11s 442us/step - loss: 1.0694 - acc: 0.5964 - val_loss: 1.7368 - val_acc: 0.3929\n",
            "Epoch 24/50\n",
            "25838/25838 [==============================] - 11s 444us/step - loss: 1.0385 - acc: 0.6106 - val_loss: 1.6896 - val_acc: 0.4138\n",
            "Epoch 25/50\n",
            "25838/25838 [==============================] - 11s 443us/step - loss: 1.0201 - acc: 0.6169 - val_loss: 1.7949 - val_acc: 0.3755\n",
            "Epoch 26/50\n",
            "25838/25838 [==============================] - 11s 443us/step - loss: 0.9995 - acc: 0.6239 - val_loss: 1.8643 - val_acc: 0.3710\n",
            "Epoch 27/50\n",
            "25838/25838 [==============================] - 11s 443us/step - loss: 0.9715 - acc: 0.6379 - val_loss: 1.7136 - val_acc: 0.4253\n",
            "Epoch 28/50\n",
            "25838/25838 [==============================] - 11s 442us/step - loss: 0.9471 - acc: 0.6422 - val_loss: 1.8002 - val_acc: 0.4225\n",
            "Epoch 29/50\n",
            "25838/25838 [==============================] - 11s 443us/step - loss: 0.9201 - acc: 0.6559 - val_loss: 1.7726 - val_acc: 0.4121\n",
            "Epoch 30/50\n",
            "25838/25838 [==============================] - 11s 443us/step - loss: 0.8908 - acc: 0.6712 - val_loss: 1.8716 - val_acc: 0.4117\n",
            "Epoch 31/50\n",
            "25838/25838 [==============================] - 11s 444us/step - loss: 0.8700 - acc: 0.6761 - val_loss: 1.9177 - val_acc: 0.3992\n",
            "Epoch 32/50\n",
            "25838/25838 [==============================] - 11s 442us/step - loss: 0.8373 - acc: 0.6886 - val_loss: 1.9084 - val_acc: 0.4065\n",
            "Epoch 33/50\n",
            "25838/25838 [==============================] - 11s 443us/step - loss: 0.8198 - acc: 0.6930 - val_loss: 2.0746 - val_acc: 0.3842\n",
            "Epoch 34/50\n",
            "25838/25838 [==============================] - 11s 443us/step - loss: 0.7931 - acc: 0.7073 - val_loss: 2.0516 - val_acc: 0.4190\n",
            "Epoch 35/50\n",
            "25838/25838 [==============================] - 11s 444us/step - loss: 0.7757 - acc: 0.7153 - val_loss: 1.9319 - val_acc: 0.4127\n",
            "Epoch 36/50\n",
            "25838/25838 [==============================] - 11s 442us/step - loss: 0.7454 - acc: 0.7234 - val_loss: 2.2410 - val_acc: 0.4009\n",
            "Epoch 37/50\n",
            "25838/25838 [==============================] - 11s 444us/step - loss: 0.7189 - acc: 0.7321 - val_loss: 2.0614 - val_acc: 0.4107\n",
            "Epoch 38/50\n",
            "25838/25838 [==============================] - 11s 442us/step - loss: 0.7048 - acc: 0.7403 - val_loss: 2.3185 - val_acc: 0.3776\n",
            "Epoch 39/50\n",
            "25838/25838 [==============================] - 11s 443us/step - loss: 0.6801 - acc: 0.7467 - val_loss: 2.2534 - val_acc: 0.3946\n",
            "Epoch 40/50\n",
            "25838/25838 [==============================] - 12s 446us/step - loss: 0.6548 - acc: 0.7576 - val_loss: 2.3497 - val_acc: 0.4089\n",
            "Epoch 41/50\n",
            "25838/25838 [==============================] - 11s 444us/step - loss: 0.6399 - acc: 0.7632 - val_loss: 2.4445 - val_acc: 0.4016\n",
            "Epoch 42/50\n",
            "25838/25838 [==============================] - 11s 444us/step - loss: 0.6239 - acc: 0.7708 - val_loss: 2.4882 - val_acc: 0.4040\n",
            "Epoch 43/50\n",
            "25838/25838 [==============================] - 11s 443us/step - loss: 0.6030 - acc: 0.7770 - val_loss: 2.5199 - val_acc: 0.3783\n",
            "Epoch 44/50\n",
            "25838/25838 [==============================] - 11s 442us/step - loss: 0.5821 - acc: 0.7849 - val_loss: 2.3393 - val_acc: 0.4058\n",
            "Epoch 45/50\n",
            "25838/25838 [==============================] - 11s 441us/step - loss: 0.5726 - acc: 0.7875 - val_loss: 2.4347 - val_acc: 0.4173\n",
            "Epoch 46/50\n",
            "25838/25838 [==============================] - 11s 440us/step - loss: 0.5335 - acc: 0.8034 - val_loss: 2.5570 - val_acc: 0.4218\n",
            "Epoch 47/50\n",
            "25838/25838 [==============================] - 11s 440us/step - loss: 0.5424 - acc: 0.7998 - val_loss: 2.5356 - val_acc: 0.4131\n",
            "Epoch 48/50\n",
            "25838/25838 [==============================] - 11s 439us/step - loss: 0.5238 - acc: 0.8067 - val_loss: 2.6320 - val_acc: 0.3797\n",
            "Epoch 49/50\n",
            "25838/25838 [==============================] - 11s 439us/step - loss: 0.5047 - acc: 0.8132 - val_loss: 2.5728 - val_acc: 0.3898\n",
            "Epoch 50/50\n",
            "25838/25838 [==============================] - 11s 440us/step - loss: 0.4913 - acc: 0.8197 - val_loss: 2.7286 - val_acc: 0.3727\n"
          ],
          "name": "stdout"
        }
      ]
    },
    {
      "metadata": {
        "colab_type": "code",
        "id": "XzVViaqumuSr",
        "outputId": "d215e19b-b00b-418e-da2a-4df8a5784685",
        "colab": {
          "base_uri": "https://localhost:8080/",
          "height": 51
        }
      },
      "cell_type": "code",
      "source": [
        "resnet_modified_adam_64.evaluate(X_test,y_test)"
      ],
      "execution_count": 0,
      "outputs": [
        {
          "output_type": "stream",
          "text": [
            "7178/7178 [==============================] - 1s 206us/step\n"
          ],
          "name": "stdout"
        },
        {
          "output_type": "execute_result",
          "data": {
            "text/plain": [
              "[2.682718274785337, 0.3774031763764004]"
            ]
          },
          "metadata": {
            "tags": []
          },
          "execution_count": 98
        }
      ]
    },
    {
      "metadata": {
        "colab_type": "code",
        "outputId": "c8a7e243-0af5-46a3-ff65-e2ceb9aba1a6",
        "id": "tMf_HWCLmuSt",
        "colab": {
          "base_uri": "https://localhost:8080/",
          "height": 136
        }
      },
      "cell_type": "code",
      "source": [
        "from sklearn.metrics import confusion_matrix\n",
        "\n",
        "resnet_modified_adam_64_preds = resnet_modified_adam_64.predict(X_test)\n",
        "confusion_matrix(y_test.argmax(axis=1), resnet_modified_adam_64_preds.argmax(axis=1))"
      ],
      "execution_count": 0,
      "outputs": [
        {
          "output_type": "execute_result",
          "data": {
            "text/plain": [
              "array([[344,   6, 173, 117, 152,  34, 132],\n",
              "       [ 26,  23,  21,   7,  21,   3,  10],\n",
              "       [178,   5, 322, 117, 193,  68, 141],\n",
              "       [205,   4, 166, 911, 218,  34, 236],\n",
              "       [253,   3, 231, 153, 341,  34, 232],\n",
              "       [ 81,   0, 185,  63,  61, 373,  68],\n",
              "       [196,   4, 192, 166, 244,  36, 395]])"
            ]
          },
          "metadata": {
            "tags": []
          },
          "execution_count": 99
        }
      ]
    },
    {
      "metadata": {
        "colab_type": "code",
        "id": "B5aUaCtumuSw",
        "outputId": "a14dd565-87f6-45e8-ee38-32ac7b9d65e2",
        "colab": {
          "base_uri": "https://localhost:8080/",
          "height": 255
        }
      },
      "cell_type": "code",
      "source": [
        "from sklearn.metrics import classification_report\n",
        "\n",
        "print(classification_report(y_test.argmax(axis=1), resnet_modified_adam_64_preds.argmax(axis=1)))"
      ],
      "execution_count": 0,
      "outputs": [
        {
          "output_type": "stream",
          "text": [
            "              precision    recall  f1-score   support\n",
            "\n",
            "           0       0.27      0.36      0.31       958\n",
            "           1       0.51      0.21      0.29       111\n",
            "           2       0.25      0.31      0.28      1024\n",
            "           3       0.59      0.51      0.55      1774\n",
            "           4       0.28      0.27      0.28      1247\n",
            "           5       0.64      0.45      0.53       831\n",
            "           6       0.33      0.32      0.32      1233\n",
            "\n",
            "   micro avg       0.38      0.38      0.38      7178\n",
            "   macro avg       0.41      0.35      0.37      7178\n",
            "weighted avg       0.40      0.38      0.39      7178\n",
            "\n"
          ],
          "name": "stdout"
        }
      ]
    },
    {
      "metadata": {
        "id": "zQYq_b8HYcmW",
        "colab_type": "text"
      },
      "cell_type": "markdown",
      "source": [
        "**Modified ResNet with adam optimizer and batch size 128**"
      ]
    },
    {
      "metadata": {
        "colab_type": "code",
        "id": "hSvKxvNcOKAQ",
        "colab": {}
      },
      "cell_type": "code",
      "source": [
        "resnet_modified_adam_128 = resnet_modified()\n",
        "resnet_modified_adam_128.compile(loss='categorical_crossentropy', optimizer='adam', metrics=['accuracy'])"
      ],
      "execution_count": 0,
      "outputs": []
    },
    {
      "metadata": {
        "colab_type": "code",
        "id": "mg87I2YFOKAS",
        "outputId": "6dcc98bd-f89e-4d5b-80cf-db357c05d440",
        "colab": {
          "base_uri": "https://localhost:8080/",
          "height": 1734
        }
      },
      "cell_type": "code",
      "source": [
        "history_resnet_modified_adam_128 = resnet_modified_adam_128.fit(X_train, y_train, batch_size=128, epochs=50, validation_data=(X_val, y_val))"
      ],
      "execution_count": 0,
      "outputs": [
        {
          "output_type": "stream",
          "text": [
            "Train on 25838 samples, validate on 2871 samples\n",
            "Epoch 1/50\n",
            "25838/25838 [==============================] - 18s 702us/step - loss: 1.8554 - acc: 0.3093 - val_loss: 1.9325 - val_acc: 0.2929\n",
            "Epoch 2/50\n",
            "25838/25838 [==============================] - 7s 262us/step - loss: 1.6469 - acc: 0.3659 - val_loss: 1.8562 - val_acc: 0.2891\n",
            "Epoch 3/50\n",
            "25838/25838 [==============================] - 7s 263us/step - loss: 1.5596 - acc: 0.3957 - val_loss: 1.7841 - val_acc: 0.2968\n",
            "Epoch 4/50\n",
            "25838/25838 [==============================] - 7s 262us/step - loss: 1.5216 - acc: 0.4108 - val_loss: 1.9477 - val_acc: 0.2727\n",
            "Epoch 5/50\n",
            "25838/25838 [==============================] - 7s 261us/step - loss: 1.4789 - acc: 0.4294 - val_loss: 1.6552 - val_acc: 0.3602\n",
            "Epoch 6/50\n",
            "25838/25838 [==============================] - 7s 260us/step - loss: 1.4457 - acc: 0.4411 - val_loss: 1.7226 - val_acc: 0.3365\n",
            "Epoch 7/50\n",
            "25838/25838 [==============================] - 7s 262us/step - loss: 1.4154 - acc: 0.4533 - val_loss: 1.9596 - val_acc: 0.3525\n",
            "Epoch 8/50\n",
            "25838/25838 [==============================] - 7s 262us/step - loss: 1.3906 - acc: 0.4638 - val_loss: 1.5999 - val_acc: 0.4013\n",
            "Epoch 9/50\n",
            "25838/25838 [==============================] - 7s 261us/step - loss: 1.3662 - acc: 0.4770 - val_loss: 1.6667 - val_acc: 0.3643\n",
            "Epoch 10/50\n",
            "25838/25838 [==============================] - 7s 261us/step - loss: 1.3382 - acc: 0.4866 - val_loss: 1.5768 - val_acc: 0.3978\n",
            "Epoch 11/50\n",
            "25838/25838 [==============================] - 7s 262us/step - loss: 1.3207 - acc: 0.4922 - val_loss: 1.7502 - val_acc: 0.3689\n",
            "Epoch 12/50\n",
            "25838/25838 [==============================] - 7s 261us/step - loss: 1.3003 - acc: 0.5061 - val_loss: 1.7434 - val_acc: 0.3884\n",
            "Epoch 13/50\n",
            "25838/25838 [==============================] - 7s 261us/step - loss: 1.2783 - acc: 0.5114 - val_loss: 1.6195 - val_acc: 0.3901\n",
            "Epoch 14/50\n",
            "25838/25838 [==============================] - 7s 261us/step - loss: 1.2470 - acc: 0.5245 - val_loss: 1.8559 - val_acc: 0.3629\n",
            "Epoch 15/50\n",
            "25838/25838 [==============================] - 7s 261us/step - loss: 1.2242 - acc: 0.5338 - val_loss: 1.7056 - val_acc: 0.3713\n",
            "Epoch 16/50\n",
            "25838/25838 [==============================] - 7s 262us/step - loss: 1.2069 - acc: 0.5428 - val_loss: 1.7375 - val_acc: 0.3811\n",
            "Epoch 17/50\n",
            "25838/25838 [==============================] - 7s 261us/step - loss: 1.1827 - acc: 0.5494 - val_loss: 2.0022 - val_acc: 0.3706\n",
            "Epoch 18/50\n",
            "25838/25838 [==============================] - 7s 261us/step - loss: 1.1604 - acc: 0.5651 - val_loss: 2.0015 - val_acc: 0.3615\n",
            "Epoch 19/50\n",
            "25838/25838 [==============================] - 7s 262us/step - loss: 1.1307 - acc: 0.5749 - val_loss: 1.8121 - val_acc: 0.3797\n",
            "Epoch 20/50\n",
            "25838/25838 [==============================] - 7s 263us/step - loss: 1.1097 - acc: 0.5846 - val_loss: 1.7259 - val_acc: 0.3995\n",
            "Epoch 21/50\n",
            "25838/25838 [==============================] - 7s 263us/step - loss: 1.0768 - acc: 0.5956 - val_loss: 1.8047 - val_acc: 0.3852\n",
            "Epoch 22/50\n",
            "25838/25838 [==============================] - 7s 262us/step - loss: 1.0504 - acc: 0.6071 - val_loss: 1.8331 - val_acc: 0.3581\n",
            "Epoch 23/50\n",
            "25838/25838 [==============================] - 7s 261us/step - loss: 1.0289 - acc: 0.6163 - val_loss: 1.9787 - val_acc: 0.3842\n",
            "Epoch 24/50\n",
            "25838/25838 [==============================] - 7s 262us/step - loss: 1.0060 - acc: 0.6259 - val_loss: 1.8634 - val_acc: 0.3863\n",
            "Epoch 25/50\n",
            "25838/25838 [==============================] - 7s 262us/step - loss: 0.9780 - acc: 0.6361 - val_loss: 1.8007 - val_acc: 0.4124\n",
            "Epoch 26/50\n",
            "25838/25838 [==============================] - 7s 261us/step - loss: 0.9454 - acc: 0.6489 - val_loss: 1.9209 - val_acc: 0.4054\n",
            "Epoch 27/50\n",
            "25838/25838 [==============================] - 7s 262us/step - loss: 0.9153 - acc: 0.6615 - val_loss: 1.9430 - val_acc: 0.3950\n",
            "Epoch 28/50\n",
            "25838/25838 [==============================] - 7s 262us/step - loss: 0.8962 - acc: 0.6651 - val_loss: 2.0108 - val_acc: 0.3824\n",
            "Epoch 29/50\n",
            "25838/25838 [==============================] - 7s 262us/step - loss: 0.8556 - acc: 0.6842 - val_loss: 2.2196 - val_acc: 0.3542\n",
            "Epoch 30/50\n",
            "25838/25838 [==============================] - 7s 261us/step - loss: 0.8408 - acc: 0.6890 - val_loss: 2.0725 - val_acc: 0.3710\n",
            "Epoch 31/50\n",
            "25838/25838 [==============================] - 7s 263us/step - loss: 0.7997 - acc: 0.7046 - val_loss: 2.2083 - val_acc: 0.3985\n",
            "Epoch 32/50\n",
            "25838/25838 [==============================] - 7s 262us/step - loss: 0.7899 - acc: 0.7068 - val_loss: 2.2400 - val_acc: 0.3615\n",
            "Epoch 33/50\n",
            "25838/25838 [==============================] - 7s 261us/step - loss: 0.7606 - acc: 0.7180 - val_loss: 2.4323 - val_acc: 0.3730\n",
            "Epoch 34/50\n",
            "25838/25838 [==============================] - 7s 261us/step - loss: 0.7293 - acc: 0.7307 - val_loss: 2.3668 - val_acc: 0.3689\n",
            "Epoch 35/50\n",
            "25838/25838 [==============================] - 7s 261us/step - loss: 0.7001 - acc: 0.7398 - val_loss: 2.2700 - val_acc: 0.3985\n",
            "Epoch 36/50\n",
            "25838/25838 [==============================] - 7s 261us/step - loss: 0.6760 - acc: 0.7517 - val_loss: 2.4079 - val_acc: 0.3682\n",
            "Epoch 37/50\n",
            "25838/25838 [==============================] - 7s 262us/step - loss: 0.6598 - acc: 0.7556 - val_loss: 2.2856 - val_acc: 0.3981\n",
            "Epoch 38/50\n",
            "25838/25838 [==============================] - 7s 261us/step - loss: 0.6399 - acc: 0.7646 - val_loss: 2.3730 - val_acc: 0.3873\n",
            "Epoch 39/50\n",
            "25838/25838 [==============================] - 7s 261us/step - loss: 0.6137 - acc: 0.7734 - val_loss: 2.5028 - val_acc: 0.3908\n",
            "Epoch 40/50\n",
            "25838/25838 [==============================] - 7s 263us/step - loss: 0.5983 - acc: 0.7792 - val_loss: 2.4131 - val_acc: 0.3908\n",
            "Epoch 41/50\n",
            "25838/25838 [==============================] - 7s 262us/step - loss: 0.5581 - acc: 0.7925 - val_loss: 2.4129 - val_acc: 0.4176\n",
            "Epoch 42/50\n",
            "25838/25838 [==============================] - 7s 262us/step - loss: 0.5484 - acc: 0.7999 - val_loss: 2.5647 - val_acc: 0.4054\n",
            "Epoch 43/50\n",
            "25838/25838 [==============================] - 7s 262us/step - loss: 0.5380 - acc: 0.8017 - val_loss: 2.5832 - val_acc: 0.3870\n",
            "Epoch 44/50\n",
            "25838/25838 [==============================] - 7s 261us/step - loss: 0.5144 - acc: 0.8109 - val_loss: 2.5993 - val_acc: 0.3939\n",
            "Epoch 45/50\n",
            "25838/25838 [==============================] - 7s 260us/step - loss: 0.5049 - acc: 0.8151 - val_loss: 2.8012 - val_acc: 0.3797\n",
            "Epoch 46/50\n",
            "25838/25838 [==============================] - 7s 261us/step - loss: 0.4824 - acc: 0.8247 - val_loss: 2.8561 - val_acc: 0.3960\n",
            "Epoch 47/50\n",
            "25838/25838 [==============================] - 7s 261us/step - loss: 0.4639 - acc: 0.8296 - val_loss: 2.7675 - val_acc: 0.3817\n",
            "Epoch 48/50\n",
            "25838/25838 [==============================] - 7s 261us/step - loss: 0.4412 - acc: 0.8371 - val_loss: 3.1789 - val_acc: 0.3772\n",
            "Epoch 49/50\n",
            "25838/25838 [==============================] - 7s 262us/step - loss: 0.4201 - acc: 0.8459 - val_loss: 3.0631 - val_acc: 0.3922\n",
            "Epoch 50/50\n",
            "25838/25838 [==============================] - 7s 261us/step - loss: 0.4261 - acc: 0.8428 - val_loss: 3.1360 - val_acc: 0.3741\n"
          ],
          "name": "stdout"
        }
      ]
    },
    {
      "metadata": {
        "colab_type": "code",
        "id": "TOXwO8emmmMj",
        "outputId": "7f98400b-0ed2-4269-b07b-d5b39b747aa9",
        "colab": {
          "base_uri": "https://localhost:8080/",
          "height": 51
        }
      },
      "cell_type": "code",
      "source": [
        "resnet_modified_adam_128.evaluate(X_test,y_test)"
      ],
      "execution_count": 0,
      "outputs": [
        {
          "output_type": "stream",
          "text": [
            "7178/7178 [==============================] - 1s 205us/step\n"
          ],
          "name": "stdout"
        },
        {
          "output_type": "execute_result",
          "data": {
            "text/plain": [
              "[3.0088442420853183, 0.39439955419752054]"
            ]
          },
          "metadata": {
            "tags": []
          },
          "execution_count": 103
        }
      ]
    },
    {
      "metadata": {
        "colab_type": "code",
        "outputId": "65f8102f-d033-402f-e62c-1a44a1806c9d",
        "id": "HLlhyIb2mmMl",
        "colab": {
          "base_uri": "https://localhost:8080/",
          "height": 136
        }
      },
      "cell_type": "code",
      "source": [
        "from sklearn.metrics import confusion_matrix\n",
        "\n",
        "resnet_modified_adam_128_preds = resnet_modified_adam_128.predict(X_test)\n",
        "confusion_matrix(y_test.argmax(axis=1), resnet_modified_adam_128_preds.argmax(axis=1))"
      ],
      "execution_count": 0,
      "outputs": [
        {
          "output_type": "execute_result",
          "data": {
            "text/plain": [
              "array([[ 240,   11,  198,  159,  188,   71,   91],\n",
              "       [  23,   25,   27,    8,   24,    2,    2],\n",
              "       [ 140,    4,  336,  117,  195,  143,   89],\n",
              "       [ 159,   11,  166, 1014,  201,   90,  133],\n",
              "       [ 200,   16,  223,  169,  432,   81,  126],\n",
              "       [  49,    9,  152,   65,   48,  476,   32],\n",
              "       [ 143,   10,  208,  207,  248,  109,  308]])"
            ]
          },
          "metadata": {
            "tags": []
          },
          "execution_count": 104
        }
      ]
    },
    {
      "metadata": {
        "colab_type": "code",
        "id": "esp_BUBMmmMn",
        "outputId": "0cff74fa-feab-4f1c-9d67-d490b00dfe6e",
        "colab": {
          "base_uri": "https://localhost:8080/",
          "height": 255
        }
      },
      "cell_type": "code",
      "source": [
        "from sklearn.metrics import classification_report\n",
        "\n",
        "print(classification_report(y_test.argmax(axis=1), resnet_modified_adam_128_preds.argmax(axis=1)))"
      ],
      "execution_count": 0,
      "outputs": [
        {
          "output_type": "stream",
          "text": [
            "              precision    recall  f1-score   support\n",
            "\n",
            "           0       0.25      0.25      0.25       958\n",
            "           1       0.29      0.23      0.25       111\n",
            "           2       0.26      0.33      0.29      1024\n",
            "           3       0.58      0.57      0.58      1774\n",
            "           4       0.32      0.35      0.33      1247\n",
            "           5       0.49      0.57      0.53       831\n",
            "           6       0.39      0.25      0.31      1233\n",
            "\n",
            "   micro avg       0.39      0.39      0.39      7178\n",
            "   macro avg       0.37      0.36      0.36      7178\n",
            "weighted avg       0.40      0.39      0.39      7178\n",
            "\n"
          ],
          "name": "stdout"
        }
      ]
    },
    {
      "metadata": {
        "id": "QTevY1t-YfVg",
        "colab_type": "text"
      },
      "cell_type": "markdown",
      "source": [
        "**Modified ResNet with RMSProp optimizer and batch size 32**"
      ]
    },
    {
      "metadata": {
        "colab_type": "code",
        "id": "Ld05CiqbOPvo",
        "colab": {}
      },
      "cell_type": "code",
      "source": [
        "resnet_modified_rms_32 = resnet_modified()\n",
        "resnet_modified_rms_32.compile(loss='categorical_crossentropy', optimizer='rmsprop', metrics=['accuracy'])"
      ],
      "execution_count": 0,
      "outputs": []
    },
    {
      "metadata": {
        "colab_type": "code",
        "id": "USFtj7_WOPvr",
        "outputId": "af3ca5e1-b293-48d6-ae7b-c7eac4bae8b0",
        "colab": {
          "base_uri": "https://localhost:8080/",
          "height": 1734
        }
      },
      "cell_type": "code",
      "source": [
        "history_resnet_modified_rms_32 = resnet_modified_rms_32.fit(X_train, y_train, batch_size=32, epochs=50, validation_data=(X_val, y_val))"
      ],
      "execution_count": 0,
      "outputs": [
        {
          "output_type": "stream",
          "text": [
            "Train on 25838 samples, validate on 2871 samples\n",
            "Epoch 1/50\n",
            "25838/25838 [==============================] - 32s 1ms/step - loss: 1.9326 - acc: 0.2981 - val_loss: 2.3990 - val_acc: 0.1707\n",
            "Epoch 2/50\n",
            "25838/25838 [==============================] - 21s 797us/step - loss: 1.6196 - acc: 0.3719 - val_loss: 1.6983 - val_acc: 0.3420\n",
            "Epoch 3/50\n",
            "25838/25838 [==============================] - 21s 799us/step - loss: 1.5539 - acc: 0.3984 - val_loss: 1.6929 - val_acc: 0.3553\n",
            "Epoch 4/50\n",
            "25838/25838 [==============================] - 21s 801us/step - loss: 1.5100 - acc: 0.4149 - val_loss: 1.5674 - val_acc: 0.3950\n",
            "Epoch 5/50\n",
            "25838/25838 [==============================] - 21s 806us/step - loss: 1.4801 - acc: 0.4311 - val_loss: 1.8818 - val_acc: 0.2511\n",
            "Epoch 6/50\n",
            "25838/25838 [==============================] - 21s 799us/step - loss: 1.4542 - acc: 0.4390 - val_loss: 1.6616 - val_acc: 0.3734\n",
            "Epoch 7/50\n",
            "25838/25838 [==============================] - 21s 796us/step - loss: 1.4264 - acc: 0.4522 - val_loss: 2.2930 - val_acc: 0.2591\n",
            "Epoch 8/50\n",
            "25838/25838 [==============================] - 21s 797us/step - loss: 1.4085 - acc: 0.4579 - val_loss: 1.5780 - val_acc: 0.3964\n",
            "Epoch 9/50\n",
            "25838/25838 [==============================] - 21s 805us/step - loss: 1.3880 - acc: 0.4678 - val_loss: 1.7640 - val_acc: 0.3204\n",
            "Epoch 10/50\n",
            "25838/25838 [==============================] - 21s 798us/step - loss: 1.3721 - acc: 0.4753 - val_loss: 1.6625 - val_acc: 0.3863\n",
            "Epoch 11/50\n",
            "25838/25838 [==============================] - 21s 798us/step - loss: 1.3560 - acc: 0.4811 - val_loss: 1.9494 - val_acc: 0.3615\n",
            "Epoch 12/50\n",
            "25838/25838 [==============================] - 21s 804us/step - loss: 1.3392 - acc: 0.4893 - val_loss: 1.5443 - val_acc: 0.4162\n",
            "Epoch 13/50\n",
            "25838/25838 [==============================] - 21s 811us/step - loss: 1.3269 - acc: 0.4918 - val_loss: 1.6077 - val_acc: 0.3640\n",
            "Epoch 14/50\n",
            "25838/25838 [==============================] - 21s 817us/step - loss: 1.3123 - acc: 0.4950 - val_loss: 1.7589 - val_acc: 0.3769\n",
            "Epoch 15/50\n",
            "25838/25838 [==============================] - 21s 802us/step - loss: 1.2982 - acc: 0.5023 - val_loss: 1.8068 - val_acc: 0.2800\n",
            "Epoch 16/50\n",
            "25838/25838 [==============================] - 21s 802us/step - loss: 1.2878 - acc: 0.5091 - val_loss: 1.7019 - val_acc: 0.3448\n",
            "Epoch 17/50\n",
            "25838/25838 [==============================] - 21s 797us/step - loss: 1.2766 - acc: 0.5176 - val_loss: 1.5853 - val_acc: 0.4058\n",
            "Epoch 18/50\n",
            "25838/25838 [==============================] - 21s 805us/step - loss: 1.2613 - acc: 0.5211 - val_loss: 1.8221 - val_acc: 0.3093\n",
            "Epoch 19/50\n",
            "25838/25838 [==============================] - 21s 803us/step - loss: 1.2681 - acc: 0.5178 - val_loss: 1.5226 - val_acc: 0.4340\n",
            "Epoch 20/50\n",
            "25838/25838 [==============================] - 21s 798us/step - loss: 1.2402 - acc: 0.5256 - val_loss: 1.6570 - val_acc: 0.4173\n",
            "Epoch 21/50\n",
            "25838/25838 [==============================] - 21s 813us/step - loss: 1.2254 - acc: 0.5363 - val_loss: 1.5244 - val_acc: 0.4389\n",
            "Epoch 22/50\n",
            "25838/25838 [==============================] - 21s 806us/step - loss: 1.2112 - acc: 0.5421 - val_loss: 1.6944 - val_acc: 0.4061\n",
            "Epoch 23/50\n",
            "25838/25838 [==============================] - 21s 805us/step - loss: 1.2060 - acc: 0.5430 - val_loss: 1.6383 - val_acc: 0.4016\n",
            "Epoch 24/50\n",
            "25838/25838 [==============================] - 21s 805us/step - loss: 1.1908 - acc: 0.5464 - val_loss: 1.7412 - val_acc: 0.3804\n",
            "Epoch 25/50\n",
            "25838/25838 [==============================] - 21s 801us/step - loss: 1.2303 - acc: 0.5434 - val_loss: 1.7961 - val_acc: 0.3386\n",
            "Epoch 26/50\n",
            "25838/25838 [==============================] - 21s 804us/step - loss: 1.1867 - acc: 0.5515 - val_loss: 1.6699 - val_acc: 0.3915\n",
            "Epoch 27/50\n",
            "25838/25838 [==============================] - 21s 805us/step - loss: 1.1649 - acc: 0.5592 - val_loss: 1.7325 - val_acc: 0.3790\n",
            "Epoch 28/50\n",
            "25838/25838 [==============================] - 21s 802us/step - loss: 1.1512 - acc: 0.5631 - val_loss: 1.7318 - val_acc: 0.3814\n",
            "Epoch 29/50\n",
            "25838/25838 [==============================] - 21s 800us/step - loss: 1.1436 - acc: 0.5678 - val_loss: 1.6440 - val_acc: 0.4190\n",
            "Epoch 30/50\n",
            "25838/25838 [==============================] - 21s 800us/step - loss: 1.1345 - acc: 0.5700 - val_loss: 1.8347 - val_acc: 0.4274\n",
            "Epoch 31/50\n",
            "25838/25838 [==============================] - 21s 808us/step - loss: 1.1256 - acc: 0.5718 - val_loss: 1.8252 - val_acc: 0.3664\n",
            "Epoch 32/50\n",
            "25838/25838 [==============================] - 21s 806us/step - loss: 1.1199 - acc: 0.5786 - val_loss: 1.6244 - val_acc: 0.4107\n",
            "Epoch 33/50\n",
            "25838/25838 [==============================] - 21s 804us/step - loss: 1.1074 - acc: 0.5820 - val_loss: 1.7754 - val_acc: 0.3661\n",
            "Epoch 34/50\n",
            "25838/25838 [==============================] - 21s 804us/step - loss: 1.0996 - acc: 0.5862 - val_loss: 1.9102 - val_acc: 0.3483\n",
            "Epoch 35/50\n",
            "25838/25838 [==============================] - 21s 808us/step - loss: 1.0893 - acc: 0.5880 - val_loss: 2.2760 - val_acc: 0.3330\n",
            "Epoch 36/50\n",
            "25838/25838 [==============================] - 21s 809us/step - loss: 1.0792 - acc: 0.5904 - val_loss: 1.8380 - val_acc: 0.3800\n",
            "Epoch 37/50\n",
            "25838/25838 [==============================] - 21s 804us/step - loss: 1.0673 - acc: 0.5959 - val_loss: 1.7623 - val_acc: 0.3887\n",
            "Epoch 38/50\n",
            "25838/25838 [==============================] - 21s 804us/step - loss: 1.0608 - acc: 0.6028 - val_loss: 1.7986 - val_acc: 0.3748\n",
            "Epoch 39/50\n",
            "25838/25838 [==============================] - 21s 805us/step - loss: 1.0517 - acc: 0.6066 - val_loss: 1.7641 - val_acc: 0.4117\n",
            "Epoch 40/50\n",
            "25838/25838 [==============================] - 21s 807us/step - loss: 1.0454 - acc: 0.6045 - val_loss: 1.7445 - val_acc: 0.3866\n",
            "Epoch 41/50\n",
            "25838/25838 [==============================] - 21s 807us/step - loss: 1.0390 - acc: 0.6092 - val_loss: 1.7027 - val_acc: 0.4016\n",
            "Epoch 42/50\n",
            "25838/25838 [==============================] - 21s 802us/step - loss: 1.0210 - acc: 0.6152 - val_loss: 1.7148 - val_acc: 0.4047\n",
            "Epoch 43/50\n",
            "25838/25838 [==============================] - 21s 805us/step - loss: 1.0088 - acc: 0.6213 - val_loss: 1.8470 - val_acc: 0.3995\n",
            "Epoch 44/50\n",
            "25838/25838 [==============================] - 21s 807us/step - loss: 1.0066 - acc: 0.6238 - val_loss: 1.9234 - val_acc: 0.4009\n",
            "Epoch 45/50\n",
            "25838/25838 [==============================] - 21s 811us/step - loss: 0.9913 - acc: 0.6291 - val_loss: 2.1456 - val_acc: 0.3776\n",
            "Epoch 46/50\n",
            "25838/25838 [==============================] - 21s 808us/step - loss: 0.9824 - acc: 0.6315 - val_loss: 1.9231 - val_acc: 0.3800\n",
            "Epoch 47/50\n",
            "25838/25838 [==============================] - 21s 808us/step - loss: 0.9719 - acc: 0.6344 - val_loss: 2.4823 - val_acc: 0.3884\n",
            "Epoch 48/50\n",
            "25838/25838 [==============================] - 21s 804us/step - loss: 0.9634 - acc: 0.6368 - val_loss: 1.8000 - val_acc: 0.3891\n",
            "Epoch 49/50\n",
            "25838/25838 [==============================] - 21s 809us/step - loss: 0.9537 - acc: 0.6434 - val_loss: 1.7763 - val_acc: 0.4013\n",
            "Epoch 50/50\n",
            "25838/25838 [==============================] - 21s 809us/step - loss: 0.9454 - acc: 0.6508 - val_loss: 2.0860 - val_acc: 0.3347\n"
          ],
          "name": "stdout"
        }
      ]
    },
    {
      "metadata": {
        "colab_type": "code",
        "id": "yzFOIWNPmcRN",
        "outputId": "ba61505c-bb85-4f9f-a8ad-a9c15422ec5e",
        "colab": {
          "base_uri": "https://localhost:8080/",
          "height": 51
        }
      },
      "cell_type": "code",
      "source": [
        "resnet_modified_rms_32.evaluate(X_test,y_test)"
      ],
      "execution_count": 0,
      "outputs": [
        {
          "output_type": "stream",
          "text": [
            "7178/7178 [==============================] - 2s 236us/step\n"
          ],
          "name": "stdout"
        },
        {
          "output_type": "execute_result",
          "data": {
            "text/plain": [
              "[2.009080599197341, 0.34772917247559243]"
            ]
          },
          "metadata": {
            "tags": []
          },
          "execution_count": 108
        }
      ]
    },
    {
      "metadata": {
        "colab_type": "code",
        "outputId": "7a1b13bc-f36d-4a22-ac28-c387efafdff9",
        "id": "RtVK4zUTmcRO",
        "colab": {
          "base_uri": "https://localhost:8080/",
          "height": 136
        }
      },
      "cell_type": "code",
      "source": [
        "from sklearn.metrics import confusion_matrix\n",
        "\n",
        "resnet_modified_rms_32_preds = resnet_modified_rms_32.predict(X_test)\n",
        "confusion_matrix(y_test.argmax(axis=1), resnet_modified_rms_32_preds.argmax(axis=1))"
      ],
      "execution_count": 0,
      "outputs": [
        {
          "output_type": "execute_result",
          "data": {
            "text/plain": [
              "array([[318,  54, 149,  71, 123, 164,  79],\n",
              "       [ 24,  29,  20,   7,  11,  15,   5],\n",
              "       [162,  54, 239,  70, 137, 294,  68],\n",
              "       [211,  37, 211, 723, 184, 288, 120],\n",
              "       [232,  54, 193,  94, 300, 233, 141],\n",
              "       [ 48,  11,  84,  30,  24, 610,  24],\n",
              "       [195,  35, 171,  84, 176, 295, 277]])"
            ]
          },
          "metadata": {
            "tags": []
          },
          "execution_count": 109
        }
      ]
    },
    {
      "metadata": {
        "colab_type": "code",
        "id": "OieeMOdFmcRQ",
        "outputId": "0c46f060-d66a-45d9-b426-427e7b7f2022",
        "colab": {
          "base_uri": "https://localhost:8080/",
          "height": 255
        }
      },
      "cell_type": "code",
      "source": [
        "from sklearn.metrics import classification_report\n",
        "\n",
        "print(classification_report(y_test.argmax(axis=1), resnet_modified_rms_32_preds.argmax(axis=1)))"
      ],
      "execution_count": 0,
      "outputs": [
        {
          "output_type": "stream",
          "text": [
            "              precision    recall  f1-score   support\n",
            "\n",
            "           0       0.27      0.33      0.30       958\n",
            "           1       0.11      0.26      0.15       111\n",
            "           2       0.22      0.23      0.23      1024\n",
            "           3       0.67      0.41      0.51      1774\n",
            "           4       0.31      0.24      0.27      1247\n",
            "           5       0.32      0.73      0.45       831\n",
            "           6       0.39      0.22      0.28      1233\n",
            "\n",
            "   micro avg       0.35      0.35      0.35      7178\n",
            "   macro avg       0.33      0.35      0.31      7178\n",
            "weighted avg       0.39      0.35      0.35      7178\n",
            "\n"
          ],
          "name": "stdout"
        }
      ]
    },
    {
      "metadata": {
        "id": "gqV0rjWgYjdk",
        "colab_type": "text"
      },
      "cell_type": "markdown",
      "source": [
        "**Modified ResNet with RMSProp optimizer and batch size 64**"
      ]
    },
    {
      "metadata": {
        "colab_type": "code",
        "id": "UoMaYP-nOPvw",
        "colab": {}
      },
      "cell_type": "code",
      "source": [
        "resnet_modified_rms_64 = resnet_modified()\n",
        "resnet_modified_rms_64.compile(loss='categorical_crossentropy', optimizer='rmsprop', metrics=['accuracy'])"
      ],
      "execution_count": 0,
      "outputs": []
    },
    {
      "metadata": {
        "colab_type": "code",
        "id": "wdVXO7lHOPv1",
        "outputId": "3cd66705-b3a6-428e-8c34-00f2e0486146",
        "colab": {
          "base_uri": "https://localhost:8080/",
          "height": 1734
        }
      },
      "cell_type": "code",
      "source": [
        "history_resnet_modified_rms_64 = resnet_modified_rms_64.fit(X_train, y_train, batch_size=64, epochs=50, validation_data=(X_val, y_val))"
      ],
      "execution_count": 0,
      "outputs": [
        {
          "output_type": "stream",
          "text": [
            "Train on 25838 samples, validate on 2871 samples\n",
            "Epoch 1/50\n",
            "25838/25838 [==============================] - 23s 903us/step - loss: 1.9898 - acc: 0.2910 - val_loss: 2.0158 - val_acc: 0.2163\n",
            "Epoch 2/50\n",
            "25838/25838 [==============================] - 11s 426us/step - loss: 1.6454 - acc: 0.3671 - val_loss: 1.7816 - val_acc: 0.3020\n",
            "Epoch 3/50\n",
            "25838/25838 [==============================] - 11s 426us/step - loss: 1.5541 - acc: 0.3975 - val_loss: 1.9285 - val_acc: 0.2288\n",
            "Epoch 4/50\n",
            "25838/25838 [==============================] - 11s 426us/step - loss: 1.5089 - acc: 0.4152 - val_loss: 1.6133 - val_acc: 0.3762\n",
            "Epoch 5/50\n",
            "25838/25838 [==============================] - 11s 426us/step - loss: 1.4707 - acc: 0.4281 - val_loss: 1.6017 - val_acc: 0.3668\n",
            "Epoch 6/50\n",
            "25838/25838 [==============================] - 11s 427us/step - loss: 1.4400 - acc: 0.4448 - val_loss: 1.6177 - val_acc: 0.3692\n",
            "Epoch 7/50\n",
            "25838/25838 [==============================] - 11s 425us/step - loss: 1.4156 - acc: 0.4585 - val_loss: 1.6381 - val_acc: 0.3626\n",
            "Epoch 8/50\n",
            "25838/25838 [==============================] - 11s 421us/step - loss: 1.3903 - acc: 0.4662 - val_loss: 1.6528 - val_acc: 0.3894\n",
            "Epoch 9/50\n",
            "25838/25838 [==============================] - 11s 416us/step - loss: 1.3666 - acc: 0.4762 - val_loss: 1.5682 - val_acc: 0.3901\n",
            "Epoch 10/50\n",
            "25838/25838 [==============================] - 11s 418us/step - loss: 1.3449 - acc: 0.4835 - val_loss: 1.6835 - val_acc: 0.3615\n",
            "Epoch 11/50\n",
            "25838/25838 [==============================] - 11s 416us/step - loss: 1.3234 - acc: 0.4944 - val_loss: 1.5787 - val_acc: 0.4201\n",
            "Epoch 12/50\n",
            "25838/25838 [==============================] - 11s 418us/step - loss: 1.3047 - acc: 0.5022 - val_loss: 1.6213 - val_acc: 0.3859\n",
            "Epoch 13/50\n",
            "25838/25838 [==============================] - 11s 420us/step - loss: 1.2839 - acc: 0.5113 - val_loss: 1.7295 - val_acc: 0.3340\n",
            "Epoch 14/50\n",
            "25838/25838 [==============================] - 11s 420us/step - loss: 1.2647 - acc: 0.5167 - val_loss: 1.8746 - val_acc: 0.3577\n",
            "Epoch 15/50\n",
            "25838/25838 [==============================] - 11s 420us/step - loss: 1.2451 - acc: 0.5285 - val_loss: 1.6736 - val_acc: 0.3922\n",
            "Epoch 16/50\n",
            "25838/25838 [==============================] - 11s 418us/step - loss: 1.2243 - acc: 0.5363 - val_loss: 1.7383 - val_acc: 0.3894\n",
            "Epoch 17/50\n",
            "25838/25838 [==============================] - 11s 420us/step - loss: 1.2078 - acc: 0.5448 - val_loss: 1.6124 - val_acc: 0.3863\n",
            "Epoch 18/50\n",
            "25838/25838 [==============================] - 11s 419us/step - loss: 1.1850 - acc: 0.5522 - val_loss: 1.6046 - val_acc: 0.4190\n",
            "Epoch 19/50\n",
            "25838/25838 [==============================] - 11s 417us/step - loss: 1.1627 - acc: 0.5587 - val_loss: 1.6892 - val_acc: 0.3957\n",
            "Epoch 20/50\n",
            "25838/25838 [==============================] - 11s 417us/step - loss: 1.1436 - acc: 0.5696 - val_loss: 1.8993 - val_acc: 0.3480\n",
            "Epoch 21/50\n",
            "25838/25838 [==============================] - 11s 422us/step - loss: 1.1268 - acc: 0.5736 - val_loss: 1.6862 - val_acc: 0.4006\n",
            "Epoch 22/50\n",
            "25838/25838 [==============================] - 11s 419us/step - loss: 1.1073 - acc: 0.5848 - val_loss: 1.7412 - val_acc: 0.4222\n",
            "Epoch 23/50\n",
            "25838/25838 [==============================] - 11s 419us/step - loss: 1.0835 - acc: 0.5939 - val_loss: 1.7505 - val_acc: 0.3953\n",
            "Epoch 24/50\n",
            "25838/25838 [==============================] - 11s 420us/step - loss: 1.0641 - acc: 0.6004 - val_loss: 2.0126 - val_acc: 0.3354\n",
            "Epoch 25/50\n",
            "25838/25838 [==============================] - 11s 419us/step - loss: 1.0452 - acc: 0.6068 - val_loss: 1.7588 - val_acc: 0.4009\n",
            "Epoch 26/50\n",
            "25838/25838 [==============================] - 11s 419us/step - loss: 1.0235 - acc: 0.6140 - val_loss: 2.0741 - val_acc: 0.3149\n",
            "Epoch 27/50\n",
            "25838/25838 [==============================] - 11s 417us/step - loss: 1.0017 - acc: 0.6261 - val_loss: 1.8719 - val_acc: 0.3932\n",
            "Epoch 28/50\n",
            "25838/25838 [==============================] - 11s 417us/step - loss: 0.9840 - acc: 0.6321 - val_loss: 1.9135 - val_acc: 0.4093\n",
            "Epoch 29/50\n",
            "25838/25838 [==============================] - 11s 417us/step - loss: 0.9651 - acc: 0.6391 - val_loss: 1.9130 - val_acc: 0.4026\n",
            "Epoch 30/50\n",
            "25838/25838 [==============================] - 11s 420us/step - loss: 0.9492 - acc: 0.6481 - val_loss: 2.1953 - val_acc: 0.3285\n",
            "Epoch 31/50\n",
            "25838/25838 [==============================] - 11s 421us/step - loss: 0.9298 - acc: 0.6538 - val_loss: 2.3172 - val_acc: 0.3149\n",
            "Epoch 32/50\n",
            "25838/25838 [==============================] - 11s 420us/step - loss: 0.9120 - acc: 0.6584 - val_loss: 1.9234 - val_acc: 0.3978\n",
            "Epoch 33/50\n",
            "25838/25838 [==============================] - 11s 419us/step - loss: 0.8861 - acc: 0.6677 - val_loss: 1.9473 - val_acc: 0.3838\n",
            "Epoch 34/50\n",
            "25838/25838 [==============================] - 11s 418us/step - loss: 0.8700 - acc: 0.6757 - val_loss: 2.2137 - val_acc: 0.4047\n",
            "Epoch 35/50\n",
            "25838/25838 [==============================] - 11s 415us/step - loss: 0.8528 - acc: 0.6815 - val_loss: 2.0512 - val_acc: 0.4068\n",
            "Epoch 36/50\n",
            "25838/25838 [==============================] - 11s 418us/step - loss: 0.8281 - acc: 0.6891 - val_loss: 2.1090 - val_acc: 0.3821\n",
            "Epoch 37/50\n",
            "25838/25838 [==============================] - 11s 418us/step - loss: 0.8175 - acc: 0.6949 - val_loss: 2.2502 - val_acc: 0.4020\n",
            "Epoch 38/50\n",
            "25838/25838 [==============================] - 11s 418us/step - loss: 0.7966 - acc: 0.7050 - val_loss: 2.1581 - val_acc: 0.3852\n",
            "Epoch 39/50\n",
            "25838/25838 [==============================] - 11s 421us/step - loss: 0.7754 - acc: 0.7129 - val_loss: 2.2537 - val_acc: 0.3720\n",
            "Epoch 40/50\n",
            "25838/25838 [==============================] - 11s 421us/step - loss: 0.7571 - acc: 0.7218 - val_loss: 2.0980 - val_acc: 0.3946\n",
            "Epoch 41/50\n",
            "25838/25838 [==============================] - 11s 417us/step - loss: 0.7416 - acc: 0.7209 - val_loss: 2.2143 - val_acc: 0.4145\n",
            "Epoch 42/50\n",
            "25838/25838 [==============================] - 11s 421us/step - loss: 0.7264 - acc: 0.7297 - val_loss: 2.7312 - val_acc: 0.3776\n",
            "Epoch 43/50\n",
            "25838/25838 [==============================] - 11s 419us/step - loss: 0.7120 - acc: 0.7385 - val_loss: 2.2072 - val_acc: 0.3974\n",
            "Epoch 44/50\n",
            "25838/25838 [==============================] - 11s 418us/step - loss: 0.6896 - acc: 0.7434 - val_loss: 2.2201 - val_acc: 0.3971\n",
            "Epoch 45/50\n",
            "25838/25838 [==============================] - 11s 418us/step - loss: 0.6795 - acc: 0.7477 - val_loss: 2.4664 - val_acc: 0.3734\n",
            "Epoch 46/50\n",
            "25838/25838 [==============================] - 11s 418us/step - loss: 0.6633 - acc: 0.7532 - val_loss: 2.3570 - val_acc: 0.4061\n",
            "Epoch 47/50\n",
            "25838/25838 [==============================] - 11s 415us/step - loss: 0.6493 - acc: 0.7589 - val_loss: 2.4348 - val_acc: 0.3999\n",
            "Epoch 48/50\n",
            "25838/25838 [==============================] - 11s 419us/step - loss: 0.6310 - acc: 0.7653 - val_loss: 2.6745 - val_acc: 0.4117\n",
            "Epoch 49/50\n",
            "25838/25838 [==============================] - 11s 419us/step - loss: 0.6188 - acc: 0.7717 - val_loss: 2.6089 - val_acc: 0.3999\n",
            "Epoch 50/50\n",
            "25838/25838 [==============================] - 11s 419us/step - loss: 0.6088 - acc: 0.7756 - val_loss: 2.5492 - val_acc: 0.3887\n"
          ],
          "name": "stdout"
        }
      ]
    },
    {
      "metadata": {
        "colab_type": "code",
        "id": "iXzl_Wpol_8o",
        "outputId": "49b79287-088e-4095-95ba-368043138d2c",
        "colab": {
          "base_uri": "https://localhost:8080/",
          "height": 51
        }
      },
      "cell_type": "code",
      "source": [
        "resnet_modified_rms_64.evaluate(X_test,y_test)"
      ],
      "execution_count": 0,
      "outputs": [
        {
          "output_type": "stream",
          "text": [
            "7178/7178 [==============================] - 2s 219us/step\n"
          ],
          "name": "stdout"
        },
        {
          "output_type": "execute_result",
          "data": {
            "text/plain": [
              "[2.378287508548153, 0.4109779883017278]"
            ]
          },
          "metadata": {
            "tags": []
          },
          "execution_count": 113
        }
      ]
    },
    {
      "metadata": {
        "colab_type": "code",
        "outputId": "860a52c9-de9d-444d-f2c1-76e2ce0e0be5",
        "id": "8n_m_wOml_8q",
        "colab": {
          "base_uri": "https://localhost:8080/",
          "height": 136
        }
      },
      "cell_type": "code",
      "source": [
        "from sklearn.metrics import confusion_matrix\n",
        "\n",
        "resnet_modified_rms_64_preds = resnet_modified_rms_64.predict(X_test)\n",
        "confusion_matrix(y_test.argmax(axis=1), resnet_modified_rms_64_preds.argmax(axis=1))"
      ],
      "execution_count": 0,
      "outputs": [
        {
          "output_type": "execute_result",
          "data": {
            "text/plain": [
              "array([[227,   4, 123, 121, 168, 122, 193],\n",
              "       [ 17,  17,  16,  16,  22,  12,  11],\n",
              "       [ 95,   3, 257, 119, 192, 204, 154],\n",
              "       [102,   4, 123, 996, 199, 140, 210],\n",
              "       [133,   7, 143, 172, 401, 131, 260],\n",
              "       [ 31,   3,  69,  48,  40, 587,  53],\n",
              "       [108,   3, 111, 169, 232, 145, 465]])"
            ]
          },
          "metadata": {
            "tags": []
          },
          "execution_count": 114
        }
      ]
    },
    {
      "metadata": {
        "colab_type": "code",
        "id": "F94F0t4Gl_8s",
        "outputId": "fa6d6603-cba2-43ba-d596-5cbec81f36c0",
        "colab": {
          "base_uri": "https://localhost:8080/",
          "height": 255
        }
      },
      "cell_type": "code",
      "source": [
        "from sklearn.metrics import classification_report\n",
        "\n",
        "print(classification_report(y_test.argmax(axis=1), resnet_modified_rms_64_preds.argmax(axis=1)))"
      ],
      "execution_count": 0,
      "outputs": [
        {
          "output_type": "stream",
          "text": [
            "              precision    recall  f1-score   support\n",
            "\n",
            "           0       0.32      0.24      0.27       958\n",
            "           1       0.41      0.15      0.22       111\n",
            "           2       0.31      0.25      0.28      1024\n",
            "           3       0.61      0.56      0.58      1774\n",
            "           4       0.32      0.32      0.32      1247\n",
            "           5       0.44      0.71      0.54       831\n",
            "           6       0.35      0.38      0.36      1233\n",
            "\n",
            "   micro avg       0.41      0.41      0.41      7178\n",
            "   macro avg       0.39      0.37      0.37      7178\n",
            "weighted avg       0.41      0.41      0.40      7178\n",
            "\n"
          ],
          "name": "stdout"
        }
      ]
    },
    {
      "metadata": {
        "id": "Mk9OCpBtmMY_",
        "colab_type": "text"
      },
      "cell_type": "markdown",
      "source": [
        "**Modified ResNet with RMSProp optimizer and batch size 128**"
      ]
    },
    {
      "metadata": {
        "colab_type": "code",
        "id": "SrIrnirCOPv6",
        "colab": {}
      },
      "cell_type": "code",
      "source": [
        "resnet_modified_rms_128 = resnet_modified()\n",
        "resnet_modified_rms_128.compile(loss='categorical_crossentropy', optimizer='rmsprop', metrics=['accuracy'])"
      ],
      "execution_count": 0,
      "outputs": []
    },
    {
      "metadata": {
        "colab_type": "code",
        "id": "duxT81bwOPwB",
        "outputId": "5edac8dc-80e4-49f8-c601-473b398151cf",
        "colab": {
          "base_uri": "https://localhost:8080/",
          "height": 1734
        }
      },
      "cell_type": "code",
      "source": [
        "history_resnet_modified_rms_128 = resnet_modified_rms_128.fit(X_train, y_train, batch_size=128, epochs=50, validation_data=(X_val, y_val))"
      ],
      "execution_count": 0,
      "outputs": [
        {
          "output_type": "stream",
          "text": [
            "Train on 25838 samples, validate on 2871 samples\n",
            "Epoch 1/50\n",
            "25838/25838 [==============================] - 19s 748us/step - loss: 2.0837 - acc: 0.2853 - val_loss: 2.6102 - val_acc: 0.2637\n",
            "Epoch 2/50\n",
            "25838/25838 [==============================] - 6s 251us/step - loss: 1.6749 - acc: 0.3551 - val_loss: 1.8477 - val_acc: 0.2849\n",
            "Epoch 3/50\n",
            "25838/25838 [==============================] - 7s 253us/step - loss: 1.5769 - acc: 0.3899 - val_loss: 1.7602 - val_acc: 0.3229\n",
            "Epoch 4/50\n",
            "25838/25838 [==============================] - 7s 253us/step - loss: 1.5141 - acc: 0.4149 - val_loss: 1.8272 - val_acc: 0.2644\n",
            "Epoch 5/50\n",
            "25838/25838 [==============================] - 7s 253us/step - loss: 1.4730 - acc: 0.4297 - val_loss: 1.8301 - val_acc: 0.2957\n",
            "Epoch 6/50\n",
            "25838/25838 [==============================] - 7s 254us/step - loss: 1.4383 - acc: 0.4402 - val_loss: 1.6043 - val_acc: 0.3932\n",
            "Epoch 7/50\n",
            "25838/25838 [==============================] - 7s 256us/step - loss: 1.4072 - acc: 0.4548 - val_loss: 1.7791 - val_acc: 0.3020\n",
            "Epoch 8/50\n",
            "25838/25838 [==============================] - 7s 256us/step - loss: 1.3748 - acc: 0.4765 - val_loss: 1.8920 - val_acc: 0.2915\n",
            "Epoch 9/50\n",
            "25838/25838 [==============================] - 7s 253us/step - loss: 1.3495 - acc: 0.4815 - val_loss: 1.5891 - val_acc: 0.4131\n",
            "Epoch 10/50\n",
            "25838/25838 [==============================] - 7s 254us/step - loss: 1.3224 - acc: 0.4934 - val_loss: 1.6987 - val_acc: 0.3664\n",
            "Epoch 11/50\n",
            "25838/25838 [==============================] - 7s 254us/step - loss: 1.2944 - acc: 0.5042 - val_loss: 1.7337 - val_acc: 0.3640\n",
            "Epoch 12/50\n",
            "25838/25838 [==============================] - 7s 254us/step - loss: 1.2693 - acc: 0.5150 - val_loss: 1.5891 - val_acc: 0.3929\n",
            "Epoch 13/50\n",
            "25838/25838 [==============================] - 7s 253us/step - loss: 1.2435 - acc: 0.5260 - val_loss: 1.5462 - val_acc: 0.4089\n",
            "Epoch 14/50\n",
            "25838/25838 [==============================] - 6s 251us/step - loss: 1.2153 - acc: 0.5363 - val_loss: 1.8079 - val_acc: 0.3633\n",
            "Epoch 15/50\n",
            "25838/25838 [==============================] - 7s 252us/step - loss: 1.1958 - acc: 0.5478 - val_loss: 1.5943 - val_acc: 0.4020\n",
            "Epoch 16/50\n",
            "25838/25838 [==============================] - 7s 252us/step - loss: 1.1639 - acc: 0.5577 - val_loss: 1.9920 - val_acc: 0.3351\n",
            "Epoch 17/50\n",
            "25838/25838 [==============================] - 7s 253us/step - loss: 1.1427 - acc: 0.5653 - val_loss: 1.8521 - val_acc: 0.3811\n",
            "Epoch 18/50\n",
            "25838/25838 [==============================] - 7s 253us/step - loss: 1.1134 - acc: 0.5847 - val_loss: 1.8446 - val_acc: 0.3629\n",
            "Epoch 19/50\n",
            "25838/25838 [==============================] - 7s 252us/step - loss: 1.0879 - acc: 0.5915 - val_loss: 1.8676 - val_acc: 0.3995\n",
            "Epoch 20/50\n",
            "25838/25838 [==============================] - 7s 252us/step - loss: 1.0633 - acc: 0.5987 - val_loss: 1.8699 - val_acc: 0.3528\n",
            "Epoch 21/50\n",
            "25838/25838 [==============================] - 6s 251us/step - loss: 1.0379 - acc: 0.6095 - val_loss: 1.9992 - val_acc: 0.3393\n",
            "Epoch 22/50\n",
            "25838/25838 [==============================] - 7s 253us/step - loss: 1.0100 - acc: 0.6240 - val_loss: 1.8296 - val_acc: 0.3786\n",
            "Epoch 23/50\n",
            "25838/25838 [==============================] - 7s 252us/step - loss: 0.9851 - acc: 0.6305 - val_loss: 2.0085 - val_acc: 0.3173\n",
            "Epoch 24/50\n",
            "25838/25838 [==============================] - 7s 252us/step - loss: 0.9596 - acc: 0.6430 - val_loss: 1.8315 - val_acc: 0.3877\n",
            "Epoch 25/50\n",
            "25838/25838 [==============================] - 7s 252us/step - loss: 0.9330 - acc: 0.6511 - val_loss: 1.9081 - val_acc: 0.3772\n",
            "Epoch 26/50\n",
            "25838/25838 [==============================] - 7s 252us/step - loss: 0.9046 - acc: 0.6623 - val_loss: 1.8300 - val_acc: 0.4173\n",
            "Epoch 27/50\n",
            "25838/25838 [==============================] - 7s 252us/step - loss: 0.8792 - acc: 0.6723 - val_loss: 1.9531 - val_acc: 0.3800\n",
            "Epoch 28/50\n",
            "25838/25838 [==============================] - 7s 252us/step - loss: 0.8566 - acc: 0.6836 - val_loss: 1.9305 - val_acc: 0.3915\n",
            "Epoch 29/50\n",
            "25838/25838 [==============================] - 7s 254us/step - loss: 0.8330 - acc: 0.6877 - val_loss: 1.9935 - val_acc: 0.3807\n",
            "Epoch 30/50\n",
            "25838/25838 [==============================] - 7s 252us/step - loss: 0.8050 - acc: 0.6995 - val_loss: 2.1058 - val_acc: 0.3779\n",
            "Epoch 31/50\n",
            "25838/25838 [==============================] - 7s 252us/step - loss: 0.7853 - acc: 0.7103 - val_loss: 2.0797 - val_acc: 0.4051\n",
            "Epoch 32/50\n",
            "25838/25838 [==============================] - 7s 253us/step - loss: 0.7585 - acc: 0.7210 - val_loss: 2.0389 - val_acc: 0.4016\n",
            "Epoch 33/50\n",
            "25838/25838 [==============================] - 7s 252us/step - loss: 0.7394 - acc: 0.7262 - val_loss: 2.2764 - val_acc: 0.3744\n",
            "Epoch 34/50\n",
            "25838/25838 [==============================] - 7s 252us/step - loss: 0.7147 - acc: 0.7368 - val_loss: 2.3471 - val_acc: 0.3831\n",
            "Epoch 35/50\n",
            "25838/25838 [==============================] - 7s 253us/step - loss: 0.6882 - acc: 0.7446 - val_loss: 2.2846 - val_acc: 0.3821\n",
            "Epoch 36/50\n",
            "25838/25838 [==============================] - 7s 252us/step - loss: 0.6740 - acc: 0.7513 - val_loss: 2.4318 - val_acc: 0.3932\n",
            "Epoch 37/50\n",
            "25838/25838 [==============================] - 6s 252us/step - loss: 0.6526 - acc: 0.7593 - val_loss: 2.6141 - val_acc: 0.3814\n",
            "Epoch 38/50\n",
            "25838/25838 [==============================] - 7s 253us/step - loss: 0.6326 - acc: 0.7654 - val_loss: 2.2617 - val_acc: 0.4033\n",
            "Epoch 39/50\n",
            "25838/25838 [==============================] - 7s 252us/step - loss: 0.6146 - acc: 0.7742 - val_loss: 2.3028 - val_acc: 0.4225\n",
            "Epoch 40/50\n",
            "25838/25838 [==============================] - 7s 253us/step - loss: 0.5999 - acc: 0.7786 - val_loss: 2.5434 - val_acc: 0.4002\n",
            "Epoch 41/50\n",
            "25838/25838 [==============================] - 6s 252us/step - loss: 0.5793 - acc: 0.7859 - val_loss: 2.6481 - val_acc: 0.3518\n",
            "Epoch 42/50\n",
            "25838/25838 [==============================] - 6s 252us/step - loss: 0.5579 - acc: 0.7926 - val_loss: 2.7989 - val_acc: 0.3971\n",
            "Epoch 43/50\n",
            "25838/25838 [==============================] - 7s 252us/step - loss: 0.5468 - acc: 0.7988 - val_loss: 2.5572 - val_acc: 0.3727\n",
            "Epoch 44/50\n",
            "25838/25838 [==============================] - 7s 252us/step - loss: 0.5288 - acc: 0.8022 - val_loss: 2.6980 - val_acc: 0.3936\n",
            "Epoch 45/50\n",
            "25838/25838 [==============================] - 7s 252us/step - loss: 0.5080 - acc: 0.8123 - val_loss: 2.4692 - val_acc: 0.3992\n",
            "Epoch 46/50\n",
            "25838/25838 [==============================] - 7s 252us/step - loss: 0.5049 - acc: 0.8134 - val_loss: 2.7511 - val_acc: 0.3636\n",
            "Epoch 47/50\n",
            "25838/25838 [==============================] - 7s 253us/step - loss: 0.4839 - acc: 0.8214 - val_loss: 2.8488 - val_acc: 0.3943\n",
            "Epoch 48/50\n",
            "25838/25838 [==============================] - 7s 253us/step - loss: 0.4712 - acc: 0.8241 - val_loss: 2.8818 - val_acc: 0.3734\n",
            "Epoch 49/50\n",
            "25838/25838 [==============================] - 7s 252us/step - loss: 0.4576 - acc: 0.8307 - val_loss: 2.8718 - val_acc: 0.3689\n",
            "Epoch 50/50\n",
            "25838/25838 [==============================] - 6s 252us/step - loss: 0.4525 - acc: 0.8332 - val_loss: 3.0280 - val_acc: 0.3835\n"
          ],
          "name": "stdout"
        }
      ]
    },
    {
      "metadata": {
        "id": "2a8j1Mfjlvg9",
        "colab_type": "code",
        "outputId": "c543784c-0f23-44c2-804d-bbfbfd2ebc15",
        "colab": {
          "base_uri": "https://localhost:8080/",
          "height": 51
        }
      },
      "cell_type": "code",
      "source": [
        "resnet_modified_rms_128.evaluate(X_test,y_test)"
      ],
      "execution_count": 0,
      "outputs": [
        {
          "output_type": "stream",
          "text": [
            "7178/7178 [==============================] - 2s 211us/step\n"
          ],
          "name": "stdout"
        },
        {
          "output_type": "execute_result",
          "data": {
            "text/plain": [
              "[2.9037690250346775, 0.4027584285399282]"
            ]
          },
          "metadata": {
            "tags": []
          },
          "execution_count": 119
        }
      ]
    },
    {
      "metadata": {
        "colab_type": "code",
        "outputId": "aae55555-f9f4-430d-9f52-e031ad830ad0",
        "id": "wCgiRdeulv7K",
        "colab": {
          "base_uri": "https://localhost:8080/",
          "height": 136
        }
      },
      "cell_type": "code",
      "source": [
        "from sklearn.metrics import confusion_matrix\n",
        "\n",
        "resnet_modified_rms_128_preds = resnet_modified_rms_128.predict(X_test)\n",
        "confusion_matrix(y_test.argmax(axis=1), resnet_modified_rms_128_preds.argmax(axis=1))"
      ],
      "execution_count": 0,
      "outputs": [
        {
          "output_type": "execute_result",
          "data": {
            "text/plain": [
              "array([[ 400,   14,  136,  167,  101,   61,   79],\n",
              "       [  31,   24,   16,   16,   11,    7,    6],\n",
              "       [ 239,    4,  292,  148,  106,  139,   96],\n",
              "       [ 234,    6,  134, 1070,  109,  103,  118],\n",
              "       [ 305,   10,  181,  240,  279,   83,  149],\n",
              "       [  89,    1,   95,   67,   23,  507,   49],\n",
              "       [ 260,   13,  153,  253,  135,  100,  319]])"
            ]
          },
          "metadata": {
            "tags": []
          },
          "execution_count": 120
        }
      ]
    },
    {
      "metadata": {
        "colab_type": "code",
        "id": "b8SchFBPlv7N",
        "outputId": "db912843-87ee-49f4-c81e-ed122b4129df",
        "colab": {
          "base_uri": "https://localhost:8080/",
          "height": 255
        }
      },
      "cell_type": "code",
      "source": [
        "from sklearn.metrics import classification_report\n",
        "\n",
        "print(classification_report(y_test.argmax(axis=1), resnet_modified_rms_128_preds.argmax(axis=1)))"
      ],
      "execution_count": 0,
      "outputs": [
        {
          "output_type": "stream",
          "text": [
            "              precision    recall  f1-score   support\n",
            "\n",
            "           0       0.26      0.42      0.32       958\n",
            "           1       0.33      0.22      0.26       111\n",
            "           2       0.29      0.29      0.29      1024\n",
            "           3       0.55      0.60      0.57      1774\n",
            "           4       0.37      0.22      0.28      1247\n",
            "           5       0.51      0.61      0.55       831\n",
            "           6       0.39      0.26      0.31      1233\n",
            "\n",
            "   micro avg       0.40      0.40      0.40      7178\n",
            "   macro avg       0.38      0.37      0.37      7178\n",
            "weighted avg       0.40      0.40      0.39      7178\n",
            "\n"
          ],
          "name": "stdout"
        }
      ]
    },
    {
      "metadata": {
        "id": "6I7mJPdyML86",
        "colab_type": "code",
        "outputId": "af0dce3d-e066-43d0-fe84-ad49b447eb1f",
        "colab": {
          "base_uri": "https://localhost:8080/",
          "height": 1081
        }
      },
      "cell_type": "code",
      "source": [
        "import matplotlib.pyplot as plt\n",
        "\n",
        "resnet_adam_histories = [history_resnet_modified_adam_32, history_resnet_modified_adam_64, history_resnet_modified_adam_128]\n",
        "resnet_rms_histories = [history_resnet_modified_rms_32, history_resnet_modified_rms_64, history_resnet_modified_rms_128]\n",
        "labels_adam = [\"Adam 32\", \"Adam 64\", \"Adam 128\"]\n",
        "labels_rms = [\"RMS 32\", \"RMS 64\", \"RMS 128\"]\n",
        "plot(resnet_adam_histories, labels_adam, \"loss\")\n",
        "plot(resnet_adam_histories, labels_adam, \"accuracy\")\n",
        "plot(resnet_rms_histories, labels_rms, \"loss\")\n",
        "plot(resnet_rms_histories, labels_rms, \"accuracy\")"
      ],
      "execution_count": 0,
      "outputs": [
        {
          "output_type": "display_data",
          "data": {
            "image/png": "[encoded data removed]",
            "text/plain": [
              "<Figure size 432x288 with 1 Axes>"
            ]
          },
          "metadata": {
            "tags": []
          }
        },
        {
          "output_type": "display_data",
          "data": {
            "image/png": "[encoded data removed]",
            "text/plain": [
              "<Figure size 432x288 with 1 Axes>"
            ]
          },
          "metadata": {
            "tags": []
          }
        },
        {
          "output_type": "display_data",
          "data": {
            "image/png": "[encoded data removed]",
            "text/plain": [
              "<Figure size 432x288 with 1 Axes>"
            ]
          },
          "metadata": {
            "tags": []
          }
        },
        {
          "output_type": "display_data",
          "data": {
            "image/png": "[encoded data removed]",
            "text/plain": [
              "<Figure size 432x288 with 1 Axes>"
            ]
          },
          "metadata": {
            "tags": []
          }
        }
      ]
    },
    {
      "metadata": {
        "id": "cGnn7GEZqKij",
        "colab_type": "text"
      },
      "cell_type": "markdown",
      "source": [
        "# Our Model "
      ]
    },
    {
      "metadata": {
        "id": "WmDDR8WUZC13",
        "colab_type": "text"
      },
      "cell_type": "markdown",
      "source": [
        "**This model was inspired by the the VGG block architeture. We implemented VGG11 style, but addewd batch normalization after each layer and increased the filter shape by an increasing odd number (3x3), (5x5), and (7x7). In addition we added an attention component, which emphasizes certain pixels of the image in which the model will make predictions off of more. **"
      ]
    },
    {
      "metadata": {
        "id": "pWG1WfpZSqbW",
        "colab_type": "code",
        "colab": {
          "base_uri": "https://localhost:8080/",
          "height": 34
        },
        "outputId": "47b7e7bf-3e3c-42d7-ff2d-0366062bb6c4"
      },
      "cell_type": "code",
      "source": [
        "from keras.layers import Dense, Dropout,  Conv2D, Input, Lambda, Flatten, TimeDistributed\n",
        "from keras.layers import Add, Reshape, MaxPooling2D, Concatenate, Embedding, RepeatVector, Dot, Softmax, BatchNormalization\n",
        "from keras.models import Model\n",
        "from keras import backend as K\n",
        "\n",
        "import numpy as np\n",
        "from keras.datasets import mnist\n",
        "from keras.models import Sequential\n",
        "from keras.layers.core import Dense, Dropout, Activation\n",
        "from keras.utils import np_utils\n",
        "from keras.engine.topology import Layer\n",
        "import tensorflow as tf\n",
        "from keras.callbacks import TensorBoard\n",
        "\n",
        "\n",
        "def self_model(attn):\n",
        "  \n",
        "  inp = Input(shape = (48,48,1))\n",
        "\n",
        "  # Convolution Block 1\n",
        "  x = (Conv2D(64, (3,3), activation='relu', padding='same'))(inp)\n",
        "  x = (BatchNormalization())(x)\n",
        "  x = (Conv2D(64, (3,3), activation='relu', padding='same'))(x)\n",
        "  x = (BatchNormalization())(x)\n",
        "  x = (MaxPooling2D(pool_size=(2,2), strides=(2,2)))(x)\n",
        "\n",
        "  # Convolution Block 2\n",
        "  x = (Conv2D(128, (3,3), activation='relu', padding='same'))(x)\n",
        "  x = (BatchNormalization())(x)\n",
        "  x = (Conv2D(128, (3,3), activation='relu', padding='same'))(x)\n",
        "  x = (BatchNormalization())(x)\n",
        "  x = (MaxPooling2D(pool_size=(2, 2), strides=(2, 2)))(x)\n",
        "\n",
        "\n",
        "  # Conv Block 3\n",
        "  x = (Conv2D(512, (5,5), activation='relu', padding='same'))(x)\n",
        "  x = (BatchNormalization())(x)\n",
        "  x = (Conv2D(512, (5,5), activation='relu', padding='same'))(x)\n",
        "  x = (BatchNormalization())(x)\n",
        "  x = (MaxPooling2D(pool_size=(2, 2), strides=(2, 2)))(x)\n",
        "\n",
        "  # Conv Block 4\n",
        "  x = (Conv2D(512, (7,7), activation='relu', padding='same'))(x)\n",
        "  x = (BatchNormalization())(x)\n",
        "  x = (Conv2D(512, (7,7), activation='relu', padding='same'))(x)\n",
        "  x = (BatchNormalization())(x)\n",
        "  x = (MaxPooling2D(pool_size=(2, 2), strides=(2, 2)))(x)\n",
        " \n",
        "  # Add attention\n",
        "  if(attn):\n",
        "    x = Reshape([3*3,64*8])(x) \n",
        "    x2 = Dense(64*8, activation = \"relu\")(x)\n",
        "    x2 = Reshape([9, 8, 64])(x2)\n",
        "    \n",
        "   \n",
        "    att = Lambda(lambda z: K.batch_dot(z[0],z[1] ,axes=[-1,-1]) / np.sqrt(64),\n",
        "                 output_shape=(9, 8, 8))([x2,x2])\n",
        "    att = Lambda(lambda z:  K.softmax(z) , output_shape=(9, 8, 8))(att)\n",
        "\n",
        "    \n",
        "    out = Lambda(lambda z: K.batch_dot(z[0], z[1],axes=[4,3]),  output_shape=(9, 8, 64))([att, x2])\n",
        "    out = Reshape([9, 64*8])(out)\n",
        "    \n",
        "    out = Add()([out, x])\n",
        "\n",
        "    out = Dense(32, activation = \"relu\")(out)\n",
        "    x = out\n",
        "    x = Reshape([3,3,32])(x)   \n",
        "    x = (BatchNormalization())(x)\n",
        "\n",
        "\n",
        "  # FC layers\n",
        "  x =  (Flatten())(x)\n",
        "  x =  (Dense(2048, activation='relu'))(x)\n",
        "  x =  (Dense(2048, activation='relu'))(x)\n",
        "  x =  (Dense(7, activation='softmax'))(x)\n",
        "\n",
        "  return Model(inputs=inp, outputs=x)"
      ],
      "execution_count": 1,
      "outputs": [
        {
          "output_type": "stream",
          "text": [
            "Using TensorFlow backend.\n"
          ],
          "name": "stderr"
        }
      ]
    },
    {
      "metadata": {
        "id": "XHvhC1uZNAYd",
        "colab_type": "code",
        "outputId": "07b4b51f-1ccb-469c-a0db-958ad10d9ea7",
        "colab": {
          "base_uri": "https://localhost:8080/",
          "height": 88
        }
      },
      "cell_type": "code",
      "source": [
        "our_model_attn = self_model(True)\n",
        "our_model_attn.compile(loss='categorical_crossentropy', optimizer='adam',metrics=['accuracy'])"
      ],
      "execution_count": 2,
      "outputs": [
        {
          "output_type": "stream",
          "text": [
            "WARNING:tensorflow:From /usr/local/lib/python3.6/dist-packages/tensorflow/python/framework/op_def_library.py:263: colocate_with (from tensorflow.python.framework.ops) is deprecated and will be removed in a future version.\n",
            "Instructions for updating:\n",
            "Colocations handled automatically by placer.\n"
          ],
          "name": "stdout"
        }
      ]
    },
    {
      "metadata": {
        "id": "z2MZo6linAyN",
        "colab_type": "code",
        "colab": {
          "base_uri": "https://localhost:8080/",
          "height": 1411
        },
        "outputId": "2f15ee30-ebb8-4fd9-fb15-4e087382bca4"
      },
      "cell_type": "code",
      "source": [
        "our_model_attn.summary()"
      ],
      "execution_count": 3,
      "outputs": [
        {
          "output_type": "stream",
          "text": [
            "__________________________________________________________________________________________________\n",
            "Layer (type)                    Output Shape         Param #     Connected to                     \n",
            "==================================================================================================\n",
            "input_1 (InputLayer)            (None, 48, 48, 1)    0                                            \n",
            "__________________________________________________________________________________________________\n",
            "conv2d_1 (Conv2D)               (None, 48, 48, 64)   640         input_1[0][0]                    \n",
            "__________________________________________________________________________________________________\n",
            "batch_normalization_1 (BatchNor (None, 48, 48, 64)   256         conv2d_1[0][0]                   \n",
            "__________________________________________________________________________________________________\n",
            "conv2d_2 (Conv2D)               (None, 48, 48, 64)   36928       batch_normalization_1[0][0]      \n",
            "__________________________________________________________________________________________________\n",
            "batch_normalization_2 (BatchNor (None, 48, 48, 64)   256         conv2d_2[0][0]                   \n",
            "__________________________________________________________________________________________________\n",
            "max_pooling2d_1 (MaxPooling2D)  (None, 24, 24, 64)   0           batch_normalization_2[0][0]      \n",
            "__________________________________________________________________________________________________\n",
            "conv2d_3 (Conv2D)               (None, 24, 24, 128)  73856       max_pooling2d_1[0][0]            \n",
            "__________________________________________________________________________________________________\n",
            "batch_normalization_3 (BatchNor (None, 24, 24, 128)  512         conv2d_3[0][0]                   \n",
            "__________________________________________________________________________________________________\n",
            "conv2d_4 (Conv2D)               (None, 24, 24, 128)  147584      batch_normalization_3[0][0]      \n",
            "__________________________________________________________________________________________________\n",
            "batch_normalization_4 (BatchNor (None, 24, 24, 128)  512         conv2d_4[0][0]                   \n",
            "__________________________________________________________________________________________________\n",
            "max_pooling2d_2 (MaxPooling2D)  (None, 12, 12, 128)  0           batch_normalization_4[0][0]      \n",
            "__________________________________________________________________________________________________\n",
            "conv2d_5 (Conv2D)               (None, 12, 12, 512)  1638912     max_pooling2d_2[0][0]            \n",
            "__________________________________________________________________________________________________\n",
            "batch_normalization_5 (BatchNor (None, 12, 12, 512)  2048        conv2d_5[0][0]                   \n",
            "__________________________________________________________________________________________________\n",
            "conv2d_6 (Conv2D)               (None, 12, 12, 512)  6554112     batch_normalization_5[0][0]      \n",
            "__________________________________________________________________________________________________\n",
            "batch_normalization_6 (BatchNor (None, 12, 12, 512)  2048        conv2d_6[0][0]                   \n",
            "__________________________________________________________________________________________________\n",
            "max_pooling2d_3 (MaxPooling2D)  (None, 6, 6, 512)    0           batch_normalization_6[0][0]      \n",
            "__________________________________________________________________________________________________\n",
            "conv2d_7 (Conv2D)               (None, 6, 6, 512)    12845568    max_pooling2d_3[0][0]            \n",
            "__________________________________________________________________________________________________\n",
            "batch_normalization_7 (BatchNor (None, 6, 6, 512)    2048        conv2d_7[0][0]                   \n",
            "__________________________________________________________________________________________________\n",
            "conv2d_8 (Conv2D)               (None, 6, 6, 512)    12845568    batch_normalization_7[0][0]      \n",
            "__________________________________________________________________________________________________\n",
            "batch_normalization_8 (BatchNor (None, 6, 6, 512)    2048        conv2d_8[0][0]                   \n",
            "__________________________________________________________________________________________________\n",
            "max_pooling2d_4 (MaxPooling2D)  (None, 3, 3, 512)    0           batch_normalization_8[0][0]      \n",
            "__________________________________________________________________________________________________\n",
            "reshape_1 (Reshape)             (None, 9, 512)       0           max_pooling2d_4[0][0]            \n",
            "__________________________________________________________________________________________________\n",
            "dense_1 (Dense)                 (None, 9, 512)       262656      reshape_1[0][0]                  \n",
            "__________________________________________________________________________________________________\n",
            "reshape_2 (Reshape)             (None, 9, 8, 64)     0           dense_1[0][0]                    \n",
            "__________________________________________________________________________________________________\n",
            "lambda_1 (Lambda)               (None, 9, 8, 8)      0           reshape_2[0][0]                  \n",
            "                                                                 reshape_2[0][0]                  \n",
            "__________________________________________________________________________________________________\n",
            "lambda_2 (Lambda)               (None, 9, 8, 8)      0           lambda_1[0][0]                   \n",
            "__________________________________________________________________________________________________\n",
            "lambda_3 (Lambda)               (None, 9, 8, 64)     0           lambda_2[0][0]                   \n",
            "                                                                 reshape_2[0][0]                  \n",
            "__________________________________________________________________________________________________\n",
            "reshape_3 (Reshape)             (None, 9, 512)       0           lambda_3[0][0]                   \n",
            "__________________________________________________________________________________________________\n",
            "add_1 (Add)                     (None, 9, 512)       0           reshape_3[0][0]                  \n",
            "                                                                 reshape_1[0][0]                  \n",
            "__________________________________________________________________________________________________\n",
            "dense_2 (Dense)                 (None, 9, 32)        16416       add_1[0][0]                      \n",
            "__________________________________________________________________________________________________\n",
            "reshape_4 (Reshape)             (None, 3, 3, 32)     0           dense_2[0][0]                    \n",
            "__________________________________________________________________________________________________\n",
            "batch_normalization_9 (BatchNor (None, 3, 3, 32)     128         reshape_4[0][0]                  \n",
            "__________________________________________________________________________________________________\n",
            "flatten_1 (Flatten)             (None, 288)          0           batch_normalization_9[0][0]      \n",
            "__________________________________________________________________________________________________\n",
            "dense_3 (Dense)                 (None, 2048)         591872      flatten_1[0][0]                  \n",
            "__________________________________________________________________________________________________\n",
            "dense_4 (Dense)                 (None, 2048)         4196352     dense_3[0][0]                    \n",
            "__________________________________________________________________________________________________\n",
            "dense_5 (Dense)                 (None, 7)            14343       dense_4[0][0]                    \n",
            "==================================================================================================\n",
            "Total params: 39,234,663\n",
            "Trainable params: 39,229,735\n",
            "Non-trainable params: 4,928\n",
            "__________________________________________________________________________________________________\n"
          ],
          "name": "stdout"
        }
      ]
    },
    {
      "metadata": {
        "id": "pMypNZaETIlw",
        "colab_type": "code",
        "outputId": "40b3911d-e438-4786-d962-bc53fea73187",
        "colab": {
          "base_uri": "https://localhost:8080/",
          "height": 445
        }
      },
      "cell_type": "code",
      "source": [
        "our_model_history = our_model_attn.fit(X_train, y_train, batch_size=64, epochs=10, verbose=1, validation_data=(X_val, y_val))"
      ],
      "execution_count": 0,
      "outputs": [
        {
          "output_type": "stream",
          "text": [
            "WARNING:tensorflow:From /usr/local/lib/python3.6/dist-packages/tensorflow/python/ops/math_ops.py:3066: to_int32 (from tensorflow.python.ops.math_ops) is deprecated and will be removed in a future version.\n",
            "Instructions for updating:\n",
            "Use tf.cast instead.\n",
            "Train on 25838 samples, validate on 2871 samples\n",
            "Epoch 1/10\n",
            "25838/25838 [==============================] - 136s 5ms/step - loss: 1.7088 - acc: 0.3153 - val_loss: 1.6684 - val_acc: 0.3588\n",
            "Epoch 2/10\n",
            "25838/25838 [==============================] - 127s 5ms/step - loss: 1.3626 - acc: 0.4663 - val_loss: 1.4465 - val_acc: 0.4260\n",
            "Epoch 3/10\n",
            "25838/25838 [==============================] - 126s 5ms/step - loss: 1.1944 - acc: 0.5460 - val_loss: 1.2295 - val_acc: 0.5361\n",
            "Epoch 4/10\n",
            "25838/25838 [==============================] - 126s 5ms/step - loss: 1.0661 - acc: 0.5952 - val_loss: 1.2060 - val_acc: 0.5500\n",
            "Epoch 5/10\n",
            "25838/25838 [==============================] - 126s 5ms/step - loss: 0.9487 - acc: 0.6442 - val_loss: 1.1448 - val_acc: 0.5733\n",
            "Epoch 6/10\n",
            "25838/25838 [==============================] - 126s 5ms/step - loss: 0.8153 - acc: 0.6943 - val_loss: 1.1255 - val_acc: 0.6102\n",
            "Epoch 7/10\n",
            "25838/25838 [==============================] - 126s 5ms/step - loss: 0.6781 - acc: 0.7552 - val_loss: 1.1411 - val_acc: 0.6047\n",
            "Epoch 8/10\n",
            "25838/25838 [==============================] - 126s 5ms/step - loss: 0.5131 - acc: 0.8188 - val_loss: 1.3070 - val_acc: 0.5859\n",
            "Epoch 9/10\n",
            "25838/25838 [==============================] - 126s 5ms/step - loss: 0.3694 - acc: 0.8724 - val_loss: 1.4785 - val_acc: 0.5987\n",
            "Epoch 10/10\n",
            "25838/25838 [==============================] - 126s 5ms/step - loss: 0.2546 - acc: 0.9149 - val_loss: 1.5121 - val_acc: 0.6043\n"
          ],
          "name": "stdout"
        }
      ]
    },
    {
      "metadata": {
        "id": "OmdLPEql9OOv",
        "colab_type": "code",
        "outputId": "aed8d43c-51fb-4c1b-d195-0848692b1021",
        "colab": {
          "base_uri": "https://localhost:8080/",
          "height": 51
        }
      },
      "cell_type": "code",
      "source": [
        "our_model_attn.evaluate(X_test, y_test)"
      ],
      "execution_count": 0,
      "outputs": [
        {
          "output_type": "stream",
          "text": [
            "7178/7178 [==============================] - 15s 2ms/step\n"
          ],
          "name": "stdout"
        },
        {
          "output_type": "execute_result",
          "data": {
            "text/plain": [
              "[1.4858571157776967, 0.6136806910085825]"
            ]
          },
          "metadata": {
            "tags": []
          },
          "execution_count": 14
        }
      ]
    },
    {
      "metadata": {
        "colab_type": "code",
        "outputId": "baa8fe1d-8688-472b-d223-f8050b39b921",
        "id": "1yH3Ii-Iljn9",
        "colab": {
          "base_uri": "https://localhost:8080/",
          "height": 136
        }
      },
      "cell_type": "code",
      "source": [
        "from sklearn.metrics import confusion_matrix\n",
        "\n",
        "our_preds = our_model_attn.predict(X_test)\n",
        "confusion_matrix(y_test.argmax(axis=1), our_preds.argmax(axis=1))"
      ],
      "execution_count": 0,
      "outputs": [
        {
          "output_type": "execute_result",
          "data": {
            "text/plain": [
              "array([[ 388,   11,  170,   52,  214,   17,  106],\n",
              "       [  12,   54,   21,    7,   10,    2,    5],\n",
              "       [  46,    1,  549,   39,  248,   50,   91],\n",
              "       [  14,    0,   58, 1444,  129,   21,  108],\n",
              "       [  58,    1,  221,   53,  711,   12,  191],\n",
              "       [  10,    0,  192,   48,   22,  538,   21],\n",
              "       [  39,    1,  116,   84,  261,   11,  721]])"
            ]
          },
          "metadata": {
            "tags": []
          },
          "execution_count": 15
        }
      ]
    },
    {
      "metadata": {
        "colab_type": "code",
        "id": "aHd9VKEpljoA",
        "outputId": "a7010637-35a1-41b9-af10-9de6e075a456",
        "colab": {
          "base_uri": "https://localhost:8080/",
          "height": 255
        }
      },
      "cell_type": "code",
      "source": [
        "from sklearn.metrics import classification_report\n",
        "\n",
        "print(classification_report(y_test.argmax(axis=1), our_preds.argmax(axis=1)))"
      ],
      "execution_count": 0,
      "outputs": [
        {
          "output_type": "stream",
          "text": [
            "              precision    recall  f1-score   support\n",
            "\n",
            "           0       0.68      0.41      0.51       958\n",
            "           1       0.79      0.49      0.60       111\n",
            "           2       0.41      0.54      0.47      1024\n",
            "           3       0.84      0.81      0.82      1774\n",
            "           4       0.45      0.57      0.50      1247\n",
            "           5       0.83      0.65      0.73       831\n",
            "           6       0.58      0.58      0.58      1233\n",
            "\n",
            "   micro avg       0.61      0.61      0.61      7178\n",
            "   macro avg       0.65      0.58      0.60      7178\n",
            "weighted avg       0.64      0.61      0.62      7178\n",
            "\n"
          ],
          "name": "stdout"
        }
      ]
    },
    {
      "metadata": {
        "id": "PJZFRxZy0PdO",
        "colab_type": "code",
        "outputId": "aad17de1-df15-49c2-ac9d-192d0d391f35",
        "colab": {
          "base_uri": "https://localhost:8080/",
          "height": 549
        }
      },
      "cell_type": "code",
      "source": [
        "import matplotlib.pyplot as plt\n",
        "\n",
        "our_model_histories = [our_model_history]\n",
        "labels = [\"Our Model\"]\n",
        "plot(our_model_histories, labels, \"loss\")\n",
        "plot(our_model_histories, labels, \"accuracy\")"
      ],
      "execution_count": 0,
      "outputs": [
        {
          "output_type": "display_data",
          "data": {
            "image/png": "[encoded data removed]",
            "text/plain": [
              "<Figure size 432x288 with 1 Axes>"
            ]
          },
          "metadata": {
            "tags": []
          }
        },
        {
          "output_type": "display_data",
          "data": {
            "image/png": "[encoded data removed]",
            "text/plain": [
              "<Figure size 432x288 with 1 Axes>"
            ]
          },
          "metadata": {
            "tags": []
          }
        }
      ]
    },
    {
      "metadata": {
        "id": "cFIxIHMC5Rjw",
        "colab_type": "code",
        "outputId": "4c5c7510-1729-4bd6-dd8b-1f2a9ed64a4d",
        "colab": {
          "base_uri": "https://localhost:8080/",
          "height": 34
        }
      },
      "cell_type": "code",
      "source": [
        "our_model_attn.layers[11].output[0, :, :, 0]"
      ],
      "execution_count": 0,
      "outputs": [
        {
          "output_type": "execute_result",
          "data": {
            "text/plain": [
              "<tf.Tensor 'strided_slice:0' shape=(12, 12) dtype=float32>"
            ]
          },
          "metadata": {
            "tags": []
          },
          "execution_count": 18
        }
      ]
    },
    {
      "metadata": {
        "colab_type": "code",
        "id": "Qj3cJsGWpqta",
        "outputId": "4b293745-f042-47ec-af8b-b54c84b02d14",
        "colab": {
          "base_uri": "https://localhost:8080/",
          "height": 51
        }
      },
      "cell_type": "code",
      "source": [
        "!pip install -U -q PyDrive\n",
        "from pydrive.auth import GoogleAuth\n",
        "from pydrive.drive import GoogleDrive \n",
        "from google.colab import auth \n",
        "from oauth2client.client import GoogleCredentials\n",
        "\n",
        "auth.authenticate_user()\n",
        "gauth = GoogleAuth()\n",
        "gauth.credentials = GoogleCredentials.get_application_default()            \n",
        "drive = GoogleDrive(gauth)"
      ],
      "execution_count": 0,
      "outputs": [
        {
          "output_type": "stream",
          "text": [
            "\u001b[?25l\r\u001b[K    1% |▎                               | 10kB 22.7MB/s eta 0:00:01\r\u001b[K    2% |▋                               | 20kB 2.2MB/s eta 0:00:01\r\u001b[K    3% |█                               | 30kB 3.2MB/s eta 0:00:01\r\u001b[K    4% |█▎                              | 40kB 2.1MB/s eta 0:00:01\r\u001b[K    5% |█▋                              | 51kB 2.6MB/s eta 0:00:01\r\u001b[K    6% |██                              | 61kB 3.1MB/s eta 0:00:01\r\u001b[K    7% |██▎                             | 71kB 3.5MB/s eta 0:00:01\r\u001b[K    8% |██▋                             | 81kB 3.9MB/s eta 0:00:01\r\u001b[K    9% |███                             | 92kB 4.4MB/s eta 0:00:01\r\u001b[K    10% |███▎                            | 102kB 3.4MB/s eta 0:00:01\r\u001b[K    11% |███▋                            | 112kB 3.5MB/s eta 0:00:01\r\u001b[K    12% |████                            | 122kB 4.9MB/s eta 0:00:01\r\u001b[K    13% |████▎                           | 133kB 4.9MB/s eta 0:00:01\r\u001b[K    14% |████▋                           | 143kB 8.9MB/s eta 0:00:01\r\u001b[K    15% |█████                           | 153kB 8.9MB/s eta 0:00:01\r\u001b[K    16% |█████▎                          | 163kB 8.9MB/s eta 0:00:01\r\u001b[K    17% |█████▋                          | 174kB 8.9MB/s eta 0:00:01\r\u001b[K    18% |██████                          | 184kB 9.0MB/s eta 0:00:01\r\u001b[K    19% |██████▎                         | 194kB 9.0MB/s eta 0:00:01\r\u001b[K    20% |██████▋                         | 204kB 34.6MB/s eta 0:00:01\r\u001b[K    21% |███████                         | 215kB 10.3MB/s eta 0:00:01\r\u001b[K    22% |███████▎                        | 225kB 10.3MB/s eta 0:00:01\r\u001b[K    23% |███████▋                        | 235kB 10.5MB/s eta 0:00:01\r\u001b[K    24% |████████                        | 245kB 10.5MB/s eta 0:00:01\r\u001b[K    25% |████████▎                       | 256kB 10.5MB/s eta 0:00:01\r\u001b[K    26% |████████▋                       | 266kB 10.1MB/s eta 0:00:01\r\u001b[K    27% |█████████                       | 276kB 10.2MB/s eta 0:00:01\r\u001b[K    29% |█████████▎                      | 286kB 10.1MB/s eta 0:00:01\r\u001b[K    30% |█████████▋                      | 296kB 10.1MB/s eta 0:00:01\r\u001b[K    31% |██████████                      | 307kB 10.4MB/s eta 0:00:01\r\u001b[K    32% |██████████▎                     | 317kB 35.1MB/s eta 0:00:01\r\u001b[K    33% |██████████▋                     | 327kB 34.7MB/s eta 0:00:01\r\u001b[K    34% |███████████                     | 337kB 35.7MB/s eta 0:00:01\r\u001b[K    35% |███████████▎                    | 348kB 32.6MB/s eta 0:00:01\r\u001b[K    36% |███████████▋                    | 358kB 34.2MB/s eta 0:00:01\r\u001b[K    37% |████████████                    | 368kB 41.0MB/s eta 0:00:01\r\u001b[K    38% |████████████▎                   | 378kB 40.5MB/s eta 0:00:01\r\u001b[K    39% |████████████▋                   | 389kB 41.1MB/s eta 0:00:01\r\u001b[K    40% |█████████████                   | 399kB 13.1MB/s eta 0:00:01\r\u001b[K    41% |█████████████▎                  | 409kB 12.9MB/s eta 0:00:01\r\u001b[K    42% |█████████████▋                  | 419kB 12.9MB/s eta 0:00:01\r\u001b[K    43% |██████████████                  | 430kB 13.0MB/s eta 0:00:01\r\u001b[K    44% |██████████████▎                 | 440kB 12.9MB/s eta 0:00:01\r\u001b[K    45% |██████████████▋                 | 450kB 13.1MB/s eta 0:00:01\r\u001b[K    46% |███████████████                 | 460kB 12.8MB/s eta 0:00:01\r\u001b[K    47% |███████████████▎                | 471kB 12.8MB/s eta 0:00:01\r\u001b[K    48% |███████████████▋                | 481kB 12.8MB/s eta 0:00:01\r\u001b[K    49% |████████████████                | 491kB 12.8MB/s eta 0:00:01\r\u001b[K    50% |████████████████▎               | 501kB 38.0MB/s eta 0:00:01\r\u001b[K    51% |████████████████▋               | 512kB 36.4MB/s eta 0:00:01\r\u001b[K    52% |█████████████████               | 522kB 37.4MB/s eta 0:00:01\r\u001b[K    53% |█████████████████▎              | 532kB 37.7MB/s eta 0:00:01\r\u001b[K    54% |█████████████████▋              | 542kB 37.2MB/s eta 0:00:01\r\u001b[K    55% |██████████████████              | 552kB 40.9MB/s eta 0:00:01\r\u001b[K    57% |██████████████████▎             | 563kB 44.3MB/s eta 0:00:01\r\u001b[K    58% |██████████████████▋             | 573kB 44.2MB/s eta 0:00:01\r\u001b[K    59% |███████████████████             | 583kB 45.2MB/s eta 0:00:01\r\u001b[K    60% |███████████████████▎            | 593kB 45.9MB/s eta 0:00:01\r\u001b[K    61% |███████████████████▋            | 604kB 46.9MB/s eta 0:00:01\r\u001b[K    62% |████████████████████            | 614kB 51.5MB/s eta 0:00:01\r\u001b[K    63% |████████████████████▎           | 624kB 51.4MB/s eta 0:00:01\r\u001b[K    64% |████████████████████▋           | 634kB 52.0MB/s eta 0:00:01\r\u001b[K    65% |█████████████████████           | 645kB 51.9MB/s eta 0:00:01\r\u001b[K    66% |█████████████████████▎          | 655kB 50.9MB/s eta 0:00:01\r\u001b[K    67% |█████████████████████▋          | 665kB 40.9MB/s eta 0:00:01\r\u001b[K    68% |██████████████████████          | 675kB 40.3MB/s eta 0:00:01\r\u001b[K    69% |██████████████████████▎         | 686kB 39.6MB/s eta 0:00:01\r\u001b[K    70% |██████████████████████▋         | 696kB 39.9MB/s eta 0:00:01\r\u001b[K    71% |███████████████████████         | 706kB 39.5MB/s eta 0:00:01\r\u001b[K    72% |███████████████████████▎        | 716kB 39.8MB/s eta 0:00:01\r\u001b[K    73% |███████████████████████▋        | 727kB 20.9MB/s eta 0:00:01\r\u001b[K    74% |████████████████████████        | 737kB 20.6MB/s eta 0:00:01\r\u001b[K    75% |████████████████████████▎       | 747kB 20.6MB/s eta 0:00:01\r\u001b[K    76% |████████████████████████▋       | 757kB 20.3MB/s eta 0:00:01\r\u001b[K    77% |████████████████████████▉       | 768kB 22.2MB/s eta 0:00:01\r\u001b[K    78% |█████████████████████████▏      | 778kB 22.2MB/s eta 0:00:01\r\u001b[K    79% |█████████████████████████▌      | 788kB 21.6MB/s eta 0:00:01\r\u001b[K    80% |█████████████████████████▉      | 798kB 21.4MB/s eta 0:00:01\r\u001b[K    81% |██████████████████████████▏     | 808kB 21.5MB/s eta 0:00:01\r\u001b[K    82% |██████████████████████████▌     | 819kB 21.6MB/s eta 0:00:01\r\u001b[K    83% |██████████████████████████▉     | 829kB 42.5MB/s eta 0:00:01\r\u001b[K    85% |███████████████████████████▏    | 839kB 42.9MB/s eta 0:00:01\r\u001b[K    86% |███████████████████████████▌    | 849kB 43.1MB/s eta 0:00:01\r\u001b[K    87% |███████████████████████████▉    | 860kB 40.5MB/s eta 0:00:01\r\u001b[K    88% |████████████████████████████▏   | 870kB 40.5MB/s eta 0:00:01\r\u001b[K    89% |████████████████████████████▌   | 880kB 41.7MB/s eta 0:00:01\r\u001b[K    90% |████████████████████████████▉   | 890kB 44.1MB/s eta 0:00:01\r\u001b[K    91% |█████████████████████████████▏  | 901kB 44.2MB/s eta 0:00:01\r\u001b[K    92% |█████████████████████████████▌  | 911kB 44.4MB/s eta 0:00:01\r\u001b[K    93% |█████████████████████████████▉  | 921kB 43.7MB/s eta 0:00:01\r\u001b[K    94% |██████████████████████████████▏ | 931kB 44.3MB/s eta 0:00:01\r\u001b[K    95% |██████████████████████████████▌ | 942kB 44.7MB/s eta 0:00:01\r\u001b[K    96% |██████████████████████████████▉ | 952kB 44.5MB/s eta 0:00:01\r\u001b[K    97% |███████████████████████████████▏| 962kB 49.4MB/s eta 0:00:01\r\u001b[K    98% |███████████████████████████████▌| 972kB 49.8MB/s eta 0:00:01\r\u001b[K    99% |███████████████████████████████▉| 983kB 49.2MB/s eta 0:00:01\r\u001b[K    100% |████████████████████████████████| 993kB 20.3MB/s \n",
            "\u001b[?25h  Building wheel for PyDrive (setup.py) ... \u001b[?25ldone\n",
            "\u001b[?25h"
          ],
          "name": "stdout"
        }
      ]
    },
    {
      "metadata": {
        "colab_type": "code",
        "id": "YKBruVmTpqtd",
        "colab": {}
      },
      "cell_type": "code",
      "source": [
        "# Save keras model.\n",
        "our_model_attn.save('our_model_attn.h5')\n",
        "model_file = drive.CreateFile({'our_model_attn' : 'our_model_attn.h5'})                       \n",
        "model_file.SetContentFile('our_model_attn.h5')                       \n",
        "model_file.Upload()"
      ],
      "execution_count": 0,
      "outputs": []
    },
    {
      "metadata": {
        "id": "Zkpi_xqzZKQH",
        "colab_type": "code",
        "colab": {}
      },
      "cell_type": "code",
      "source": [
        "import keras\n",
        "from keras.models import load_model\n",
        "our_model_attn = load_model('/content/drive/My Drive/our_model_attn.h5')"
      ],
      "execution_count": 0,
      "outputs": []
    },
    {
      "metadata": {
        "id": "kLDgRtnSYvJK",
        "colab_type": "text"
      },
      "cell_type": "markdown",
      "source": [
        "# Seeing Attention"
      ]
    },
    {
      "metadata": {
        "id": "YCpeX8WXqO-j",
        "colab_type": "code",
        "colab": {}
      },
      "cell_type": "code",
      "source": [
        "view_attention_layer = Model(inputs=our_model_attn.input, outputs=our_model_attn.layers[17].input)"
      ],
      "execution_count": 0,
      "outputs": []
    },
    {
      "metadata": {
        "id": "m8D8N2R56Y_X",
        "colab_type": "code",
        "colab": {}
      },
      "cell_type": "code",
      "source": [
        "attention_features = view_attention_layer.predict(data['pixels'].iloc[257].reshape((1, 48, 48, 1)))"
      ],
      "execution_count": 0,
      "outputs": []
    },
    {
      "metadata": {
        "id": "lU3FQqGu6fVX",
        "colab_type": "code",
        "outputId": "a0b5ea1f-983b-4c21-82b4-e97757787488",
        "colab": {
          "base_uri": "https://localhost:8080/",
          "height": 119
        }
      },
      "cell_type": "code",
      "source": [
        "print(attention_features[0, :, :, 0])"
      ],
      "execution_count": 0,
      "outputs": [
        {
          "output_type": "stream",
          "text": [
            "[[ 0.         0.        17.690065   0.         0.        16.601841 ]\n",
            " [ 0.        12.474748   4.948458   0.         0.         0.       ]\n",
            " [15.27964   41.666817   0.         0.         0.         0.       ]\n",
            " [ 1.3648171  0.         0.         7.731223   0.         0.       ]\n",
            " [ 1.0553778 15.832195  16.847467  36.524105  22.208633  13.79007  ]\n",
            " [ 0.        15.331693   0.2949968 21.04674   17.006655   0.       ]]\n"
          ],
          "name": "stdout"
        }
      ]
    },
    {
      "metadata": {
        "id": "UyLx7RYKYyYC",
        "colab_type": "text"
      },
      "cell_type": "markdown",
      "source": [
        "**Attention of surprised image**"
      ]
    },
    {
      "metadata": {
        "id": "4EzAuRMN79LG",
        "colab_type": "code",
        "outputId": "6037589c-305e-4e3a-a4c3-4434196a31d9",
        "colab": {
          "base_uri": "https://localhost:8080/",
          "height": 286
        }
      },
      "cell_type": "code",
      "source": [
        "plt.imshow(data['pixels'].iloc[257].reshape((48, 48)), cmap='gray')"
      ],
      "execution_count": 0,
      "outputs": [
        {
          "output_type": "execute_result",
          "data": {
            "text/plain": [
              "<matplotlib.image.AxesImage at 0x7f5e6c518c88>"
            ]
          },
          "metadata": {
            "tags": []
          },
          "execution_count": 25
        },
        {
          "output_type": "display_data",
          "data": {
            "image/png": "[encoded data removed]",
            "text/plain": [
              "<Figure size 432x288 with 1 Axes>"
            ]
          },
          "metadata": {
            "tags": []
          }
        }
      ]
    },
    {
      "metadata": {
        "id": "UKoRRRd36o12",
        "colab_type": "code",
        "outputId": "b15d3444-d270-47bb-e9d8-02d918cf7b06",
        "colab": {
          "base_uri": "https://localhost:8080/",
          "height": 286
        }
      },
      "cell_type": "code",
      "source": [
        "import matplotlib.pyplot as plt\n",
        "plt.imshow(attention_features[0, :, :, 0], cmap='gray')"
      ],
      "execution_count": 0,
      "outputs": [
        {
          "output_type": "execute_result",
          "data": {
            "text/plain": [
              "<matplotlib.image.AxesImage at 0x7f5e6c4d8c88>"
            ]
          },
          "metadata": {
            "tags": []
          },
          "execution_count": 26
        },
        {
          "output_type": "display_data",
          "data": {
            "image/png": "[encoded data removed]",
            "text/plain": [
              "<Figure size 432x288 with 1 Axes>"
            ]
          },
          "metadata": {
            "tags": []
          }
        }
      ]
    },
    {
      "metadata": {
        "id": "HNIJ34nvY5Xb",
        "colab_type": "text"
      },
      "cell_type": "markdown",
      "source": [
        "**Attention of angry image**"
      ]
    },
    {
      "metadata": {
        "colab_type": "code",
        "id": "3dMNC31znnch",
        "colab": {}
      },
      "cell_type": "code",
      "source": [
        "attention_features = view_attention_layer.predict(data['pixels'].iloc[8500].reshape((1, 48, 48, 1)))"
      ],
      "execution_count": 0,
      "outputs": []
    },
    {
      "metadata": {
        "id": "bRRn4swlnpUu",
        "colab_type": "code",
        "outputId": "746504f6-5b42-41d8-c143-11f0f5f50dc9",
        "colab": {
          "base_uri": "https://localhost:8080/",
          "height": 286
        }
      },
      "cell_type": "code",
      "source": [
        "plt.imshow(data['pixels'].iloc[8500].reshape((48, 48)), cmap='gray')"
      ],
      "execution_count": 0,
      "outputs": [
        {
          "output_type": "execute_result",
          "data": {
            "text/plain": [
              "<matplotlib.image.AxesImage at 0x7f5e6c4366a0>"
            ]
          },
          "metadata": {
            "tags": []
          },
          "execution_count": 28
        },
        {
          "output_type": "display_data",
          "data": {
            "image/png": "[encoded data removed]",
            "text/plain": [
              "<Figure size 432x288 with 1 Axes>"
            ]
          },
          "metadata": {
            "tags": []
          }
        }
      ]
    },
    {
      "metadata": {
        "colab_type": "code",
        "outputId": "f3c07622-59ef-4a1a-b6e3-85907b8005cc",
        "id": "ZnOMbydennck",
        "colab": {
          "base_uri": "https://localhost:8080/",
          "height": 286
        }
      },
      "cell_type": "code",
      "source": [
        "import matplotlib.pyplot as plt\n",
        "plt.imshow(attention_features[0, :, :, 0], cmap='gray')"
      ],
      "execution_count": 0,
      "outputs": [
        {
          "output_type": "execute_result",
          "data": {
            "text/plain": [
              "<matplotlib.image.AxesImage at 0x7f5e6c4077b8>"
            ]
          },
          "metadata": {
            "tags": []
          },
          "execution_count": 29
        },
        {
          "output_type": "display_data",
          "data": {
            "image/png": "[encoded data removed]",
            "text/plain": [
              "<Figure size 432x288 with 1 Axes>"
            ]
          },
          "metadata": {
            "tags": []
          }
        }
      ]
    },
    {
      "metadata": {
        "colab_type": "code",
        "outputId": "5d6e9c14-8b80-4d96-c07b-fca050acbe0a",
        "id": "_ZZacPu-oObo",
        "colab": {
          "base_uri": "https://localhost:8080/",
          "height": 286
        }
      },
      "cell_type": "code",
      "source": [
        "plt.imshow(data['pixels'].iloc[10016].reshape((48, 48)), cmap='gray')"
      ],
      "execution_count": 0,
      "outputs": [
        {
          "output_type": "execute_result",
          "data": {
            "text/plain": [
              "<matplotlib.image.AxesImage at 0x7f5e6c363278>"
            ]
          },
          "metadata": {
            "tags": []
          },
          "execution_count": 30
        },
        {
          "output_type": "display_data",
          "data": {
            "image/png": "[encoded data removed]",
            "text/plain": [
              "<Figure size 432x288 with 1 Axes>"
            ]
          },
          "metadata": {
            "tags": []
          }
        }
      ]
    },
    {
      "metadata": {
        "id": "WLGgSqv2oZ6n",
        "colab_type": "code",
        "outputId": "0114a4ae-28bd-4560-ae09-d83f0e810771",
        "colab": {
          "base_uri": "https://localhost:8080/",
          "height": 286
        }
      },
      "cell_type": "code",
      "source": [
        "attention_features = view_attention_layer.predict(data['pixels'].iloc[10016].reshape((1, 48, 48, 1)))\n",
        "plt.imshow(attention_features[0, :, :, 0], cmap='gray')"
      ],
      "execution_count": 0,
      "outputs": [
        {
          "output_type": "execute_result",
          "data": {
            "text/plain": [
              "<matplotlib.image.AxesImage at 0x7f5e6c332860>"
            ]
          },
          "metadata": {
            "tags": []
          },
          "execution_count": 31
        },
        {
          "output_type": "display_data",
          "data": {
            "image/png": "[encoded data removed]",
            "text/plain": [
              "<Figure size 432x288 with 1 Axes>"
            ]
          },
          "metadata": {
            "tags": []
          }
        }
      ]
    },
    {
      "metadata": {
        "id": "ArlP9zudY-LO",
        "colab_type": "text"
      },
      "cell_type": "markdown",
      "source": [
        "**Attention of happy image**"
      ]
    },
    {
      "metadata": {
        "colab_type": "code",
        "outputId": "2c79f605-bf62-4f68-b0a5-2799d9c2ad4a",
        "id": "p_Ry3lfOFyH0",
        "colab": {
          "base_uri": "https://localhost:8080/",
          "height": 286
        }
      },
      "cell_type": "code",
      "source": [
        "plt.imshow(data['pixels'].iloc[17008].reshape((48, 48)), cmap='gray')"
      ],
      "execution_count": 0,
      "outputs": [
        {
          "output_type": "execute_result",
          "data": {
            "text/plain": [
              "<matplotlib.image.AxesImage at 0x7f5e6b0b1b70>"
            ]
          },
          "metadata": {
            "tags": []
          },
          "execution_count": 96
        },
        {
          "output_type": "display_data",
          "data": {
            "image/png": "[encoded data removed]",
            "text/plain": [
              "<Figure size 432x288 with 1 Axes>"
            ]
          },
          "metadata": {
            "tags": []
          }
        }
      ]
    },
    {
      "metadata": {
        "colab_type": "code",
        "outputId": "dc4a561a-879f-4506-8370-507d1de47e97",
        "id": "5DXTIKIaFyH4",
        "colab": {
          "base_uri": "https://localhost:8080/",
          "height": 286
        }
      },
      "cell_type": "code",
      "source": [
        "attention_features = view_attention_layer.predict(data['pixels'].iloc[17008].reshape((1, 48, 48, 1)))\n",
        "plt.imshow(attention_features[0, :, :, 0], cmap='gray')"
      ],
      "execution_count": 0,
      "outputs": [
        {
          "output_type": "execute_result",
          "data": {
            "text/plain": [
              "<matplotlib.image.AxesImage at 0x7f5e6b08a198>"
            ]
          },
          "metadata": {
            "tags": []
          },
          "execution_count": 97
        },
        {
          "output_type": "display_data",
          "data": {
            "image/png": "[encoded data removed]",
            "text/plain": [
              "<Figure size 432x288 with 1 Axes>"
            ]
          },
          "metadata": {
            "tags": []
          }
        }
      ]
    }
  ]
}